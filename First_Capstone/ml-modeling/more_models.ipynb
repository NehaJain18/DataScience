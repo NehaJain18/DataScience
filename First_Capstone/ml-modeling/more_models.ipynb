{
 "cells": [
  {
   "cell_type": "markdown",
   "metadata": {},
   "source": [
    "# More Models\n",
    "\n",
    "[Load data using Kaggle APIs](#section1)\n",
    "\n",
    "[Train test splilt](#section2)\n",
    "\n",
    "[KNN](#section3)\n",
    "\n",
    "[Using subset of data](#section4)\n",
    "\n",
    "[Random Forest](#section5)\n",
    "\n",
    "[Gradient Boost](#section6)\n",
    "\n",
    "[MultinomianlNB](#section7)\n",
    "\n",
    "[SVM](#section8)\n",
    "\n",
    "[Meta Learners](#section9)\n",
    "\n",
    "[Feature Generation](#section10)\n",
    "\n",
    "[Ensemble Voting](#section11)\n",
    "\n",
    "[Extreme Gradient Boost](#section12)\n",
    "\n",
    "[Load model and predict](#section13)"
   ]
  },
  {
   "cell_type": "code",
   "execution_count": 0,
   "metadata": {
    "colab": {},
    "colab_type": "code",
    "collapsed": true,
    "id": "tO1H62lvwgBq"
   },
   "outputs": [],
   "source": [
    "import pandas as pd\n",
    "import numpy as np\n",
    "import os\n",
    "import matplotlib.pyplot as plt\n",
    "import seaborn as sns\n",
    "from sklearn.model_selection import StratifiedShuffleSplit, GridSearchCV\n",
    "from sklearn.neighbors import KNeighborsClassifier\n",
    "from sklearn.ensemble import RandomForestClassifier,GradientBoostingClassifier\n",
    "from sklearn.naive_bayes import MultinomialNB\n",
    "from sklearn.svm import SVC\n",
    "from sklearn.linear_model import LogisticRegression\n",
    "from xgboost.sklearn import XGBClassifier\n",
    "from mlxtend.classifier import StackingClassifier,EnsembleVoteClassifier\n",
    "from sklearn.metrics import log_loss,classification_report,confusion_matrix, roc_curve, roc_auc_score,accuracy_score\n",
    "\n",
    "\n",
    "%matplotlib inline\n",
    "random_seed = 42\n",
    "np.random.seed(random_seed)"
   ]
  },
  {
   "cell_type": "markdown",
   "metadata": {},
   "source": [
    "## Load data using Kaggle APIs"
   ]
  },
  {
   "cell_type": "code",
   "execution_count": 0,
   "metadata": {
    "colab": {},
    "colab_type": "code",
    "collapsed": true,
    "id": "Mr-6pdScMCpy"
   },
   "outputs": [],
   "source": [
    "!pip install mlxtend"
   ]
  },
  {
   "cell_type": "code",
   "execution_count": 0,
   "metadata": {
    "colab": {},
    "colab_type": "code",
    "collapsed": true,
    "id": "ByebutyuxNeP"
   },
   "outputs": [],
   "source": [
    "!pip install kaggle-cli"
   ]
  },
  {
   "cell_type": "code",
   "execution_count": 0,
   "metadata": {
    "colab": {},
    "colab_type": "code",
    "collapsed": true,
    "id": "aa6DKo-kxU0d"
   },
   "outputs": [],
   "source": [
    "!kg download -u nehajainsurana -p IL0ve@rsh -c otto-group-product-classification-challenge"
   ]
  },
  {
   "cell_type": "code",
   "execution_count": 23,
   "metadata": {
    "colab": {
     "base_uri": "https://localhost:8080/",
     "height": 52
    },
    "colab_type": "code",
    "id": "9QeLW7s2xuyh",
    "outputId": "4f39a070-31dd-40ca-967d-904d1170d212"
   },
   "outputs": [
    {
     "name": "stdout",
     "output_type": "stream",
     "text": [
      "gradient_boost_model  sampleSubmission.csv  test.csv.zip  train.csv.zip\n",
      "sample_data\t      test.csv\t\t    train.csv\n"
     ]
    }
   ],
   "source": [
    "!ls"
   ]
  },
  {
   "cell_type": "code",
   "execution_count": 6,
   "metadata": {
    "colab": {
     "base_uri": "https://localhost:8080/",
     "height": 87
    },
    "colab_type": "code",
    "id": "U6wujR6UxvOx",
    "outputId": "801d14cf-ef1f-4041-ca75-f286bc6cff3e"
   },
   "outputs": [
    {
     "name": "stdout",
     "output_type": "stream",
     "text": [
      "Archive:  test.csv.zip\n",
      "  inflating: test.csv                \n",
      "Archive:  train.csv.zip\n",
      "  inflating: train.csv               \n"
     ]
    }
   ],
   "source": [
    "!unzip test.csv.zip\n",
    "!unzip train.csv.zip"
   ]
  },
  {
   "cell_type": "code",
   "execution_count": 7,
   "metadata": {
    "colab": {
     "base_uri": "https://localhost:8080/",
     "height": 251
    },
    "colab_type": "code",
    "id": "vPmXnjIfxvRj",
    "outputId": "32772138-08c9-4d22-d192-415c533c321d"
   },
   "outputs": [
    {
     "data": {
      "text/html": [
       "<div>\n",
       "<style scoped>\n",
       "    .dataframe tbody tr th:only-of-type {\n",
       "        vertical-align: middle;\n",
       "    }\n",
       "\n",
       "    .dataframe tbody tr th {\n",
       "        vertical-align: top;\n",
       "    }\n",
       "\n",
       "    .dataframe thead th {\n",
       "        text-align: right;\n",
       "    }\n",
       "</style>\n",
       "<table border=\"1\" class=\"dataframe\">\n",
       "  <thead>\n",
       "    <tr style=\"text-align: right;\">\n",
       "      <th></th>\n",
       "      <th>id</th>\n",
       "      <th>feat_1</th>\n",
       "      <th>feat_2</th>\n",
       "      <th>feat_3</th>\n",
       "      <th>feat_4</th>\n",
       "      <th>feat_5</th>\n",
       "      <th>feat_6</th>\n",
       "      <th>feat_7</th>\n",
       "      <th>feat_8</th>\n",
       "      <th>feat_9</th>\n",
       "      <th>...</th>\n",
       "      <th>feat_85</th>\n",
       "      <th>feat_86</th>\n",
       "      <th>feat_87</th>\n",
       "      <th>feat_88</th>\n",
       "      <th>feat_89</th>\n",
       "      <th>feat_90</th>\n",
       "      <th>feat_91</th>\n",
       "      <th>feat_92</th>\n",
       "      <th>feat_93</th>\n",
       "      <th>target</th>\n",
       "    </tr>\n",
       "  </thead>\n",
       "  <tbody>\n",
       "    <tr>\n",
       "      <th>0</th>\n",
       "      <td>1</td>\n",
       "      <td>1</td>\n",
       "      <td>0</td>\n",
       "      <td>0</td>\n",
       "      <td>0</td>\n",
       "      <td>0</td>\n",
       "      <td>0</td>\n",
       "      <td>0</td>\n",
       "      <td>0</td>\n",
       "      <td>0</td>\n",
       "      <td>...</td>\n",
       "      <td>1</td>\n",
       "      <td>0</td>\n",
       "      <td>0</td>\n",
       "      <td>0</td>\n",
       "      <td>0</td>\n",
       "      <td>0</td>\n",
       "      <td>0</td>\n",
       "      <td>0</td>\n",
       "      <td>0</td>\n",
       "      <td>Class_1</td>\n",
       "    </tr>\n",
       "    <tr>\n",
       "      <th>1</th>\n",
       "      <td>2</td>\n",
       "      <td>0</td>\n",
       "      <td>0</td>\n",
       "      <td>0</td>\n",
       "      <td>0</td>\n",
       "      <td>0</td>\n",
       "      <td>0</td>\n",
       "      <td>0</td>\n",
       "      <td>1</td>\n",
       "      <td>0</td>\n",
       "      <td>...</td>\n",
       "      <td>0</td>\n",
       "      <td>0</td>\n",
       "      <td>0</td>\n",
       "      <td>0</td>\n",
       "      <td>0</td>\n",
       "      <td>0</td>\n",
       "      <td>0</td>\n",
       "      <td>0</td>\n",
       "      <td>0</td>\n",
       "      <td>Class_1</td>\n",
       "    </tr>\n",
       "    <tr>\n",
       "      <th>2</th>\n",
       "      <td>3</td>\n",
       "      <td>0</td>\n",
       "      <td>0</td>\n",
       "      <td>0</td>\n",
       "      <td>0</td>\n",
       "      <td>0</td>\n",
       "      <td>0</td>\n",
       "      <td>0</td>\n",
       "      <td>1</td>\n",
       "      <td>0</td>\n",
       "      <td>...</td>\n",
       "      <td>0</td>\n",
       "      <td>0</td>\n",
       "      <td>0</td>\n",
       "      <td>0</td>\n",
       "      <td>0</td>\n",
       "      <td>0</td>\n",
       "      <td>0</td>\n",
       "      <td>0</td>\n",
       "      <td>0</td>\n",
       "      <td>Class_1</td>\n",
       "    </tr>\n",
       "    <tr>\n",
       "      <th>3</th>\n",
       "      <td>4</td>\n",
       "      <td>1</td>\n",
       "      <td>0</td>\n",
       "      <td>0</td>\n",
       "      <td>1</td>\n",
       "      <td>6</td>\n",
       "      <td>1</td>\n",
       "      <td>5</td>\n",
       "      <td>0</td>\n",
       "      <td>0</td>\n",
       "      <td>...</td>\n",
       "      <td>0</td>\n",
       "      <td>1</td>\n",
       "      <td>2</td>\n",
       "      <td>0</td>\n",
       "      <td>0</td>\n",
       "      <td>0</td>\n",
       "      <td>0</td>\n",
       "      <td>0</td>\n",
       "      <td>0</td>\n",
       "      <td>Class_1</td>\n",
       "    </tr>\n",
       "    <tr>\n",
       "      <th>4</th>\n",
       "      <td>5</td>\n",
       "      <td>0</td>\n",
       "      <td>0</td>\n",
       "      <td>0</td>\n",
       "      <td>0</td>\n",
       "      <td>0</td>\n",
       "      <td>0</td>\n",
       "      <td>0</td>\n",
       "      <td>0</td>\n",
       "      <td>0</td>\n",
       "      <td>...</td>\n",
       "      <td>1</td>\n",
       "      <td>0</td>\n",
       "      <td>0</td>\n",
       "      <td>0</td>\n",
       "      <td>0</td>\n",
       "      <td>1</td>\n",
       "      <td>0</td>\n",
       "      <td>0</td>\n",
       "      <td>0</td>\n",
       "      <td>Class_1</td>\n",
       "    </tr>\n",
       "  </tbody>\n",
       "</table>\n",
       "<p>5 rows × 95 columns</p>\n",
       "</div>"
      ],
      "text/plain": [
       "   id  feat_1  feat_2  feat_3  feat_4  feat_5  feat_6  feat_7  feat_8  feat_9  \\\n",
       "0   1       1       0       0       0       0       0       0       0       0   \n",
       "1   2       0       0       0       0       0       0       0       1       0   \n",
       "2   3       0       0       0       0       0       0       0       1       0   \n",
       "3   4       1       0       0       1       6       1       5       0       0   \n",
       "4   5       0       0       0       0       0       0       0       0       0   \n",
       "\n",
       "    ...     feat_85  feat_86  feat_87  feat_88  feat_89  feat_90  feat_91  \\\n",
       "0   ...           1        0        0        0        0        0        0   \n",
       "1   ...           0        0        0        0        0        0        0   \n",
       "2   ...           0        0        0        0        0        0        0   \n",
       "3   ...           0        1        2        0        0        0        0   \n",
       "4   ...           1        0        0        0        0        1        0   \n",
       "\n",
       "   feat_92  feat_93   target  \n",
       "0        0        0  Class_1  \n",
       "1        0        0  Class_1  \n",
       "2        0        0  Class_1  \n",
       "3        0        0  Class_1  \n",
       "4        0        0  Class_1  \n",
       "\n",
       "[5 rows x 95 columns]"
      ]
     },
     "execution_count": 7,
     "metadata": {
      "tags": []
     },
     "output_type": "execute_result"
    }
   ],
   "source": [
    "df = pd.read_csv(\"train.csv\")\n",
    "df.head()"
   ]
  },
  {
   "cell_type": "code",
   "execution_count": 8,
   "metadata": {
    "colab": {
     "base_uri": "https://localhost:8080/",
     "height": 251
    },
    "colab_type": "code",
    "id": "yDif4N9NzIe5",
    "outputId": "e9ee8325-dcc7-4a37-ee1b-42963323741a"
   },
   "outputs": [
    {
     "data": {
      "text/html": [
       "<div>\n",
       "<style scoped>\n",
       "    .dataframe tbody tr th:only-of-type {\n",
       "        vertical-align: middle;\n",
       "    }\n",
       "\n",
       "    .dataframe tbody tr th {\n",
       "        vertical-align: top;\n",
       "    }\n",
       "\n",
       "    .dataframe thead th {\n",
       "        text-align: right;\n",
       "    }\n",
       "</style>\n",
       "<table border=\"1\" class=\"dataframe\">\n",
       "  <thead>\n",
       "    <tr style=\"text-align: right;\">\n",
       "      <th></th>\n",
       "      <th>feat_1</th>\n",
       "      <th>feat_2</th>\n",
       "      <th>feat_3</th>\n",
       "      <th>feat_4</th>\n",
       "      <th>feat_5</th>\n",
       "      <th>feat_6</th>\n",
       "      <th>feat_7</th>\n",
       "      <th>feat_8</th>\n",
       "      <th>feat_9</th>\n",
       "      <th>feat_10</th>\n",
       "      <th>...</th>\n",
       "      <th>feat_85</th>\n",
       "      <th>feat_86</th>\n",
       "      <th>feat_87</th>\n",
       "      <th>feat_88</th>\n",
       "      <th>feat_89</th>\n",
       "      <th>feat_90</th>\n",
       "      <th>feat_91</th>\n",
       "      <th>feat_92</th>\n",
       "      <th>feat_93</th>\n",
       "      <th>target</th>\n",
       "    </tr>\n",
       "  </thead>\n",
       "  <tbody>\n",
       "    <tr>\n",
       "      <th>0</th>\n",
       "      <td>1</td>\n",
       "      <td>0</td>\n",
       "      <td>0</td>\n",
       "      <td>0</td>\n",
       "      <td>0</td>\n",
       "      <td>0</td>\n",
       "      <td>0</td>\n",
       "      <td>0</td>\n",
       "      <td>0</td>\n",
       "      <td>0</td>\n",
       "      <td>...</td>\n",
       "      <td>1</td>\n",
       "      <td>0</td>\n",
       "      <td>0</td>\n",
       "      <td>0</td>\n",
       "      <td>0</td>\n",
       "      <td>0</td>\n",
       "      <td>0</td>\n",
       "      <td>0</td>\n",
       "      <td>0</td>\n",
       "      <td>Class_1</td>\n",
       "    </tr>\n",
       "    <tr>\n",
       "      <th>1</th>\n",
       "      <td>0</td>\n",
       "      <td>0</td>\n",
       "      <td>0</td>\n",
       "      <td>0</td>\n",
       "      <td>0</td>\n",
       "      <td>0</td>\n",
       "      <td>0</td>\n",
       "      <td>1</td>\n",
       "      <td>0</td>\n",
       "      <td>0</td>\n",
       "      <td>...</td>\n",
       "      <td>0</td>\n",
       "      <td>0</td>\n",
       "      <td>0</td>\n",
       "      <td>0</td>\n",
       "      <td>0</td>\n",
       "      <td>0</td>\n",
       "      <td>0</td>\n",
       "      <td>0</td>\n",
       "      <td>0</td>\n",
       "      <td>Class_1</td>\n",
       "    </tr>\n",
       "    <tr>\n",
       "      <th>2</th>\n",
       "      <td>0</td>\n",
       "      <td>0</td>\n",
       "      <td>0</td>\n",
       "      <td>0</td>\n",
       "      <td>0</td>\n",
       "      <td>0</td>\n",
       "      <td>0</td>\n",
       "      <td>1</td>\n",
       "      <td>0</td>\n",
       "      <td>0</td>\n",
       "      <td>...</td>\n",
       "      <td>0</td>\n",
       "      <td>0</td>\n",
       "      <td>0</td>\n",
       "      <td>0</td>\n",
       "      <td>0</td>\n",
       "      <td>0</td>\n",
       "      <td>0</td>\n",
       "      <td>0</td>\n",
       "      <td>0</td>\n",
       "      <td>Class_1</td>\n",
       "    </tr>\n",
       "    <tr>\n",
       "      <th>3</th>\n",
       "      <td>1</td>\n",
       "      <td>0</td>\n",
       "      <td>0</td>\n",
       "      <td>1</td>\n",
       "      <td>6</td>\n",
       "      <td>1</td>\n",
       "      <td>5</td>\n",
       "      <td>0</td>\n",
       "      <td>0</td>\n",
       "      <td>1</td>\n",
       "      <td>...</td>\n",
       "      <td>0</td>\n",
       "      <td>1</td>\n",
       "      <td>2</td>\n",
       "      <td>0</td>\n",
       "      <td>0</td>\n",
       "      <td>0</td>\n",
       "      <td>0</td>\n",
       "      <td>0</td>\n",
       "      <td>0</td>\n",
       "      <td>Class_1</td>\n",
       "    </tr>\n",
       "    <tr>\n",
       "      <th>4</th>\n",
       "      <td>0</td>\n",
       "      <td>0</td>\n",
       "      <td>0</td>\n",
       "      <td>0</td>\n",
       "      <td>0</td>\n",
       "      <td>0</td>\n",
       "      <td>0</td>\n",
       "      <td>0</td>\n",
       "      <td>0</td>\n",
       "      <td>0</td>\n",
       "      <td>...</td>\n",
       "      <td>1</td>\n",
       "      <td>0</td>\n",
       "      <td>0</td>\n",
       "      <td>0</td>\n",
       "      <td>0</td>\n",
       "      <td>1</td>\n",
       "      <td>0</td>\n",
       "      <td>0</td>\n",
       "      <td>0</td>\n",
       "      <td>Class_1</td>\n",
       "    </tr>\n",
       "  </tbody>\n",
       "</table>\n",
       "<p>5 rows × 94 columns</p>\n",
       "</div>"
      ],
      "text/plain": [
       "   feat_1  feat_2  feat_3  feat_4  feat_5  feat_6  feat_7  feat_8  feat_9  \\\n",
       "0       1       0       0       0       0       0       0       0       0   \n",
       "1       0       0       0       0       0       0       0       1       0   \n",
       "2       0       0       0       0       0       0       0       1       0   \n",
       "3       1       0       0       1       6       1       5       0       0   \n",
       "4       0       0       0       0       0       0       0       0       0   \n",
       "\n",
       "   feat_10   ...     feat_85  feat_86  feat_87  feat_88  feat_89  feat_90  \\\n",
       "0        0   ...           1        0        0        0        0        0   \n",
       "1        0   ...           0        0        0        0        0        0   \n",
       "2        0   ...           0        0        0        0        0        0   \n",
       "3        1   ...           0        1        2        0        0        0   \n",
       "4        0   ...           1        0        0        0        0        1   \n",
       "\n",
       "   feat_91  feat_92  feat_93   target  \n",
       "0        0        0        0  Class_1  \n",
       "1        0        0        0  Class_1  \n",
       "2        0        0        0  Class_1  \n",
       "3        0        0        0  Class_1  \n",
       "4        0        0        0  Class_1  \n",
       "\n",
       "[5 rows x 94 columns]"
      ]
     },
     "execution_count": 8,
     "metadata": {
      "tags": []
     },
     "output_type": "execute_result"
    }
   ],
   "source": [
    "df.drop(\"id\",axis=1,inplace=True,errors='ignore')\n",
    "df.head()"
   ]
  },
  {
   "cell_type": "code",
   "execution_count": 9,
   "metadata": {
    "colab": {
     "base_uri": "https://localhost:8080/",
     "height": 251
    },
    "colab_type": "code",
    "id": "9LNmcTxE0Gyn",
    "outputId": "d27dd502-b826-4634-eaff-a11b547659f9"
   },
   "outputs": [
    {
     "data": {
      "text/html": [
       "<div>\n",
       "<style scoped>\n",
       "    .dataframe tbody tr th:only-of-type {\n",
       "        vertical-align: middle;\n",
       "    }\n",
       "\n",
       "    .dataframe tbody tr th {\n",
       "        vertical-align: top;\n",
       "    }\n",
       "\n",
       "    .dataframe thead th {\n",
       "        text-align: right;\n",
       "    }\n",
       "</style>\n",
       "<table border=\"1\" class=\"dataframe\">\n",
       "  <thead>\n",
       "    <tr style=\"text-align: right;\">\n",
       "      <th></th>\n",
       "      <th>feat_1</th>\n",
       "      <th>feat_2</th>\n",
       "      <th>feat_3</th>\n",
       "      <th>feat_4</th>\n",
       "      <th>feat_5</th>\n",
       "      <th>feat_6</th>\n",
       "      <th>feat_7</th>\n",
       "      <th>feat_8</th>\n",
       "      <th>feat_9</th>\n",
       "      <th>feat_10</th>\n",
       "      <th>...</th>\n",
       "      <th>feat_85</th>\n",
       "      <th>feat_86</th>\n",
       "      <th>feat_87</th>\n",
       "      <th>feat_88</th>\n",
       "      <th>feat_89</th>\n",
       "      <th>feat_90</th>\n",
       "      <th>feat_91</th>\n",
       "      <th>feat_92</th>\n",
       "      <th>feat_93</th>\n",
       "      <th>target</th>\n",
       "    </tr>\n",
       "  </thead>\n",
       "  <tbody>\n",
       "    <tr>\n",
       "      <th>0</th>\n",
       "      <td>1</td>\n",
       "      <td>0</td>\n",
       "      <td>0</td>\n",
       "      <td>0</td>\n",
       "      <td>0</td>\n",
       "      <td>0</td>\n",
       "      <td>0</td>\n",
       "      <td>0</td>\n",
       "      <td>0</td>\n",
       "      <td>0</td>\n",
       "      <td>...</td>\n",
       "      <td>1</td>\n",
       "      <td>0</td>\n",
       "      <td>0</td>\n",
       "      <td>0</td>\n",
       "      <td>0</td>\n",
       "      <td>0</td>\n",
       "      <td>0</td>\n",
       "      <td>0</td>\n",
       "      <td>0</td>\n",
       "      <td>1</td>\n",
       "    </tr>\n",
       "    <tr>\n",
       "      <th>1</th>\n",
       "      <td>0</td>\n",
       "      <td>0</td>\n",
       "      <td>0</td>\n",
       "      <td>0</td>\n",
       "      <td>0</td>\n",
       "      <td>0</td>\n",
       "      <td>0</td>\n",
       "      <td>1</td>\n",
       "      <td>0</td>\n",
       "      <td>0</td>\n",
       "      <td>...</td>\n",
       "      <td>0</td>\n",
       "      <td>0</td>\n",
       "      <td>0</td>\n",
       "      <td>0</td>\n",
       "      <td>0</td>\n",
       "      <td>0</td>\n",
       "      <td>0</td>\n",
       "      <td>0</td>\n",
       "      <td>0</td>\n",
       "      <td>1</td>\n",
       "    </tr>\n",
       "    <tr>\n",
       "      <th>2</th>\n",
       "      <td>0</td>\n",
       "      <td>0</td>\n",
       "      <td>0</td>\n",
       "      <td>0</td>\n",
       "      <td>0</td>\n",
       "      <td>0</td>\n",
       "      <td>0</td>\n",
       "      <td>1</td>\n",
       "      <td>0</td>\n",
       "      <td>0</td>\n",
       "      <td>...</td>\n",
       "      <td>0</td>\n",
       "      <td>0</td>\n",
       "      <td>0</td>\n",
       "      <td>0</td>\n",
       "      <td>0</td>\n",
       "      <td>0</td>\n",
       "      <td>0</td>\n",
       "      <td>0</td>\n",
       "      <td>0</td>\n",
       "      <td>1</td>\n",
       "    </tr>\n",
       "    <tr>\n",
       "      <th>3</th>\n",
       "      <td>1</td>\n",
       "      <td>0</td>\n",
       "      <td>0</td>\n",
       "      <td>1</td>\n",
       "      <td>6</td>\n",
       "      <td>1</td>\n",
       "      <td>5</td>\n",
       "      <td>0</td>\n",
       "      <td>0</td>\n",
       "      <td>1</td>\n",
       "      <td>...</td>\n",
       "      <td>0</td>\n",
       "      <td>1</td>\n",
       "      <td>2</td>\n",
       "      <td>0</td>\n",
       "      <td>0</td>\n",
       "      <td>0</td>\n",
       "      <td>0</td>\n",
       "      <td>0</td>\n",
       "      <td>0</td>\n",
       "      <td>1</td>\n",
       "    </tr>\n",
       "    <tr>\n",
       "      <th>4</th>\n",
       "      <td>0</td>\n",
       "      <td>0</td>\n",
       "      <td>0</td>\n",
       "      <td>0</td>\n",
       "      <td>0</td>\n",
       "      <td>0</td>\n",
       "      <td>0</td>\n",
       "      <td>0</td>\n",
       "      <td>0</td>\n",
       "      <td>0</td>\n",
       "      <td>...</td>\n",
       "      <td>1</td>\n",
       "      <td>0</td>\n",
       "      <td>0</td>\n",
       "      <td>0</td>\n",
       "      <td>0</td>\n",
       "      <td>1</td>\n",
       "      <td>0</td>\n",
       "      <td>0</td>\n",
       "      <td>0</td>\n",
       "      <td>1</td>\n",
       "    </tr>\n",
       "  </tbody>\n",
       "</table>\n",
       "<p>5 rows × 94 columns</p>\n",
       "</div>"
      ],
      "text/plain": [
       "   feat_1  feat_2  feat_3  feat_4  feat_5  feat_6  feat_7  feat_8  feat_9  \\\n",
       "0       1       0       0       0       0       0       0       0       0   \n",
       "1       0       0       0       0       0       0       0       1       0   \n",
       "2       0       0       0       0       0       0       0       1       0   \n",
       "3       1       0       0       1       6       1       5       0       0   \n",
       "4       0       0       0       0       0       0       0       0       0   \n",
       "\n",
       "   feat_10   ...    feat_85  feat_86  feat_87  feat_88  feat_89  feat_90  \\\n",
       "0        0   ...          1        0        0        0        0        0   \n",
       "1        0   ...          0        0        0        0        0        0   \n",
       "2        0   ...          0        0        0        0        0        0   \n",
       "3        1   ...          0        1        2        0        0        0   \n",
       "4        0   ...          1        0        0        0        0        1   \n",
       "\n",
       "   feat_91  feat_92  feat_93  target  \n",
       "0        0        0        0       1  \n",
       "1        0        0        0       1  \n",
       "2        0        0        0       1  \n",
       "3        0        0        0       1  \n",
       "4        0        0        0       1  \n",
       "\n",
       "[5 rows x 94 columns]"
      ]
     },
     "execution_count": 9,
     "metadata": {
      "tags": []
     },
     "output_type": "execute_result"
    }
   ],
   "source": [
    "df.target = [ int(clas[-1]) for clas in df.target]\n",
    "df.target.unique()\n",
    "df.head()"
   ]
  },
  {
   "cell_type": "markdown",
   "metadata": {},
   "source": [
    "## Train test splilt"
   ]
  },
  {
   "cell_type": "code",
   "execution_count": 10,
   "metadata": {
    "colab": {
     "base_uri": "https://localhost:8080/",
     "height": 121
    },
    "colab_type": "code",
    "id": "VwCzskhny9dk",
    "outputId": "21eb6281-f14d-403f-ca86-efc511afe548"
   },
   "outputs": [
    {
     "name": "stdout",
     "output_type": "stream",
     "text": [
      "StratifiedShuffleSplit(n_splits=1, random_state=42, test_size=0.1,\n",
      "            train_size=None)\n",
      "('TRAIN:', array([57972, 30244,  9427, ..., 60232, 28576, 27516]), 'TEST:', array([59081, 21681, 51999, ...,  1777,   269, 53901]))\n",
      "Shapes of data sets\n",
      "('X_train: ', (55690, 93), 'y_train: ', (55690,))\n",
      "('X_test: ', (6188, 93), 'y_test: ', (6188,))\n"
     ]
    }
   ],
   "source": [
    "sss = StratifiedShuffleSplit(n_splits=1,test_size=0.1, random_state=42)\n",
    "print(sss)\n",
    "\n",
    "X = df.drop(\"target\",axis=1)\n",
    "y = df.target\n",
    "\n",
    "train_index = []\n",
    "test_index = []\n",
    "\n",
    "for tr, tes in sss.split(X,y):\n",
    "    print(\"TRAIN:\", tr, \"TEST:\", tes)\n",
    "    train_index = tr\n",
    "    test_index = tes\n",
    "\n",
    "X_train, X_test = X.iloc[train_index], X.iloc[test_index]\n",
    "y_train, y_test = y.iloc[train_index], y.iloc[test_index]\n",
    "\n",
    "\n",
    "print(\"Shapes of data sets\")\n",
    "print(\"X_train: \", X_train.shape, \"y_train: \", y_train.shape)\n",
    "print(\"X_test: \", X_test.shape,\"y_test: \", y_test.shape)"
   ]
  },
  {
   "cell_type": "code",
   "execution_count": 0,
   "metadata": {
    "colab": {},
    "colab_type": "code",
    "collapsed": true,
    "id": "eD0YAXsNVqCB"
   },
   "outputs": [],
   "source": [
    "# from sklearn import preprocessing\n",
    "\n",
    "# X_scale_train = preprocessing.scale(X_train)"
   ]
  },
  {
   "cell_type": "markdown",
   "metadata": {
    "colab_type": "text",
    "id": "ltOLnAFQT9WG"
   },
   "source": [
    "## KNN"
   ]
  },
  {
   "cell_type": "code",
   "execution_count": 0,
   "metadata": {
    "colab": {},
    "colab_type": "code",
    "collapsed": true,
    "id": "U-yDneFsmD9S"
   },
   "outputs": [],
   "source": [
    "# apply knn and see the distribution of classes in output\n",
    "knn = KNeighborsClassifier(n_neighbors=10)"
   ]
  },
  {
   "cell_type": "code",
   "execution_count": 0,
   "metadata": {
    "colab": {},
    "colab_type": "code",
    "collapsed": true,
    "id": "offyRiwm0sfP"
   },
   "outputs": [],
   "source": [
    "gscv = GridSearchCV(estimator=knn,param_grid={\"n_neighbors\": [3,10,30,100]},cv=3)\n"
   ]
  },
  {
   "cell_type": "code",
   "execution_count": 14,
   "metadata": {
    "colab": {
     "base_uri": "https://localhost:8080/",
     "height": 35
    },
    "colab_type": "code",
    "id": "E_6lWkV4XJm_",
    "outputId": "9f9c2d8b-e82f-47f4-fd06-c347b26539bb"
   },
   "outputs": [
    {
     "data": {
      "text/plain": [
       "'/device:GPU:0'"
      ]
     },
     "execution_count": 14,
     "metadata": {
      "tags": []
     },
     "output_type": "execute_result"
    }
   ],
   "source": [
    "import tensorflow as tf\n",
    "tf.test.gpu_device_name()"
   ]
  },
  {
   "cell_type": "code",
   "execution_count": 0,
   "metadata": {
    "colab": {},
    "colab_type": "code",
    "collapsed": true,
    "id": "q0sGy5ZeURQs"
   },
   "outputs": [],
   "source": [
    "knn.fit(X_train,y_train)"
   ]
  },
  {
   "cell_type": "code",
   "execution_count": 0,
   "metadata": {
    "colab": {},
    "colab_type": "code",
    "collapsed": true,
    "id": "Q7gywf1WRFxp"
   },
   "outputs": [],
   "source": [
    "y_pred = knn.predict(X_test)"
   ]
  },
  {
   "cell_type": "code",
   "execution_count": 0,
   "metadata": {
    "colab": {},
    "colab_type": "code",
    "collapsed": true,
    "id": "yrgjO_MvZaKJ"
   },
   "outputs": [],
   "source": []
  },
  {
   "cell_type": "code",
   "execution_count": 44,
   "metadata": {
    "colab": {
     "base_uri": "https://localhost:8080/",
     "height": 35
    },
    "colab_type": "code",
    "id": "3Ic-0XUWYZuH",
    "outputId": "0ffa22e5-0ec2-4e8b-e3a3-dd68b7e9f82e"
   },
   "outputs": [
    {
     "data": {
      "text/plain": [
       "1.432255977857557"
      ]
     },
     "execution_count": 44,
     "metadata": {
      "tags": []
     },
     "output_type": "execute_result"
    }
   ],
   "source": [
    "log_loss(y_true=y_test,y_pred=knn.predict_proba(X_test))\n"
   ]
  },
  {
   "cell_type": "code",
   "execution_count": 27,
   "metadata": {
    "colab": {
     "base_uri": "https://localhost:8080/",
     "height": 173
    },
    "colab_type": "code",
    "id": "PBMDgZ0NZa6o",
    "outputId": "de0c1834-9d96-4207-9c74-22bed7825352"
   },
   "outputs": [
    {
     "data": {
      "text/plain": [
       "array([[ 112,    8,    1,    0,    2,    8,    5,   26,   31],\n",
       "       [   7, 1299,  270,   16,    5,    2,   10,    1,    2],\n",
       "       [   1,  398,  372,   19,    0,    3,    4,    1,    2],\n",
       "       [   0,  100,   79,   77,    4,    9,    0,    0,    0],\n",
       "       [   0,    7,    5,    0,  261,    0,    1,    0,    0],\n",
       "       [  20,   22,    3,    4,    1, 1307,   21,   24,   12],\n",
       "       [  17,   29,   38,    2,    1,   14,  167,   14,    2],\n",
       "       [  22,   10,    3,    0,    0,   21,   12,  760,   18],\n",
       "       [  22,    7,    3,    1,    1,   15,    2,   17,  428]])"
      ]
     },
     "execution_count": 27,
     "metadata": {
      "tags": []
     },
     "output_type": "execute_result"
    }
   ],
   "source": [
    "confusion_matrix(y_test,y_pred)"
   ]
  },
  {
   "cell_type": "code",
   "execution_count": 29,
   "metadata": {
    "colab": {
     "base_uri": "https://localhost:8080/",
     "height": 260
    },
    "colab_type": "code",
    "id": "BBrwsB5jZirJ",
    "outputId": "c2838a5d-c6a1-448e-80ef-dbffeed1f113"
   },
   "outputs": [
    {
     "name": "stdout",
     "output_type": "stream",
     "text": [
      "             precision    recall  f1-score   support\n",
      "\n",
      "          1       0.56      0.58      0.57       193\n",
      "          2       0.69      0.81      0.74      1612\n",
      "          3       0.48      0.47      0.47       800\n",
      "          4       0.65      0.29      0.40       269\n",
      "          5       0.95      0.95      0.95       274\n",
      "          6       0.95      0.92      0.94      1414\n",
      "          7       0.75      0.59      0.66       284\n",
      "          8       0.90      0.90      0.90       846\n",
      "          9       0.86      0.86      0.86       496\n",
      "\n",
      "avg / total       0.77      0.77      0.77      6188\n",
      "\n"
     ]
    }
   ],
   "source": [
    "print(classification_report(y_test,y_pred))"
   ]
  },
  {
   "cell_type": "markdown",
   "metadata": {},
   "source": [
    "## Using subset of data"
   ]
  },
  {
   "cell_type": "code",
   "execution_count": 9,
   "metadata": {
    "colab": {
     "base_uri": "https://localhost:8080/",
     "height": 121
    },
    "colab_type": "code",
    "id": "Gtcq3mTQZnyn",
    "outputId": "39704bdb-64a1-4621-975d-66aacbdc41a6"
   },
   "outputs": [
    {
     "name": "stdout",
     "output_type": "stream",
     "text": [
      "StratifiedShuffleSplit(n_splits=1, random_state=42, test_size=0.9,\n",
      "            train_size=None)\n",
      "('TRAIN:', array([ 7422, 17236, 33894, ..., 14514, 13032, 33986]), 'TEST:', array([16325, 47456, 52996, ...,  8193, 21409, 18322]))\n",
      "Shapes of data sets\n",
      "('X_train: ', (5569, 93), 'y_train: ', (5569,))\n",
      "('X_test: ', (50121, 93), 'y_test: ', (50121,))\n"
     ]
    }
   ],
   "source": [
    "# let us do grid search on subset of data only\n",
    "sss2 = StratifiedShuffleSplit(n_splits=1,test_size=0.9, random_state=42)\n",
    "print(sss2)\n",
    "\n",
    "train_index = []\n",
    "test_index = []\n",
    "\n",
    "for tr, tes in sss2.split(X_train,y_train):\n",
    "    print(\"TRAIN:\", tr, \"TEST:\", tes)\n",
    "    train_index = tr\n",
    "    test_index = tes\n",
    "    break\n",
    "\n",
    "X_train1, X_test1 = X_train.iloc[train_index], X_train.iloc[test_index]\n",
    "y_train1, y_test1 = y_train.iloc[train_index], y_train.iloc[test_index]\n",
    "\n",
    "\n",
    "print(\"Shapes of data sets\")\n",
    "print(\"X_train: \", X_train1.shape, \"y_train: \", y_train1.shape)\n",
    "print(\"X_test: \", X_test1.shape,\"y_test: \", y_test1.shape)"
   ]
  },
  {
   "cell_type": "code",
   "execution_count": 40,
   "metadata": {
    "colab": {
     "base_uri": "https://localhost:8080/",
     "height": 156
    },
    "colab_type": "code",
    "id": "NQnNCil6koSe",
    "outputId": "a96f696c-53f5-4d15-fc5b-2c550c9f54c9"
   },
   "outputs": [
    {
     "data": {
      "text/plain": [
       "GridSearchCV(cv=3, error_score='raise',\n",
       "       estimator=KNeighborsClassifier(algorithm='auto', leaf_size=30, metric='minkowski',\n",
       "           metric_params=None, n_jobs=1, n_neighbors=5, p=2,\n",
       "           weights='uniform'),\n",
       "       fit_params=None, iid=True, n_jobs=1,\n",
       "       param_grid={'n_neighbors': [3, 10, 30, 100]},\n",
       "       pre_dispatch='2*n_jobs', refit=True, return_train_score='warn',\n",
       "       scoring=None, verbose=0)"
      ]
     },
     "execution_count": 40,
     "metadata": {
      "tags": []
     },
     "output_type": "execute_result"
    }
   ],
   "source": [
    "gscv.fit(X_train1,y_train1)"
   ]
  },
  {
   "cell_type": "code",
   "execution_count": 37,
   "metadata": {
    "colab": {
     "base_uri": "https://localhost:8080/",
     "height": 156
    },
    "colab_type": "code",
    "id": "HdBivs0alFfh",
    "outputId": "20788679-0631-48bd-f8e1-c58ab06338fd"
   },
   "outputs": [
    {
     "data": {
      "text/plain": [
       "GridSearchCV(cv=3, error_score='raise',\n",
       "       estimator=KNeighborsClassifier(algorithm='auto', leaf_size=30, metric='minkowski',\n",
       "           metric_params=None, n_jobs=1, n_neighbors=5, p=2,\n",
       "           weights='uniform'),\n",
       "       fit_params=None, iid=True, n_jobs=1,\n",
       "       param_grid={'n_neighbors': [3, 10, 30, 100]},\n",
       "       pre_dispatch='2*n_jobs', refit=True, return_train_score='warn',\n",
       "       scoring=None, verbose=0)"
      ]
     },
     "execution_count": 37,
     "metadata": {
      "tags": []
     },
     "output_type": "execute_result"
    }
   ],
   "source": [
    "gscv.fit(X_train2,y_train2)"
   ]
  },
  {
   "cell_type": "code",
   "execution_count": 41,
   "metadata": {
    "colab": {
     "base_uri": "https://localhost:8080/",
     "height": 69
    },
    "colab_type": "code",
    "id": "0YNUrc-Tlew5",
    "outputId": "992fe212-6467-4883-929b-2a5b8720a089"
   },
   "outputs": [
    {
     "data": {
      "text/plain": [
       "KNeighborsClassifier(algorithm='auto', leaf_size=30, metric='minkowski',\n",
       "           metric_params=None, n_jobs=1, n_neighbors=10, p=2,\n",
       "           weights='uniform')"
      ]
     },
     "execution_count": 41,
     "metadata": {
      "tags": []
     },
     "output_type": "execute_result"
    }
   ],
   "source": [
    "gscv.best_estimator_"
   ]
  },
  {
   "cell_type": "markdown",
   "metadata": {},
   "source": [
    "## Random Forest"
   ]
  },
  {
   "cell_type": "code",
   "execution_count": 0,
   "metadata": {
    "colab": {},
    "colab_type": "code",
    "collapsed": true,
    "id": "r_O2jV3LwwGj"
   },
   "outputs": [],
   "source": [
    "rfc = RandomForestClassifier(random_state=42)\n",
    "params = {\"max_depth\": [3,5,10], \"max_features\": [5,10,20], \"n_estimators\": [500,1000]}\n",
    "gscv2 = GridSearchCV(estimator=rfc,param_grid=params,cv=3)\n"
   ]
  },
  {
   "cell_type": "code",
   "execution_count": 54,
   "metadata": {
    "colab": {
     "base_uri": "https://localhost:8080/",
     "height": 228
    },
    "colab_type": "code",
    "id": "P2i34ycawv1Z",
    "outputId": "11869038-bfca-4e2e-af63-2bd51cc77c4b"
   },
   "outputs": [
    {
     "data": {
      "text/plain": [
       "GridSearchCV(cv=3, error_score='raise',\n",
       "       estimator=RandomForestClassifier(bootstrap=True, class_weight=None, criterion='gini',\n",
       "            max_depth=None, max_features='auto', max_leaf_nodes=None,\n",
       "            min_impurity_decrease=0.0, min_impurity_split=None,\n",
       "            min_samples_leaf=1, min_samples_split=2,\n",
       "            min_weight_fraction_leaf=0.0, n_estimators=10, n_jobs=1,\n",
       "            oob_score=False, random_state=42, verbose=0, warm_start=False),\n",
       "       fit_params=None, iid=True, n_jobs=1,\n",
       "       param_grid={'max_features': [5, 10, 20], 'n_estimators': [500, 1000], 'max_depth': [3, 5, 10]},\n",
       "       pre_dispatch='2*n_jobs', refit=True, return_train_score='warn',\n",
       "       scoring=None, verbose=0)"
      ]
     },
     "execution_count": 54,
     "metadata": {
      "tags": []
     },
     "output_type": "execute_result"
    }
   ],
   "source": [
    "gscv2.fit(X_train1,y_train1)"
   ]
  },
  {
   "cell_type": "code",
   "execution_count": 52,
   "metadata": {
    "colab": {
     "base_uri": "https://localhost:8080/",
     "height": 121
    },
    "colab_type": "code",
    "id": "Pkpz9HrZwvsh",
    "outputId": "f931314a-073f-4771-ee11-e2e0dd83f040"
   },
   "outputs": [
    {
     "data": {
      "text/plain": [
       "RandomForestClassifier(bootstrap=True, class_weight=None, criterion='gini',\n",
       "            max_depth=5, max_features=10, max_leaf_nodes=None,\n",
       "            min_impurity_decrease=0.0, min_impurity_split=None,\n",
       "            min_samples_leaf=1, min_samples_split=2,\n",
       "            min_weight_fraction_leaf=0.0, n_estimators=500, n_jobs=1,\n",
       "            oob_score=False, random_state=42, verbose=0, warm_start=False)"
      ]
     },
     "execution_count": 52,
     "metadata": {
      "tags": []
     },
     "output_type": "execute_result"
    }
   ],
   "source": [
    "gscv2.best_estimator_"
   ]
  },
  {
   "cell_type": "code",
   "execution_count": 55,
   "metadata": {
    "colab": {
     "base_uri": "https://localhost:8080/",
     "height": 121
    },
    "colab_type": "code",
    "id": "O1X_HJCBwvin",
    "outputId": "3cb759c4-5349-4def-e190-3091a1cc20f0"
   },
   "outputs": [
    {
     "data": {
      "text/plain": [
       "RandomForestClassifier(bootstrap=True, class_weight=None, criterion='gini',\n",
       "            max_depth=10, max_features=20, max_leaf_nodes=None,\n",
       "            min_impurity_decrease=0.0, min_impurity_split=None,\n",
       "            min_samples_leaf=1, min_samples_split=2,\n",
       "            min_weight_fraction_leaf=0.0, n_estimators=500, n_jobs=1,\n",
       "            oob_score=False, random_state=42, verbose=0, warm_start=False)"
      ]
     },
     "execution_count": 55,
     "metadata": {
      "tags": []
     },
     "output_type": "execute_result"
    }
   ],
   "source": [
    "gscv2.best_estimator_"
   ]
  },
  {
   "cell_type": "code",
   "execution_count": 0,
   "metadata": {
    "colab": {},
    "colab_type": "code",
    "collapsed": true,
    "id": "Lo_cgAfH26Z5"
   },
   "outputs": [],
   "source": [
    "rfc = RandomForestClassifier(max_depth=10, max_features=20,n_estimators=500,random_state=42)"
   ]
  },
  {
   "cell_type": "code",
   "execution_count": 57,
   "metadata": {
    "colab": {
     "base_uri": "https://localhost:8080/",
     "height": 121
    },
    "colab_type": "code",
    "id": "UXG5bjf53DjQ",
    "outputId": "16f855e5-0dbe-4823-8122-9be1363d576b"
   },
   "outputs": [
    {
     "data": {
      "text/plain": [
       "RandomForestClassifier(bootstrap=True, class_weight=None, criterion='gini',\n",
       "            max_depth=10, max_features=20, max_leaf_nodes=None,\n",
       "            min_impurity_decrease=0.0, min_impurity_split=None,\n",
       "            min_samples_leaf=1, min_samples_split=2,\n",
       "            min_weight_fraction_leaf=0.0, n_estimators=500, n_jobs=1,\n",
       "            oob_score=False, random_state=42, verbose=0, warm_start=False)"
      ]
     },
     "execution_count": 57,
     "metadata": {
      "tags": []
     },
     "output_type": "execute_result"
    }
   ],
   "source": [
    "rfc.fit(X_train,y_train)"
   ]
  },
  {
   "cell_type": "code",
   "execution_count": 58,
   "metadata": {
    "colab": {
     "base_uri": "https://localhost:8080/",
     "height": 35
    },
    "colab_type": "code",
    "id": "elfQyuHP2tuD",
    "outputId": "eb79230a-4a1f-4b8c-e9a2-8e9f41063be6"
   },
   "outputs": [
    {
     "data": {
      "text/plain": [
       "0.9041263681808059"
      ]
     },
     "execution_count": 58,
     "metadata": {
      "tags": []
     },
     "output_type": "execute_result"
    }
   ],
   "source": [
    "log_loss(y_test,rfc.predict_proba(X_test))"
   ]
  },
  {
   "cell_type": "code",
   "execution_count": 0,
   "metadata": {
    "colab": {},
    "colab_type": "code",
    "collapsed": true,
    "id": "BacCia0p3jrG"
   },
   "outputs": [],
   "source": [
    "print(classification_report(y_test,rfc.predict(X_test)))"
   ]
  },
  {
   "cell_type": "markdown",
   "metadata": {},
   "source": [
    "## GradientBoost"
   ]
  },
  {
   "cell_type": "code",
   "execution_count": 0,
   "metadata": {
    "colab": {},
    "colab_type": "code",
    "collapsed": true,
    "id": "AdvUCkcN4owy"
   },
   "outputs": [],
   "source": [
    "gb = GradientBoostingClassifier(random_state=42)\n",
    "params = {\"max_depth\": [5,10,50], \"max_features\": [10,20,50], \"n_estimators\": [500,1000]}\n",
    "gscv3 = GridSearchCV(estimator=gb,param_grid=params,cv=3)"
   ]
  },
  {
   "cell_type": "code",
   "execution_count": 10,
   "metadata": {
    "colab": {
     "base_uri": "https://localhost:8080/",
     "height": 243
    },
    "colab_type": "code",
    "id": "GQwWaIm_4ot-",
    "outputId": "f445e1dd-bc5d-4596-be22-bfc6426e6691"
   },
   "outputs": [
    {
     "data": {
      "text/plain": [
       "GridSearchCV(cv=3, error_score='raise',\n",
       "       estimator=GradientBoostingClassifier(criterion='friedman_mse', init=None,\n",
       "              learning_rate=0.1, loss='deviance', max_depth=3,\n",
       "              max_features=None, max_leaf_nodes=None,\n",
       "              min_impurity_decrease=0.0, min_impurity_split=None,\n",
       "              min_samples_leaf=1, min_samples_split=2,\n",
       "              min_weight_fraction_leaf=0.0, n_estimators=100,\n",
       "              presort='auto', random_state=42, subsample=1.0, verbose=0,\n",
       "              warm_start=False),\n",
       "       fit_params=None, iid=True, n_jobs=1,\n",
       "       param_grid={'max_features': [10, 20, 50], 'n_estimators': [500, 1000], 'max_depth': [5, 10, 50]},\n",
       "       pre_dispatch='2*n_jobs', refit=True, return_train_score='warn',\n",
       "       scoring=None, verbose=0)"
      ]
     },
     "execution_count": 10,
     "metadata": {
      "tags": []
     },
     "output_type": "execute_result"
    }
   ],
   "source": [
    "gscv3.fit(X_train1,y_train1)"
   ]
  },
  {
   "cell_type": "code",
   "execution_count": 11,
   "metadata": {
    "colab": {
     "base_uri": "https://localhost:8080/",
     "height": 156
    },
    "colab_type": "code",
    "id": "taO1c8fB4orN",
    "outputId": "00a3d611-2bfb-4c71-fa02-09b2079b18a6"
   },
   "outputs": [
    {
     "data": {
      "text/plain": [
       "GradientBoostingClassifier(criterion='friedman_mse', init=None,\n",
       "              learning_rate=0.1, loss='deviance', max_depth=5,\n",
       "              max_features=20, max_leaf_nodes=None,\n",
       "              min_impurity_decrease=0.0, min_impurity_split=None,\n",
       "              min_samples_leaf=1, min_samples_split=2,\n",
       "              min_weight_fraction_leaf=0.0, n_estimators=1000,\n",
       "              presort='auto', random_state=42, subsample=1.0, verbose=0,\n",
       "              warm_start=False)"
      ]
     },
     "execution_count": 11,
     "metadata": {
      "tags": []
     },
     "output_type": "execute_result"
    }
   ],
   "source": [
    "gscv3.best_estimator_"
   ]
  },
  {
   "cell_type": "code",
   "execution_count": 0,
   "metadata": {
    "colab": {},
    "colab_type": "code",
    "collapsed": true,
    "id": "BvEraObd4ohp"
   },
   "outputs": [],
   "source": [
    "gb2 = GradientBoostingClassifier(random_state=42, max_depth=5,\n",
    "              max_features=20, n_estimators=1000)\n"
   ]
  },
  {
   "cell_type": "code",
   "execution_count": 0,
   "metadata": {
    "colab": {},
    "colab_type": "code",
    "collapsed": true,
    "id": "dM6BCTjpx7pj"
   },
   "outputs": [],
   "source": []
  },
  {
   "cell_type": "code",
   "execution_count": 12,
   "metadata": {
    "colab": {
     "base_uri": "https://localhost:8080/",
     "height": 156
    },
    "colab_type": "code",
    "id": "l5sqoWrzx7M0",
    "outputId": "c424115a-aaf6-48eb-b63e-77e91607ae8e"
   },
   "outputs": [
    {
     "data": {
      "text/plain": [
       "GradientBoostingClassifier(criterion='friedman_mse', init=None,\n",
       "              learning_rate=0.1, loss='deviance', max_depth=5,\n",
       "              max_features=20, max_leaf_nodes=None,\n",
       "              min_impurity_decrease=0.0, min_impurity_split=None,\n",
       "              min_samples_leaf=1, min_samples_split=2,\n",
       "              min_weight_fraction_leaf=0.0, n_estimators=1000,\n",
       "              presort='auto', random_state=42, subsample=1.0, verbose=0,\n",
       "              warm_start=False)"
      ]
     },
     "execution_count": 12,
     "metadata": {
      "tags": []
     },
     "output_type": "execute_result"
    }
   ],
   "source": [
    "gb2.fit(X_train,y_train)"
   ]
  },
  {
   "cell_type": "code",
   "execution_count": 0,
   "metadata": {
    "colab": {},
    "colab_type": "code",
    "collapsed": true,
    "id": "V-NQjj6L2tY7"
   },
   "outputs": [],
   "source": [
    "y_pred = gb2.predict(X_test)"
   ]
  },
  {
   "cell_type": "code",
   "execution_count": 14,
   "metadata": {
    "colab": {
     "base_uri": "https://localhost:8080/",
     "height": 335
    },
    "colab_type": "code",
    "id": "5XUIEZjg2z_E",
    "outputId": "da06f90c-1845-4d1f-9f9a-30b4807f252c"
   },
   "outputs": [
    {
     "data": {
      "text/plain": [
       "(array([ 154., 1789.,  730.,  183.,    0.,  268., 1430.,  274.,  851.,\n",
       "         509.]),\n",
       " array([1. , 1.8, 2.6, 3.4, 4.2, 5. , 5.8, 6.6, 7.4, 8.2, 9. ]),\n",
       " <a list of 10 Patch objects>)"
      ]
     },
     "execution_count": 14,
     "metadata": {
      "tags": []
     },
     "output_type": "execute_result"
    },
    {
     "data": {
      "image/png": "[encoded data removed]",
      "text/plain": [
       "<matplotlib.figure.Figure at 0x7fd8d25ba8d0>"
      ]
     },
     "metadata": {
      "tags": []
     },
     "output_type": "display_data"
    }
   ],
   "source": [
    "plt.hist(y_pred)"
   ]
  },
  {
   "cell_type": "code",
   "execution_count": 15,
   "metadata": {
    "colab": {
     "base_uri": "https://localhost:8080/",
     "height": 35
    },
    "colab_type": "code",
    "id": "bbouDZg_25k4",
    "outputId": "58eefd27-408f-4792-8c97-62ed63bb0109"
   },
   "outputs": [
    {
     "data": {
      "text/plain": [
       "0.49744649762503285"
      ]
     },
     "execution_count": 15,
     "metadata": {
      "tags": []
     },
     "output_type": "execute_result"
    }
   ],
   "source": [
    "log_loss(y_test, gb2.predict_proba(X_test))"
   ]
  },
  {
   "cell_type": "code",
   "execution_count": 16,
   "metadata": {
    "colab": {
     "base_uri": "https://localhost:8080/",
     "height": 173
    },
    "colab_type": "code",
    "id": "ILzRjdQfPZQL",
    "outputId": "c0acfe62-88e6-48b3-a916-587b81c13cd8"
   },
   "outputs": [
    {
     "data": {
      "text/plain": [
       "array([[ 116,    4,    0,    0,    0,   18,    6,   18,   31],\n",
       "       [   1, 1351,  209,   22,    0,    9,   13,    3,    4],\n",
       "       [   1,  326,  442,   14,    0,    1,   13,    1,    2],\n",
       "       [   0,   67,   51,  139,    3,    8,    0,    1,    0],\n",
       "       [   1,    5,    2,    0,  263,    2,    1,    0,    0],\n",
       "       [   2,   11,    4,    3,    2, 1340,   22,   19,   11],\n",
       "       [   8,   18,   19,    5,    0,   14,  210,    6,    4],\n",
       "       [   9,    6,    2,    0,    0,   21,    8,  790,   10],\n",
       "       [  16,    1,    1,    0,    0,   17,    1,   13,  447]])"
      ]
     },
     "execution_count": 16,
     "metadata": {
      "tags": []
     },
     "output_type": "execute_result"
    }
   ],
   "source": [
    "confusion_matrix(y_test, y_pred)"
   ]
  },
  {
   "cell_type": "code",
   "execution_count": 19,
   "metadata": {
    "colab": {
     "base_uri": "https://localhost:8080/",
     "height": 260
    },
    "colab_type": "code",
    "id": "W5qkywayPY-g",
    "outputId": "39d5dce2-e43b-40dc-8af1-2794bf0a887c"
   },
   "outputs": [
    {
     "name": "stdout",
     "output_type": "stream",
     "text": [
      "             precision    recall  f1-score   support\n",
      "\n",
      "          1       0.75      0.60      0.67       193\n",
      "          2       0.76      0.84      0.79      1612\n",
      "          3       0.61      0.55      0.58       800\n",
      "          4       0.76      0.52      0.62       269\n",
      "          5       0.98      0.96      0.97       274\n",
      "          6       0.94      0.95      0.94      1414\n",
      "          7       0.77      0.74      0.75       284\n",
      "          8       0.93      0.93      0.93       846\n",
      "          9       0.88      0.90      0.89       496\n",
      "\n",
      "avg / total       0.82      0.82      0.82      6188\n",
      "\n"
     ]
    }
   ],
   "source": [
    "print(classification_report(y_test, y_pred))"
   ]
  },
  {
   "cell_type": "code",
   "execution_count": 20,
   "metadata": {
    "colab": {
     "base_uri": "https://localhost:8080/",
     "height": 35
    },
    "colab_type": "code",
    "id": "yvHWS42kV61x",
    "outputId": "b8a6c561-34b3-4f2b-d813-68d2b5978f10"
   },
   "outputs": [
    {
     "data": {
      "text/plain": [
       "0.823852617970265"
      ]
     },
     "execution_count": 20,
     "metadata": {
      "tags": []
     },
     "output_type": "execute_result"
    }
   ],
   "source": [
    "accuracy_score(y_test,y_pred)"
   ]
  },
  {
   "cell_type": "code",
   "execution_count": 0,
   "metadata": {
    "colab": {},
    "colab_type": "code",
    "collapsed": true,
    "id": "r-FCBSgMV6m4"
   },
   "outputs": [],
   "source": [
    "from sklearn.externals import joblib\n"
   ]
  },
  {
   "cell_type": "code",
   "execution_count": 22,
   "metadata": {
    "colab": {
     "base_uri": "https://localhost:8080/",
     "height": 35
    },
    "colab_type": "code",
    "id": "fIN424dTaZ5B",
    "outputId": "2a155967-6da3-462c-ae20-50e96000cf1d"
   },
   "outputs": [
    {
     "data": {
      "text/plain": [
       "['gradient_boost_model']"
      ]
     },
     "execution_count": 22,
     "metadata": {
      "tags": []
     },
     "output_type": "execute_result"
    }
   ],
   "source": [
    "# save the model\n",
    "joblib.dump(gb2, filename=\"gradient_boost_model\")"
   ]
  },
  {
   "cell_type": "markdown",
   "metadata": {
    "colab": {},
    "colab_type": "code",
    "id": "C4RQbKFqbXRO"
   },
   "source": [
    "## MultinomianlNB"
   ]
  },
  {
   "cell_type": "code",
   "execution_count": 0,
   "metadata": {
    "colab": {},
    "colab_type": "code",
    "collapsed": true,
    "id": "CsvyFNQh56FQ"
   },
   "outputs": [],
   "source": [
    "mnb = MultinomialNB()"
   ]
  },
  {
   "cell_type": "code",
   "execution_count": 22,
   "metadata": {
    "colab": {
     "base_uri": "https://localhost:8080/",
     "height": 35
    },
    "colab_type": "code",
    "id": "96_WFiWS6BmM",
    "outputId": "c4fe69fc-7ee4-4aad-c504-d390706c8bae"
   },
   "outputs": [
    {
     "data": {
      "text/plain": [
       "MultinomialNB(alpha=1.0, class_prior=None, fit_prior=True)"
      ]
     },
     "execution_count": 22,
     "metadata": {
      "tags": []
     },
     "output_type": "execute_result"
    }
   ],
   "source": [
    "mnb.fit(X_train,y_train)"
   ]
  },
  {
   "cell_type": "code",
   "execution_count": 23,
   "metadata": {
    "colab": {
     "base_uri": "https://localhost:8080/",
     "height": 35
    },
    "colab_type": "code",
    "id": "SUQ4a3xU6GT2",
    "outputId": "577d0e2b-21b5-433f-a427-97b99fa57725"
   },
   "outputs": [
    {
     "data": {
      "text/plain": [
       "3.450091302463738"
      ]
     },
     "execution_count": 23,
     "metadata": {
      "tags": []
     },
     "output_type": "execute_result"
    }
   ],
   "source": [
    "log_loss(y_test,mnb.predict_proba(X_test))"
   ]
  },
  {
   "cell_type": "markdown",
   "metadata": {},
   "source": [
    "## SVM"
   ]
  },
  {
   "cell_type": "code",
   "execution_count": 0,
   "metadata": {
    "colab": {},
    "colab_type": "code",
    "collapsed": true,
    "id": "aiIl8thG6ZMe"
   },
   "outputs": [],
   "source": [
    "svc = SVC(probability=True)"
   ]
  },
  {
   "cell_type": "code",
   "execution_count": 29,
   "metadata": {
    "colab": {
     "base_uri": "https://localhost:8080/",
     "height": 87
    },
    "colab_type": "code",
    "id": "BCAAd6pT620_",
    "outputId": "fd8f4fea-4a85-43e7-f624-77128e22fce6"
   },
   "outputs": [
    {
     "data": {
      "text/plain": [
       "SVC(C=1.0, cache_size=200, class_weight=None, coef0=0.0,\n",
       "  decision_function_shape='ovr', degree=3, gamma='auto', kernel='rbf',\n",
       "  max_iter=-1, probability=True, random_state=None, shrinking=True,\n",
       "  tol=0.001, verbose=False)"
      ]
     },
     "execution_count": 29,
     "metadata": {
      "tags": []
     },
     "output_type": "execute_result"
    }
   ],
   "source": [
    "svc.fit(X_train,y_train)"
   ]
  },
  {
   "cell_type": "code",
   "execution_count": 30,
   "metadata": {
    "colab": {
     "base_uri": "https://localhost:8080/",
     "height": 35
    },
    "colab_type": "code",
    "id": "ypytPtxa9D3D",
    "outputId": "e60f4b9f-62dd-439f-bbf9-89a4c12ce7b3"
   },
   "outputs": [
    {
     "data": {
      "text/plain": [
       "0.5651968407519864"
      ]
     },
     "execution_count": 30,
     "metadata": {
      "tags": []
     },
     "output_type": "execute_result"
    }
   ],
   "source": [
    "log_loss(y_test,svc.predict_proba(X_test))"
   ]
  },
  {
   "cell_type": "markdown",
   "metadata": {},
   "source": [
    "## Meta Learners"
   ]
  },
  {
   "cell_type": "code",
   "execution_count": 0,
   "metadata": {
    "colab": {},
    "colab_type": "code",
    "collapsed": true,
    "id": "FnZQubYkKu4G"
   },
   "outputs": [],
   "source": [
    "feat_1_gb = gb2.predict_proba(X_train)"
   ]
  },
  {
   "cell_type": "code",
   "execution_count": 0,
   "metadata": {
    "colab": {},
    "colab_type": "code",
    "collapsed": true,
    "id": "gqxaTJ3SK_yb"
   },
   "outputs": [],
   "source": [
    "feat_2_svc = svc.predict_proba(X_train)"
   ]
  },
  {
   "cell_type": "code",
   "execution_count": 0,
   "metadata": {
    "colab": {},
    "colab_type": "code",
    "collapsed": true,
    "id": "U8efHBBiLIOA"
   },
   "outputs": [],
   "source": [
    "X_meta_train = pd.concat([pd.DataFrame(feat_1_gb),pd.DataFrame(feat_2_svc)],axis=1)"
   ]
  },
  {
   "cell_type": "code",
   "execution_count": 49,
   "metadata": {
    "colab": {
     "base_uri": "https://localhost:8080/",
     "height": 289
    },
    "colab_type": "code",
    "id": "Au7dX4eCMX2X",
    "outputId": "3a356fb8-c47e-4eeb-8b8a-df054d5d0939"
   },
   "outputs": [
    {
     "data": {
      "text/html": [
       "<div>\n",
       "<style scoped>\n",
       "    .dataframe tbody tr th:only-of-type {\n",
       "        vertical-align: middle;\n",
       "    }\n",
       "\n",
       "    .dataframe tbody tr th {\n",
       "        vertical-align: top;\n",
       "    }\n",
       "\n",
       "    .dataframe thead th {\n",
       "        text-align: right;\n",
       "    }\n",
       "</style>\n",
       "<table border=\"1\" class=\"dataframe\">\n",
       "  <thead>\n",
       "    <tr style=\"text-align: right;\">\n",
       "      <th></th>\n",
       "      <th>0</th>\n",
       "      <th>1</th>\n",
       "      <th>2</th>\n",
       "      <th>3</th>\n",
       "      <th>4</th>\n",
       "      <th>5</th>\n",
       "      <th>6</th>\n",
       "      <th>7</th>\n",
       "      <th>8</th>\n",
       "      <th>0</th>\n",
       "      <th>1</th>\n",
       "      <th>2</th>\n",
       "      <th>3</th>\n",
       "      <th>4</th>\n",
       "      <th>5</th>\n",
       "      <th>6</th>\n",
       "      <th>7</th>\n",
       "      <th>8</th>\n",
       "    </tr>\n",
       "  </thead>\n",
       "  <tbody>\n",
       "    <tr>\n",
       "      <th>0</th>\n",
       "      <td>4.439761e-03</td>\n",
       "      <td>1.112042e-04</td>\n",
       "      <td>2.382785e-05</td>\n",
       "      <td>3.111815e-06</td>\n",
       "      <td>4.607074e-14</td>\n",
       "      <td>2.706367e-05</td>\n",
       "      <td>1.504268e-05</td>\n",
       "      <td>6.466183e-06</td>\n",
       "      <td>9.953735e-01</td>\n",
       "      <td>9.137233e-02</td>\n",
       "      <td>7.128310e-04</td>\n",
       "      <td>5.478633e-04</td>\n",
       "      <td>7.075260e-04</td>\n",
       "      <td>0.000209</td>\n",
       "      <td>3.912098e-03</td>\n",
       "      <td>0.001205</td>\n",
       "      <td>1.553012e-03</td>\n",
       "      <td>8.997796e-01</td>\n",
       "    </tr>\n",
       "    <tr>\n",
       "      <th>1</th>\n",
       "      <td>9.714540e-09</td>\n",
       "      <td>1.102289e-07</td>\n",
       "      <td>7.858907e-09</td>\n",
       "      <td>4.170332e-08</td>\n",
       "      <td>9.999998e-01</td>\n",
       "      <td>2.221387e-09</td>\n",
       "      <td>3.033133e-08</td>\n",
       "      <td>5.735649e-09</td>\n",
       "      <td>1.183788e-08</td>\n",
       "      <td>1.428690e-09</td>\n",
       "      <td>4.238699e-09</td>\n",
       "      <td>8.904438e-10</td>\n",
       "      <td>3.389946e-09</td>\n",
       "      <td>0.999997</td>\n",
       "      <td>1.826665e-08</td>\n",
       "      <td>0.000003</td>\n",
       "      <td>2.943506e-08</td>\n",
       "      <td>2.396427e-07</td>\n",
       "    </tr>\n",
       "    <tr>\n",
       "      <th>2</th>\n",
       "      <td>3.530935e-05</td>\n",
       "      <td>9.488228e-01</td>\n",
       "      <td>5.106876e-02</td>\n",
       "      <td>2.258274e-05</td>\n",
       "      <td>1.070194e-11</td>\n",
       "      <td>5.481656e-06</td>\n",
       "      <td>2.182808e-06</td>\n",
       "      <td>1.292028e-05</td>\n",
       "      <td>2.995967e-05</td>\n",
       "      <td>4.512663e-04</td>\n",
       "      <td>8.233249e-01</td>\n",
       "      <td>1.650795e-01</td>\n",
       "      <td>6.878065e-03</td>\n",
       "      <td>0.000954</td>\n",
       "      <td>3.698288e-04</td>\n",
       "      <td>0.002203</td>\n",
       "      <td>3.923130e-04</td>\n",
       "      <td>3.466790e-04</td>\n",
       "    </tr>\n",
       "    <tr>\n",
       "      <th>3</th>\n",
       "      <td>7.953619e-04</td>\n",
       "      <td>1.579228e-02</td>\n",
       "      <td>2.106128e-03</td>\n",
       "      <td>4.709531e-03</td>\n",
       "      <td>5.080602e-07</td>\n",
       "      <td>9.301346e-01</td>\n",
       "      <td>1.984440e-03</td>\n",
       "      <td>2.562962e-03</td>\n",
       "      <td>4.191418e-02</td>\n",
       "      <td>4.290061e-03</td>\n",
       "      <td>6.443196e-03</td>\n",
       "      <td>1.392085e-04</td>\n",
       "      <td>2.153763e-03</td>\n",
       "      <td>0.000759</td>\n",
       "      <td>2.682548e-01</td>\n",
       "      <td>0.000315</td>\n",
       "      <td>1.740501e-03</td>\n",
       "      <td>7.159050e-01</td>\n",
       "    </tr>\n",
       "    <tr>\n",
       "      <th>4</th>\n",
       "      <td>2.002009e-04</td>\n",
       "      <td>9.253761e-02</td>\n",
       "      <td>8.893313e-01</td>\n",
       "      <td>4.272307e-03</td>\n",
       "      <td>2.397962e-07</td>\n",
       "      <td>4.049978e-04</td>\n",
       "      <td>9.218248e-03</td>\n",
       "      <td>3.793573e-04</td>\n",
       "      <td>3.655698e-03</td>\n",
       "      <td>2.389568e-03</td>\n",
       "      <td>3.573378e-01</td>\n",
       "      <td>5.973758e-01</td>\n",
       "      <td>1.574094e-02</td>\n",
       "      <td>0.004253</td>\n",
       "      <td>9.086599e-04</td>\n",
       "      <td>0.020634</td>\n",
       "      <td>5.575301e-04</td>\n",
       "      <td>8.023803e-04</td>\n",
       "    </tr>\n",
       "  </tbody>\n",
       "</table>\n",
       "</div>"
      ],
      "text/plain": [
       "              0             1             2             3             4  \\\n",
       "0  4.439761e-03  1.112042e-04  2.382785e-05  3.111815e-06  4.607074e-14   \n",
       "1  9.714540e-09  1.102289e-07  7.858907e-09  4.170332e-08  9.999998e-01   \n",
       "2  3.530935e-05  9.488228e-01  5.106876e-02  2.258274e-05  1.070194e-11   \n",
       "3  7.953619e-04  1.579228e-02  2.106128e-03  4.709531e-03  5.080602e-07   \n",
       "4  2.002009e-04  9.253761e-02  8.893313e-01  4.272307e-03  2.397962e-07   \n",
       "\n",
       "              5             6             7             8             0  \\\n",
       "0  2.706367e-05  1.504268e-05  6.466183e-06  9.953735e-01  9.137233e-02   \n",
       "1  2.221387e-09  3.033133e-08  5.735649e-09  1.183788e-08  1.428690e-09   \n",
       "2  5.481656e-06  2.182808e-06  1.292028e-05  2.995967e-05  4.512663e-04   \n",
       "3  9.301346e-01  1.984440e-03  2.562962e-03  4.191418e-02  4.290061e-03   \n",
       "4  4.049978e-04  9.218248e-03  3.793573e-04  3.655698e-03  2.389568e-03   \n",
       "\n",
       "              1             2             3         4             5         6  \\\n",
       "0  7.128310e-04  5.478633e-04  7.075260e-04  0.000209  3.912098e-03  0.001205   \n",
       "1  4.238699e-09  8.904438e-10  3.389946e-09  0.999997  1.826665e-08  0.000003   \n",
       "2  8.233249e-01  1.650795e-01  6.878065e-03  0.000954  3.698288e-04  0.002203   \n",
       "3  6.443196e-03  1.392085e-04  2.153763e-03  0.000759  2.682548e-01  0.000315   \n",
       "4  3.573378e-01  5.973758e-01  1.574094e-02  0.004253  9.086599e-04  0.020634   \n",
       "\n",
       "              7             8  \n",
       "0  1.553012e-03  8.997796e-01  \n",
       "1  2.943506e-08  2.396427e-07  \n",
       "2  3.923130e-04  3.466790e-04  \n",
       "3  1.740501e-03  7.159050e-01  \n",
       "4  5.575301e-04  8.023803e-04  "
      ]
     },
     "execution_count": 49,
     "metadata": {
      "tags": []
     },
     "output_type": "execute_result"
    }
   ],
   "source": [
    "X_meta_train.head()"
   ]
  },
  {
   "cell_type": "code",
   "execution_count": 0,
   "metadata": {
    "colab": {},
    "colab_type": "code",
    "collapsed": true,
    "id": "zh6N5f1bL_f0"
   },
   "outputs": [],
   "source": [
    "feat_1_gb_test = gb2.predict_proba(X_test)\n",
    "feat_2_svc_test = svc.predict_proba(X_test)\n",
    "X_meta_test = pd.concat([pd.DataFrame(feat_1_gb_test),pd.DataFrame(feat_2_svc_test)],axis=1)"
   ]
  },
  {
   "cell_type": "code",
   "execution_count": 51,
   "metadata": {
    "colab": {
     "base_uri": "https://localhost:8080/",
     "height": 309
    },
    "colab_type": "code",
    "id": "5GvOxgldN1Cj",
    "outputId": "3d2e7ec1-4f9a-4d06-a5e4-1e5fda80bf13"
   },
   "outputs": [
    {
     "data": {
      "text/html": [
       "<div>\n",
       "<style scoped>\n",
       "    .dataframe tbody tr th:only-of-type {\n",
       "        vertical-align: middle;\n",
       "    }\n",
       "\n",
       "    .dataframe tbody tr th {\n",
       "        vertical-align: top;\n",
       "    }\n",
       "\n",
       "    .dataframe thead th {\n",
       "        text-align: right;\n",
       "    }\n",
       "</style>\n",
       "<table border=\"1\" class=\"dataframe\">\n",
       "  <thead>\n",
       "    <tr style=\"text-align: right;\">\n",
       "      <th></th>\n",
       "      <th>0</th>\n",
       "      <th>1</th>\n",
       "      <th>2</th>\n",
       "      <th>3</th>\n",
       "      <th>4</th>\n",
       "      <th>5</th>\n",
       "      <th>6</th>\n",
       "      <th>7</th>\n",
       "      <th>8</th>\n",
       "      <th>0</th>\n",
       "      <th>1</th>\n",
       "      <th>2</th>\n",
       "      <th>3</th>\n",
       "      <th>4</th>\n",
       "      <th>5</th>\n",
       "      <th>6</th>\n",
       "      <th>7</th>\n",
       "      <th>8</th>\n",
       "    </tr>\n",
       "  </thead>\n",
       "  <tbody>\n",
       "    <tr>\n",
       "      <th>0</th>\n",
       "      <td>8.447481e-02</td>\n",
       "      <td>1.151424e-02</td>\n",
       "      <td>5.872739e-03</td>\n",
       "      <td>1.697034e-03</td>\n",
       "      <td>2.744064e-07</td>\n",
       "      <td>3.118215e-01</td>\n",
       "      <td>1.257570e-02</td>\n",
       "      <td>3.915925e-02</td>\n",
       "      <td>5.328844e-01</td>\n",
       "      <td>0.017874</td>\n",
       "      <td>0.007305</td>\n",
       "      <td>0.036993</td>\n",
       "      <td>0.001051</td>\n",
       "      <td>0.000262</td>\n",
       "      <td>0.016915</td>\n",
       "      <td>0.013286</td>\n",
       "      <td>0.144194</td>\n",
       "      <td>0.762120</td>\n",
       "    </tr>\n",
       "    <tr>\n",
       "      <th>1</th>\n",
       "      <td>2.032773e-05</td>\n",
       "      <td>4.673387e-01</td>\n",
       "      <td>4.807415e-01</td>\n",
       "      <td>5.140058e-02</td>\n",
       "      <td>1.411128e-08</td>\n",
       "      <td>7.483281e-05</td>\n",
       "      <td>2.952040e-04</td>\n",
       "      <td>1.052145e-04</td>\n",
       "      <td>2.364862e-05</td>\n",
       "      <td>0.000053</td>\n",
       "      <td>0.550869</td>\n",
       "      <td>0.427900</td>\n",
       "      <td>0.020983</td>\n",
       "      <td>0.000058</td>\n",
       "      <td>0.000028</td>\n",
       "      <td>0.000085</td>\n",
       "      <td>0.000014</td>\n",
       "      <td>0.000008</td>\n",
       "    </tr>\n",
       "    <tr>\n",
       "      <th>2</th>\n",
       "      <td>7.205582e-07</td>\n",
       "      <td>3.002350e-06</td>\n",
       "      <td>6.654588e-06</td>\n",
       "      <td>2.291648e-07</td>\n",
       "      <td>5.584673e-15</td>\n",
       "      <td>2.246140e-06</td>\n",
       "      <td>7.426911e-05</td>\n",
       "      <td>9.999128e-01</td>\n",
       "      <td>1.090683e-07</td>\n",
       "      <td>0.003131</td>\n",
       "      <td>0.001543</td>\n",
       "      <td>0.001131</td>\n",
       "      <td>0.000464</td>\n",
       "      <td>0.000125</td>\n",
       "      <td>0.003474</td>\n",
       "      <td>0.003623</td>\n",
       "      <td>0.983028</td>\n",
       "      <td>0.003481</td>\n",
       "    </tr>\n",
       "    <tr>\n",
       "      <th>3</th>\n",
       "      <td>8.470589e-09</td>\n",
       "      <td>1.668876e-08</td>\n",
       "      <td>3.575327e-09</td>\n",
       "      <td>3.110255e-09</td>\n",
       "      <td>9.999999e-01</td>\n",
       "      <td>1.037122e-09</td>\n",
       "      <td>1.488738e-08</td>\n",
       "      <td>3.424354e-09</td>\n",
       "      <td>5.726237e-09</td>\n",
       "      <td>0.000151</td>\n",
       "      <td>0.000262</td>\n",
       "      <td>0.000062</td>\n",
       "      <td>0.001056</td>\n",
       "      <td>0.997004</td>\n",
       "      <td>0.000243</td>\n",
       "      <td>0.000577</td>\n",
       "      <td>0.000319</td>\n",
       "      <td>0.000326</td>\n",
       "    </tr>\n",
       "    <tr>\n",
       "      <th>4</th>\n",
       "      <td>2.336165e-03</td>\n",
       "      <td>4.879896e-04</td>\n",
       "      <td>1.540843e-03</td>\n",
       "      <td>8.825508e-05</td>\n",
       "      <td>7.388433e-14</td>\n",
       "      <td>4.038001e-04</td>\n",
       "      <td>2.909409e-03</td>\n",
       "      <td>9.919905e-01</td>\n",
       "      <td>2.430867e-04</td>\n",
       "      <td>0.039224</td>\n",
       "      <td>0.005609</td>\n",
       "      <td>0.005693</td>\n",
       "      <td>0.002518</td>\n",
       "      <td>0.000503</td>\n",
       "      <td>0.038706</td>\n",
       "      <td>0.154208</td>\n",
       "      <td>0.742639</td>\n",
       "      <td>0.010900</td>\n",
       "    </tr>\n",
       "  </tbody>\n",
       "</table>\n",
       "</div>"
      ],
      "text/plain": [
       "              0             1             2             3             4  \\\n",
       "0  8.447481e-02  1.151424e-02  5.872739e-03  1.697034e-03  2.744064e-07   \n",
       "1  2.032773e-05  4.673387e-01  4.807415e-01  5.140058e-02  1.411128e-08   \n",
       "2  7.205582e-07  3.002350e-06  6.654588e-06  2.291648e-07  5.584673e-15   \n",
       "3  8.470589e-09  1.668876e-08  3.575327e-09  3.110255e-09  9.999999e-01   \n",
       "4  2.336165e-03  4.879896e-04  1.540843e-03  8.825508e-05  7.388433e-14   \n",
       "\n",
       "              5             6             7             8         0         1  \\\n",
       "0  3.118215e-01  1.257570e-02  3.915925e-02  5.328844e-01  0.017874  0.007305   \n",
       "1  7.483281e-05  2.952040e-04  1.052145e-04  2.364862e-05  0.000053  0.550869   \n",
       "2  2.246140e-06  7.426911e-05  9.999128e-01  1.090683e-07  0.003131  0.001543   \n",
       "3  1.037122e-09  1.488738e-08  3.424354e-09  5.726237e-09  0.000151  0.000262   \n",
       "4  4.038001e-04  2.909409e-03  9.919905e-01  2.430867e-04  0.039224  0.005609   \n",
       "\n",
       "          2         3         4         5         6         7         8  \n",
       "0  0.036993  0.001051  0.000262  0.016915  0.013286  0.144194  0.762120  \n",
       "1  0.427900  0.020983  0.000058  0.000028  0.000085  0.000014  0.000008  \n",
       "2  0.001131  0.000464  0.000125  0.003474  0.003623  0.983028  0.003481  \n",
       "3  0.000062  0.001056  0.997004  0.000243  0.000577  0.000319  0.000326  \n",
       "4  0.005693  0.002518  0.000503  0.038706  0.154208  0.742639  0.010900  "
      ]
     },
     "execution_count": 51,
     "metadata": {
      "tags": []
     },
     "output_type": "execute_result"
    }
   ],
   "source": [
    "X_meta_test.head()"
   ]
  },
  {
   "cell_type": "code",
   "execution_count": 55,
   "metadata": {
    "colab": {
     "base_uri": "https://localhost:8080/",
     "height": 87
    },
    "colab_type": "code",
    "id": "L3i0puZMLX0Z",
    "outputId": "4b149a8c-5aee-4f8a-c9b9-03bf2cc6afcb"
   },
   "outputs": [
    {
     "data": {
      "text/plain": [
       "LogisticRegression(C=1.0, class_weight=None, dual=False, fit_intercept=True,\n",
       "          intercept_scaling=1, max_iter=100, multi_class='ovr', n_jobs=1,\n",
       "          penalty='l2', random_state=None, solver='liblinear', tol=0.0001,\n",
       "          verbose=0, warm_start=False)"
      ]
     },
     "execution_count": 55,
     "metadata": {
      "tags": []
     },
     "output_type": "execute_result"
    }
   ],
   "source": [
    "lr = LogisticRegression()\n",
    "lr.fit(X_meta_train,y_train)"
   ]
  },
  {
   "cell_type": "code",
   "execution_count": 56,
   "metadata": {
    "colab": {
     "base_uri": "https://localhost:8080/",
     "height": 35
    },
    "colab_type": "code",
    "id": "lJjH7xyDODc5",
    "outputId": "723291f2-49f6-4949-db50-b4feb8c753f5"
   },
   "outputs": [
    {
     "data": {
      "text/plain": [
       "0.679973323403471"
      ]
     },
     "execution_count": 56,
     "metadata": {
      "tags": []
     },
     "output_type": "execute_result"
    }
   ],
   "source": [
    "log_loss(y_test,lr.predict_proba(X_meta_test))"
   ]
  },
  {
   "cell_type": "code",
   "execution_count": 0,
   "metadata": {
    "colab": {},
    "colab_type": "code",
    "collapsed": true,
    "id": "Pp2QzZcwPGQW"
   },
   "outputs": [],
   "source": [
    "mnb_meta = MultinomialNB()"
   ]
  },
  {
   "cell_type": "code",
   "execution_count": 58,
   "metadata": {
    "colab": {
     "base_uri": "https://localhost:8080/",
     "height": 35
    },
    "colab_type": "code",
    "id": "Pl8DqVRIPI7c",
    "outputId": "c56f6aa5-34da-449e-f816-b26588848370"
   },
   "outputs": [
    {
     "data": {
      "text/plain": [
       "MultinomialNB(alpha=1.0, class_prior=None, fit_prior=True)"
      ]
     },
     "execution_count": 58,
     "metadata": {
      "tags": []
     },
     "output_type": "execute_result"
    }
   ],
   "source": [
    "mnb_meta.fit(X_meta_train,y_train)"
   ]
  },
  {
   "cell_type": "code",
   "execution_count": 59,
   "metadata": {
    "colab": {
     "base_uri": "https://localhost:8080/",
     "height": 35
    },
    "colab_type": "code",
    "id": "o8JAXABuPPre",
    "outputId": "ef02b0dc-7577-4486-db9c-97e7d43a6429"
   },
   "outputs": [
    {
     "data": {
      "text/plain": [
       "0.5890134467396764"
      ]
     },
     "execution_count": 59,
     "metadata": {
      "tags": []
     },
     "output_type": "execute_result"
    }
   ],
   "source": [
    "log_loss(y_test,mnb_meta.predict_proba(X_meta_test))"
   ]
  },
  {
   "cell_type": "markdown",
   "metadata": {},
   "source": [
    "## Feature Generation"
   ]
  },
  {
   "cell_type": "code",
   "execution_count": 0,
   "metadata": {
    "colab": {},
    "colab_type": "code",
    "collapsed": true,
    "id": "0uQ7DGWXaSpP"
   },
   "outputs": [],
   "source": [
    "sum = [row.values.sum() for ix,row in X_train.iterrows()]"
   ]
  },
  {
   "cell_type": "code",
   "execution_count": 82,
   "metadata": {
    "colab": {
     "base_uri": "https://localhost:8080/",
     "height": 124
    },
    "colab_type": "code",
    "id": "c7Oil-lSe1vh",
    "outputId": "063dada2-3529-4b7c-92e9-72a1cd8cdc6a"
   },
   "outputs": [
    {
     "name": "stderr",
     "output_type": "stream",
     "text": [
      "/usr/local/lib/python2.7/dist-packages/ipykernel_launcher.py:1: SettingWithCopyWarning: \n",
      "A value is trying to be set on a copy of a slice from a DataFrame\n",
      "\n",
      "See the caveats in the documentation: http://pandas.pydata.org/pandas-docs/stable/indexing.html#indexing-view-versus-copy\n",
      "  \"\"\"Entry point for launching an IPython kernel.\n"
     ]
    }
   ],
   "source": [
    "X_train.drop(\"num_zeros\",axis=1,inplace=True)"
   ]
  },
  {
   "cell_type": "code",
   "execution_count": 0,
   "metadata": {
    "colab": {},
    "colab_type": "code",
    "collapsed": true,
    "id": "H9LnxbV7fhOt"
   },
   "outputs": [],
   "source": [
    "max_val = [row.values.max() for ix,row in X_train.iterrows()]"
   ]
  },
  {
   "cell_type": "code",
   "execution_count": 0,
   "metadata": {
    "colab": {},
    "colab_type": "code",
    "collapsed": true,
    "id": "U_-Bh7BsgJIW"
   },
   "outputs": [],
   "source": [
    "num_zeros = [(row.values==0).sum() for ix,row in X_train.iterrows()]"
   ]
  },
  {
   "cell_type": "code",
   "execution_count": 85,
   "metadata": {
    "colab": {
     "base_uri": "https://localhost:8080/",
     "height": 35
    },
    "colab_type": "code",
    "id": "42JX7rrNgJFH",
    "outputId": "24570dea-02dd-4303-acb4-726ea13ca53a"
   },
   "outputs": [
    {
     "name": "stdout",
     "output_type": "stream",
     "text": [
      "13\n"
     ]
    }
   ],
   "source": [
    "for ix,row in X_train.iterrows():\n",
    "  print(row.values.max())\n",
    "  break"
   ]
  },
  {
   "cell_type": "code",
   "execution_count": 0,
   "metadata": {
    "colab": {},
    "colab_type": "code",
    "collapsed": true,
    "id": "keVYsT9ThaQG"
   },
   "outputs": [],
   "source": [
    "max_val"
   ]
  },
  {
   "cell_type": "code",
   "execution_count": 0,
   "metadata": {
    "colab": {},
    "colab_type": "code",
    "collapsed": true,
    "id": "59KJhrTwcYKa"
   },
   "outputs": [],
   "source": [
    "X_train[\"sum\"] = sum\n",
    "X_train[\"max_val\"] = max_val\n",
    "X_train[\"num_zeros\"] = num_zeros"
   ]
  },
  {
   "cell_type": "code",
   "execution_count": 91,
   "metadata": {
    "colab": {
     "base_uri": "https://localhost:8080/",
     "height": 251
    },
    "colab_type": "code",
    "id": "5UyICCtkcZne",
    "outputId": "11fc8357-2aaa-4ab4-c857-28f12da47331"
   },
   "outputs": [
    {
     "data": {
      "text/html": [
       "<div>\n",
       "<style scoped>\n",
       "    .dataframe tbody tr th:only-of-type {\n",
       "        vertical-align: middle;\n",
       "    }\n",
       "\n",
       "    .dataframe tbody tr th {\n",
       "        vertical-align: top;\n",
       "    }\n",
       "\n",
       "    .dataframe thead th {\n",
       "        text-align: right;\n",
       "    }\n",
       "</style>\n",
       "<table border=\"1\" class=\"dataframe\">\n",
       "  <thead>\n",
       "    <tr style=\"text-align: right;\">\n",
       "      <th></th>\n",
       "      <th>feat_1</th>\n",
       "      <th>feat_2</th>\n",
       "      <th>feat_3</th>\n",
       "      <th>feat_4</th>\n",
       "      <th>feat_5</th>\n",
       "      <th>feat_6</th>\n",
       "      <th>feat_7</th>\n",
       "      <th>feat_8</th>\n",
       "      <th>feat_9</th>\n",
       "      <th>feat_10</th>\n",
       "      <th>...</th>\n",
       "      <th>feat_87</th>\n",
       "      <th>feat_88</th>\n",
       "      <th>feat_89</th>\n",
       "      <th>feat_90</th>\n",
       "      <th>feat_91</th>\n",
       "      <th>feat_92</th>\n",
       "      <th>feat_93</th>\n",
       "      <th>sum</th>\n",
       "      <th>max_val</th>\n",
       "      <th>num_zeros</th>\n",
       "    </tr>\n",
       "  </thead>\n",
       "  <tbody>\n",
       "    <tr>\n",
       "      <th>57972</th>\n",
       "      <td>0</td>\n",
       "      <td>0</td>\n",
       "      <td>0</td>\n",
       "      <td>0</td>\n",
       "      <td>0</td>\n",
       "      <td>0</td>\n",
       "      <td>0</td>\n",
       "      <td>0</td>\n",
       "      <td>0</td>\n",
       "      <td>0</td>\n",
       "      <td>...</td>\n",
       "      <td>4</td>\n",
       "      <td>2</td>\n",
       "      <td>0</td>\n",
       "      <td>0</td>\n",
       "      <td>0</td>\n",
       "      <td>0</td>\n",
       "      <td>0</td>\n",
       "      <td>55</td>\n",
       "      <td>13</td>\n",
       "      <td>75</td>\n",
       "    </tr>\n",
       "    <tr>\n",
       "      <th>30244</th>\n",
       "      <td>0</td>\n",
       "      <td>0</td>\n",
       "      <td>0</td>\n",
       "      <td>0</td>\n",
       "      <td>0</td>\n",
       "      <td>0</td>\n",
       "      <td>0</td>\n",
       "      <td>0</td>\n",
       "      <td>0</td>\n",
       "      <td>0</td>\n",
       "      <td>...</td>\n",
       "      <td>0</td>\n",
       "      <td>0</td>\n",
       "      <td>0</td>\n",
       "      <td>0</td>\n",
       "      <td>0</td>\n",
       "      <td>2</td>\n",
       "      <td>0</td>\n",
       "      <td>9</td>\n",
       "      <td>6</td>\n",
       "      <td>90</td>\n",
       "    </tr>\n",
       "    <tr>\n",
       "      <th>9427</th>\n",
       "      <td>0</td>\n",
       "      <td>0</td>\n",
       "      <td>0</td>\n",
       "      <td>0</td>\n",
       "      <td>0</td>\n",
       "      <td>0</td>\n",
       "      <td>1</td>\n",
       "      <td>0</td>\n",
       "      <td>0</td>\n",
       "      <td>0</td>\n",
       "      <td>...</td>\n",
       "      <td>0</td>\n",
       "      <td>0</td>\n",
       "      <td>2</td>\n",
       "      <td>0</td>\n",
       "      <td>0</td>\n",
       "      <td>1</td>\n",
       "      <td>0</td>\n",
       "      <td>77</td>\n",
       "      <td>16</td>\n",
       "      <td>68</td>\n",
       "    </tr>\n",
       "    <tr>\n",
       "      <th>35950</th>\n",
       "      <td>0</td>\n",
       "      <td>0</td>\n",
       "      <td>0</td>\n",
       "      <td>0</td>\n",
       "      <td>0</td>\n",
       "      <td>0</td>\n",
       "      <td>0</td>\n",
       "      <td>0</td>\n",
       "      <td>0</td>\n",
       "      <td>0</td>\n",
       "      <td>...</td>\n",
       "      <td>0</td>\n",
       "      <td>0</td>\n",
       "      <td>0</td>\n",
       "      <td>0</td>\n",
       "      <td>0</td>\n",
       "      <td>2</td>\n",
       "      <td>0</td>\n",
       "      <td>17</td>\n",
       "      <td>2</td>\n",
       "      <td>81</td>\n",
       "    </tr>\n",
       "    <tr>\n",
       "      <th>18635</th>\n",
       "      <td>0</td>\n",
       "      <td>0</td>\n",
       "      <td>0</td>\n",
       "      <td>0</td>\n",
       "      <td>0</td>\n",
       "      <td>0</td>\n",
       "      <td>0</td>\n",
       "      <td>2</td>\n",
       "      <td>0</td>\n",
       "      <td>0</td>\n",
       "      <td>...</td>\n",
       "      <td>0</td>\n",
       "      <td>0</td>\n",
       "      <td>0</td>\n",
       "      <td>0</td>\n",
       "      <td>0</td>\n",
       "      <td>0</td>\n",
       "      <td>0</td>\n",
       "      <td>29</td>\n",
       "      <td>6</td>\n",
       "      <td>77</td>\n",
       "    </tr>\n",
       "  </tbody>\n",
       "</table>\n",
       "<p>5 rows × 96 columns</p>\n",
       "</div>"
      ],
      "text/plain": [
       "       feat_1  feat_2  feat_3  feat_4  feat_5  feat_6  feat_7  feat_8  feat_9  \\\n",
       "57972       0       0       0       0       0       0       0       0       0   \n",
       "30244       0       0       0       0       0       0       0       0       0   \n",
       "9427        0       0       0       0       0       0       1       0       0   \n",
       "35950       0       0       0       0       0       0       0       0       0   \n",
       "18635       0       0       0       0       0       0       0       2       0   \n",
       "\n",
       "       feat_10    ...      feat_87  feat_88  feat_89  feat_90  feat_91  \\\n",
       "57972        0    ...            4        2        0        0        0   \n",
       "30244        0    ...            0        0        0        0        0   \n",
       "9427         0    ...            0        0        2        0        0   \n",
       "35950        0    ...            0        0        0        0        0   \n",
       "18635        0    ...            0        0        0        0        0   \n",
       "\n",
       "       feat_92  feat_93  sum  max_val  num_zeros  \n",
       "57972        0        0   55       13         75  \n",
       "30244        2        0    9        6         90  \n",
       "9427         1        0   77       16         68  \n",
       "35950        2        0   17        2         81  \n",
       "18635        0        0   29        6         77  \n",
       "\n",
       "[5 rows x 96 columns]"
      ]
     },
     "execution_count": 91,
     "metadata": {
      "tags": []
     },
     "output_type": "execute_result"
    }
   ],
   "source": [
    "X_train.head()"
   ]
  },
  {
   "cell_type": "code",
   "execution_count": 0,
   "metadata": {
    "colab": {},
    "colab_type": "code",
    "collapsed": true,
    "id": "yKJ--H-qhvek"
   },
   "outputs": [],
   "source": [
    "mnb_new_features = MultinomialNB()"
   ]
  },
  {
   "cell_type": "code",
   "execution_count": 96,
   "metadata": {
    "colab": {
     "base_uri": "https://localhost:8080/",
     "height": 35
    },
    "colab_type": "code",
    "id": "DNVrcj5_hzTP",
    "outputId": "052b4305-b8a8-46a4-ab0f-c574271158f9"
   },
   "outputs": [
    {
     "data": {
      "text/plain": [
       "MultinomialNB(alpha=1.0, class_prior=None, fit_prior=True)"
      ]
     },
     "execution_count": 96,
     "metadata": {
      "tags": []
     },
     "output_type": "execute_result"
    }
   ],
   "source": [
    "mnb_new_features.fit(X_train,y_train)"
   ]
  },
  {
   "cell_type": "code",
   "execution_count": 0,
   "metadata": {
    "colab": {},
    "colab_type": "code",
    "collapsed": true,
    "id": "Pz61U6QKhzPi"
   },
   "outputs": [],
   "source": [
    "sum = [row.values.sum() for ix,row in X_test.iterrows()]\n",
    "max_val = [row.values.max() for ix,row in X_test.iterrows()]\n",
    "num_zeros = [(row.values==0).sum() for ix,row in X_test.iterrows()]\n",
    "X_test[\"sum\"] = sum\n",
    "X_test[\"max_val\"] = max_val\n",
    "X_test[\"num_zeros\"] = num_zeros"
   ]
  },
  {
   "cell_type": "code",
   "execution_count": 97,
   "metadata": {
    "colab": {
     "base_uri": "https://localhost:8080/",
     "height": 35
    },
    "colab_type": "code",
    "id": "83rOJjy-iFGW",
    "outputId": "7638c3fe-3bc1-4599-f569-6bde10ff86e3"
   },
   "outputs": [
    {
     "data": {
      "text/plain": [
       "4.929673235631725"
      ]
     },
     "execution_count": 97,
     "metadata": {
      "tags": []
     },
     "output_type": "execute_result"
    }
   ],
   "source": [
    "log_loss(y_test,mnb_new_features.predict_proba(X_test))"
   ]
  },
  {
   "cell_type": "markdown",
   "metadata": {
    "colab": {},
    "colab_type": "code",
    "id": "z7s_8oM4iE7V"
   },
   "source": [
    "## Extreme Gradient Boost"
   ]
  },
  {
   "cell_type": "code",
   "execution_count": 0,
   "metadata": {
    "colab": {},
    "colab_type": "code",
    "collapsed": true,
    "id": "vKBMnSYFDrQ6"
   },
   "outputs": [],
   "source": [
    "xgb = XGBClassifier()"
   ]
  },
  {
   "cell_type": "code",
   "execution_count": 13,
   "metadata": {
    "colab": {
     "base_uri": "https://localhost:8080/",
     "height": 121
    },
    "colab_type": "code",
    "id": "sONGq4cqD9WT",
    "outputId": "487c96e2-6e25-47a1-d295-c42c0c961144"
   },
   "outputs": [
    {
     "data": {
      "text/plain": [
       "XGBClassifier(base_score=0.5, booster='gbtree', colsample_bylevel=1,\n",
       "       colsample_bytree=1, gamma=0, learning_rate=0.1, max_delta_step=0,\n",
       "       max_depth=3, min_child_weight=1, missing=None, n_estimators=100,\n",
       "       n_jobs=1, nthread=None, objective='multi:softprob', random_state=0,\n",
       "       reg_alpha=0, reg_lambda=1, scale_pos_weight=1, seed=None,\n",
       "       silent=True, subsample=1)"
      ]
     },
     "execution_count": 13,
     "metadata": {
      "tags": []
     },
     "output_type": "execute_result"
    }
   ],
   "source": [
    "xgb.fit(X_train,y_train)"
   ]
  },
  {
   "cell_type": "code",
   "execution_count": 14,
   "metadata": {
    "colab": {
     "base_uri": "https://localhost:8080/",
     "height": 35
    },
    "colab_type": "code",
    "id": "VuQ2B0p3EmFd",
    "outputId": "1c36a63d-7d34-4107-e057-cb452d92d207"
   },
   "outputs": [
    {
     "data": {
      "text/plain": [
       "0.6497349118162639"
      ]
     },
     "execution_count": 14,
     "metadata": {
      "tags": []
     },
     "output_type": "execute_result"
    }
   ],
   "source": [
    "log_loss(y_test, xgb.predict_proba(X_test))"
   ]
  },
  {
   "cell_type": "markdown",
   "metadata": {},
   "source": [
    "## Ensemble Voting"
   ]
  },
  {
   "cell_type": "code",
   "execution_count": 0,
   "metadata": {
    "colab": {},
    "colab_type": "code",
    "collapsed": true,
    "id": "IRyZkvyeGllu"
   },
   "outputs": [],
   "source": [
    "rf = RandomForestClassifier(random_state=42)"
   ]
  },
  {
   "cell_type": "code",
   "execution_count": 16,
   "metadata": {
    "colab": {
     "base_uri": "https://localhost:8080/",
     "height": 121
    },
    "colab_type": "code",
    "id": "esUkur-UGoZI",
    "outputId": "bf6934f6-132f-4acb-9e3a-9ea41b03d987"
   },
   "outputs": [
    {
     "data": {
      "text/plain": [
       "RandomForestClassifier(bootstrap=True, class_weight=None, criterion='gini',\n",
       "            max_depth=None, max_features='auto', max_leaf_nodes=None,\n",
       "            min_impurity_decrease=0.0, min_impurity_split=None,\n",
       "            min_samples_leaf=1, min_samples_split=2,\n",
       "            min_weight_fraction_leaf=0.0, n_estimators=10, n_jobs=1,\n",
       "            oob_score=False, random_state=42, verbose=0, warm_start=False)"
      ]
     },
     "execution_count": 16,
     "metadata": {
      "tags": []
     },
     "output_type": "execute_result"
    }
   ],
   "source": [
    "rf.fit(X_train,y_train)"
   ]
  },
  {
   "cell_type": "code",
   "execution_count": 17,
   "metadata": {
    "colab": {
     "base_uri": "https://localhost:8080/",
     "height": 35
    },
    "colab_type": "code",
    "id": "rHgx6RlrGsNb",
    "outputId": "9b080480-1254-4280-fb29-5d3556cff919"
   },
   "outputs": [
    {
     "data": {
      "text/plain": [
       "1.4063326452573581"
      ]
     },
     "execution_count": 17,
     "metadata": {
      "tags": []
     },
     "output_type": "execute_result"
    }
   ],
   "source": [
    "log_loss(y_test, rf.predict_proba(X_test))"
   ]
  },
  {
   "cell_type": "code",
   "execution_count": 0,
   "metadata": {
    "colab": {},
    "colab_type": "code",
    "collapsed": true,
    "id": "yJMDibGqG7IQ"
   },
   "outputs": [],
   "source": [
    "eclf = EnsembleVoteClassifier(clfs=[xgb, rf, gb2,svc], weights=[1,1,2,2], refit=False)\n",
    "\n",
    "eclf.fit(X_test, y_test)"
   ]
  },
  {
   "cell_type": "code",
   "execution_count": 32,
   "metadata": {
    "colab": {
     "base_uri": "https://localhost:8080/",
     "height": 35
    },
    "colab_type": "code",
    "id": "Hx-7rDuSMS3s",
    "outputId": "08a2bef1-70c4-4bb7-a1e6-dd578535b5fd"
   },
   "outputs": [
    {
     "data": {
      "text/plain": [
       "0.4900051129515107"
      ]
     },
     "execution_count": 32,
     "metadata": {
      "tags": []
     },
     "output_type": "execute_result"
    }
   ],
   "source": [
    "log_loss(y_test,eclf.predict_proba(X_test))"
   ]
  },
  {
   "cell_type": "code",
   "execution_count": 0,
   "metadata": {
    "colab": {},
    "colab_type": "code",
    "collapsed": true,
    "id": "7c26Y5YGeNoF"
   },
   "outputs": [],
   "source": [
    "a = np.zeros((6188,9))"
   ]
  },
  {
   "cell_type": "code",
   "execution_count": 69,
   "metadata": {
    "colab": {
     "base_uri": "https://localhost:8080/",
     "height": 139
    },
    "colab_type": "code",
    "id": "0Vgk2ErBe9GI",
    "outputId": "b4611f53-b159-47d0-ad0f-d77eff8a4e47"
   },
   "outputs": [
    {
     "data": {
      "text/plain": [
       "array([[0., 1., 0., ..., 0., 0., 0.],\n",
       "       [0., 1., 0., ..., 0., 0., 0.],\n",
       "       [0., 1., 0., ..., 0., 0., 0.],\n",
       "       ...,\n",
       "       [0., 1., 0., ..., 0., 0., 0.],\n",
       "       [0., 1., 0., ..., 0., 0., 0.],\n",
       "       [0., 1., 0., ..., 0., 0., 0.]])"
      ]
     },
     "execution_count": 69,
     "metadata": {
      "tags": []
     },
     "output_type": "execute_result"
    }
   ],
   "source": [
    "a[:,1] = 1\n",
    "a"
   ]
  },
  {
   "cell_type": "code",
   "execution_count": 70,
   "metadata": {
    "colab": {
     "base_uri": "https://localhost:8080/",
     "height": 35
    },
    "colab_type": "code",
    "id": "Thxc9hF8dm9f",
    "outputId": "0a9367b7-ebd4-42e2-ef74-e16f2f068075"
   },
   "outputs": [
    {
     "data": {
      "text/plain": [
       "25.54128002312724"
      ]
     },
     "execution_count": 70,
     "metadata": {
      "tags": []
     },
     "output_type": "execute_result"
    }
   ],
   "source": [
    "log_loss(y_test, a)"
   ]
  },
  {
   "cell_type": "code",
   "execution_count": 0,
   "metadata": {
    "colab": {},
    "colab_type": "code",
    "collapsed": true,
    "id": "ouRud-dlf7Ss"
   },
   "outputs": [],
   "source": [
    "y_dummy = np.zeros((6188,1))\n",
    "y_dummy[:,0] = 2"
   ]
  },
  {
   "cell_type": "code",
   "execution_count": 63,
   "metadata": {
    "colab": {
     "base_uri": "https://localhost:8080/",
     "height": 35
    },
    "colab_type": "code",
    "id": "Jj-EgZCAdm6D",
    "outputId": "7d7ab1c0-17be-403e-f60a-2f5d71b0bcea"
   },
   "outputs": [
    {
     "data": {
      "text/plain": [
       "0.2605042016806723"
      ]
     },
     "execution_count": 63,
     "metadata": {
      "tags": []
     },
     "output_type": "execute_result"
    }
   ],
   "source": [
    "accuracy_score(y_test,y_dummy[:,0] )"
   ]
  },
  {
   "cell_type": "code",
   "execution_count": 67,
   "metadata": {
    "colab": {
     "base_uri": "https://localhost:8080/",
     "height": 35
    },
    "colab_type": "code",
    "id": "DiB5PYPEdm3g",
    "outputId": "97c86a93-1812-488c-aa97-d23bb0d528a1"
   },
   "outputs": [
    {
     "data": {
      "text/plain": [
       "1.0"
      ]
     },
     "execution_count": 67,
     "metadata": {
      "tags": []
     },
     "output_type": "execute_result"
    }
   ],
   "source": [
    "accuracy_score(y_test,y_test)"
   ]
  },
  {
   "cell_type": "code",
   "execution_count": 11,
   "metadata": {
    "colab": {
     "base_uri": "https://localhost:8080/",
     "height": 87
    },
    "colab_type": "code",
    "id": "yhSmbM4kdm14",
    "outputId": "3e05db6d-a315-46b5-a2ad-95cb86df6fe9"
   },
   "outputs": [
    {
     "data": {
      "text/plain": [
       "LogisticRegression(C=1.0, class_weight=None, dual=False, fit_intercept=True,\n",
       "          intercept_scaling=1, max_iter=100, multi_class='ovr', n_jobs=1,\n",
       "          penalty='l2', random_state=None, solver='liblinear', tol=0.0001,\n",
       "          verbose=0, warm_start=False)"
      ]
     },
     "execution_count": 11,
     "metadata": {
      "tags": []
     },
     "output_type": "execute_result"
    }
   ],
   "source": [
    "#simple LR\n",
    "lr = LogisticRegression()\n",
    "lr.fit(X_train,y_train)"
   ]
  },
  {
   "cell_type": "code",
   "execution_count": 12,
   "metadata": {
    "colab": {
     "base_uri": "https://localhost:8080/",
     "height": 35
    },
    "colab_type": "code",
    "id": "kvtm5hnw-jb1",
    "outputId": "b0b0418c-47de-4858-ef3c-b54dbbbb76fa"
   },
   "outputs": [
    {
     "data": {
      "text/plain": [
       "0.6694205634509174"
      ]
     },
     "execution_count": 12,
     "metadata": {
      "tags": []
     },
     "output_type": "execute_result"
    }
   ],
   "source": [
    "log_loss(y_test,lr.predict_proba(X_test))"
   ]
  },
  {
   "cell_type": "code",
   "execution_count": 14,
   "metadata": {
    "colab": {
     "base_uri": "https://localhost:8080/",
     "height": 335
    },
    "colab_type": "code",
    "id": "7oi-VDLjdmyL",
    "outputId": "82c9c735-1314-4142-c218-2508b852e374"
   },
   "outputs": [
    {
     "data": {
      "text/plain": [
       "(array([  78., 2339.,  409.,   59.,    0.,  271., 1420.,  220.,  883.,\n",
       "         509.]),\n",
       " array([1. , 1.8, 2.6, 3.4, 4.2, 5. , 5.8, 6.6, 7.4, 8.2, 9. ]),\n",
       " <a list of 10 Patch objects>)"
      ]
     },
     "execution_count": 14,
     "metadata": {
      "tags": []
     },
     "output_type": "execute_result"
    },
    {
     "data": {
      "image/png": "[encoded data removed]",
      "text/plain": [
       "<matplotlib.figure.Figure at 0x7fa0c764cbd0>"
      ]
     },
     "metadata": {
      "tags": []
     },
     "output_type": "display_data"
    }
   ],
   "source": [
    "plt.hist(lr.predict(X_test))"
   ]
  },
  {
   "cell_type": "code",
   "execution_count": 15,
   "metadata": {
    "colab": {
     "base_uri": "https://localhost:8080/",
     "height": 335
    },
    "colab_type": "code",
    "id": "doU-2dRVdmub",
    "outputId": "faca90d8-4618-4d87-80f7-497fa051a4db"
   },
   "outputs": [
    {
     "data": {
      "text/plain": [
       "(array([ 193., 1612.,  800.,  269.,    0.,  274., 1414.,  284.,  846.,\n",
       "         496.]),\n",
       " array([1. , 1.8, 2.6, 3.4, 4.2, 5. , 5.8, 6.6, 7.4, 8.2, 9. ]),\n",
       " <a list of 10 Patch objects>)"
      ]
     },
     "execution_count": 15,
     "metadata": {
      "tags": []
     },
     "output_type": "execute_result"
    },
    {
     "data": {
      "image/png": "[encoded data removed]",
      "text/plain": [
       "<matplotlib.figure.Figure at 0x7fa0c4dd3090>"
      ]
     },
     "metadata": {
      "tags": []
     },
     "output_type": "display_data"
    }
   ],
   "source": [
    "plt.hist(y_test)"
   ]
  },
  {
   "cell_type": "markdown",
   "metadata": {
    "colab": {},
    "colab_type": "code",
    "id": "qFXZGCsfYUrP"
   },
   "source": [
    "## Load model and predict"
   ]
  },
  {
   "cell_type": "code",
   "execution_count": 0,
   "metadata": {
    "colab": {},
    "colab_type": "code",
    "collapsed": true,
    "id": "bJmQRQuQYUoL"
   },
   "outputs": [],
   "source": [
    "# load the model\n",
    "gb_model = joblib.load(\"gradient_boost_model\")"
   ]
  },
  {
   "cell_type": "code",
   "execution_count": 38,
   "metadata": {
    "colab": {
     "base_uri": "https://localhost:8080/",
     "height": 659
    },
    "colab_type": "code",
    "id": "voNyQkFEc_PZ",
    "outputId": "95641cae-e5be-4985-f774-0d3267a67c29"
   },
   "outputs": [
    {
     "name": "stdout",
     "output_type": "stream",
     "text": [
      "       feat_1  feat_2  feat_3  feat_4  feat_5  feat_6  feat_7  feat_8  feat_9  \\\n",
      "17894       0       0       0       0       0       0       0       0       0   \n",
      "34701       0       0       0       0       0       0       0       0       0   \n",
      "36964       0       0       7      11       0       0       0       0       0   \n",
      "25140       0       0       0       0       0       0       1       0       2   \n",
      "25931       0       0       0       0       0       0       0       0       0   \n",
      "21625       0       0       0       0       1       0       0       0       0   \n",
      "54931       0       0       0       0       0       0       0       0       0   \n",
      "24145       0       0       0       0       0       0       0       0       0   \n",
      "12502       0       0       0       0       0       0       0       0       0   \n",
      "34371       0       0      17       5       0       0       0       0       0   \n",
      "\n",
      "       feat_10   ...     feat_84  feat_85  feat_86  feat_87  feat_88  feat_89  \\\n",
      "17894        0   ...           0        0        0        0        3        0   \n",
      "34701        0   ...           0        0        1        1        0        0   \n",
      "36964        1   ...           0        0        1        0        0        8   \n",
      "25140        0   ...           0        0        1        0        0        1   \n",
      "25931        0   ...           0        0        3        1        2        0   \n",
      "21625        1   ...           0        0       13        0       28        0   \n",
      "54931        0   ...           0        0        0        0        0        0   \n",
      "24145        0   ...           0        0        0        0        5        0   \n",
      "12502        0   ...           0        3        0        0        1        1   \n",
      "34371        0   ...           0        0        0        0        0        0   \n",
      "\n",
      "       feat_90  feat_91  feat_92  feat_93  \n",
      "17894        0        0        0        0  \n",
      "34701        0        0        0        0  \n",
      "36964        0        0        0        1  \n",
      "25140        0        0        0        0  \n",
      "25931        0        0        0        0  \n",
      "21625        0        0        0        0  \n",
      "54931        0        0        0        0  \n",
      "24145        0        0        1        0  \n",
      "12502        0        0        0        0  \n",
      "34371        0        0        0        0  \n",
      "\n",
      "[10 rows x 93 columns]\n"
     ]
    }
   ],
   "source": [
    "# get the data for which to do the predictions \n",
    "# for e.g. here we take 10 rows from our test data set\n",
    "data = X_test.iloc[100:110,:]\n",
    "print(data)"
   ]
  },
  {
   "cell_type": "code",
   "execution_count": 0,
   "metadata": {
    "colab": {},
    "colab_type": "code",
    "collapsed": true,
    "id": "Hcbaxn1FdZVf"
   },
   "outputs": [],
   "source": [
    "# use the model to do the predictions\n",
    "predictions = list(gb_model.predict(X_test.iloc[100:110,:]))"
   ]
  },
  {
   "cell_type": "code",
   "execution_count": 40,
   "metadata": {
    "colab": {
     "base_uri": "https://localhost:8080/",
     "height": 35
    },
    "colab_type": "code",
    "id": "fYAjQjzhdFHJ",
    "outputId": "ac610b5f-43bb-4a8d-e8cc-24d34dcb606a"
   },
   "outputs": [
    {
     "name": "stdout",
     "output_type": "stream",
     "text": [
      "[2, 6, 6, 3, 3, 2, 8, 2, 2, 6]\n"
     ]
    }
   ],
   "source": [
    "print(predictions)"
   ]
  },
  {
   "cell_type": "code",
   "execution_count": 0,
   "metadata": {
    "colab": {},
    "colab_type": "code",
    "collapsed": true,
    "id": "5MzWW0XmfTW4"
   },
   "outputs": [],
   "source": []
  }
 ],
 "metadata": {
  "accelerator": "GPU",
  "colab": {
   "collapsed_sections": [],
   "name": "Otto.ipynb",
   "provenance": [],
   "toc_visible": true,
   "version": "0.3.2"
  },
  "kernelspec": {
   "display_name": "Python 2",
   "name": "python2"
  },
  "latex_envs": {
   "LaTeX_envs_menu_present": true,
   "autoclose": false,
   "autocomplete": true,
   "bibliofile": "biblio.bib",
   "cite_by": "apalike",
   "current_citInitial": 1,
   "eqLabelWithNumbers": true,
   "eqNumInitial": 1,
   "hotkeys": {
    "equation": "Ctrl-E",
    "itemize": "Ctrl-I"
   },
   "labels_anchors": false,
   "latex_user_defs": false,
   "report_style_numbering": false,
   "user_envs_cfg": false
  }
 },
 "nbformat": 4,
 "nbformat_minor": 1
}
