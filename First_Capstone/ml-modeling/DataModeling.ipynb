{
 "cells": [
  {
   "cell_type": "markdown",
   "metadata": {},
   "source": [
    "# **Data Modeling - Otto Group product classification**\n",
    "\n",
    "After cleaning and doing the needed transformation in the Data Wrangling phase, let us now try to see what story our data tells. What interesting questions can we ask. Our final goal is to classify the products into one of the 9 product categories. So we should see the different features and which of them can be most significant or relevant for our purpose.\n",
    "\n",
    "[Load the cleaned daat from previous work (ipynb)](#section1)\n",
    "\n",
    "[Do we have same amount of data for all product categories?](#section2)\n",
    "\n",
    "[What does the feature data look like?](#section3)\n",
    "\n",
    "[How are the features related to each other?](#section4)\n",
    "\n",
    "[How about more visulizations to understand the data better?](#section5)\n"
   ]
  },
  {
   "cell_type": "markdown",
   "metadata": {},
   "source": [
    "<a id='section1'></a>"
   ]
  },
  {
   "cell_type": "code",
   "execution_count": 42,
   "metadata": {
    "collapsed": true
   },
   "outputs": [],
   "source": [
    "# pandas gives high-performance, easy-to-use data structures and data analysis tools\n",
    "import pandas as pd\n",
    "\n",
    "# fundamental package for scientific computing\n",
    "import numpy as np \n",
    "\n",
    "# matplotlib provides a MATLAB-like plotting framework\n",
    "import matplotlib.pyplot as plt\n",
    "import matplotlib\n",
    "\n",
    "# seaborn is visualization library based on matplotlib, \n",
    "# provides high level interface for drawing attractive statistical graphics\n",
    "import seaborn as sns\n",
    "sns.set_style(style='whitegrid')\n",
    "\n",
    "# for ANOVA\n",
    "import scipy.stats as stats"
   ]
  },
  {
   "cell_type": "code",
   "execution_count": 43,
   "metadata": {
    "collapsed": true,
    "scrolled": true
   },
   "outputs": [],
   "source": [
    "# training data set\n",
    "pca_df = pd.read_csv(\"../data/train_norm_pca.csv\")\n",
    "\n",
    "# test data set\n",
    "#df_test = pd.read_csv(\"../data/test_cleaned.csv\")"
   ]
  },
  {
   "cell_type": "code",
   "execution_count": 44,
   "metadata": {},
   "outputs": [
    {
     "data": {
      "text/html": [
       "<div>\n",
       "<style>\n",
       "    .dataframe thead tr:only-child th {\n",
       "        text-align: right;\n",
       "    }\n",
       "\n",
       "    .dataframe thead th {\n",
       "        text-align: left;\n",
       "    }\n",
       "\n",
       "    .dataframe tbody tr th {\n",
       "        vertical-align: top;\n",
       "    }\n",
       "</style>\n",
       "<table border=\"1\" class=\"dataframe\">\n",
       "  <thead>\n",
       "    <tr style=\"text-align: right;\">\n",
       "      <th></th>\n",
       "      <th>0</th>\n",
       "      <th>1</th>\n",
       "      <th>2</th>\n",
       "      <th>3</th>\n",
       "      <th>4</th>\n",
       "      <th>5</th>\n",
       "      <th>6</th>\n",
       "      <th>7</th>\n",
       "      <th>8</th>\n",
       "      <th>9</th>\n",
       "      <th>...</th>\n",
       "      <th>84</th>\n",
       "      <th>85</th>\n",
       "      <th>86</th>\n",
       "      <th>87</th>\n",
       "      <th>88</th>\n",
       "      <th>89</th>\n",
       "      <th>90</th>\n",
       "      <th>91</th>\n",
       "      <th>92</th>\n",
       "      <th>target</th>\n",
       "    </tr>\n",
       "  </thead>\n",
       "  <tbody>\n",
       "    <tr>\n",
       "      <th>0</th>\n",
       "      <td>-0.322226</td>\n",
       "      <td>0.261640</td>\n",
       "      <td>-0.101271</td>\n",
       "      <td>2.371336</td>\n",
       "      <td>-1.969393</td>\n",
       "      <td>0.606056</td>\n",
       "      <td>-0.519601</td>\n",
       "      <td>0.807828</td>\n",
       "      <td>-0.128615</td>\n",
       "      <td>0.343750</td>\n",
       "      <td>...</td>\n",
       "      <td>0.394135</td>\n",
       "      <td>-0.157771</td>\n",
       "      <td>-0.199786</td>\n",
       "      <td>-0.311419</td>\n",
       "      <td>0.541050</td>\n",
       "      <td>0.069015</td>\n",
       "      <td>-0.184542</td>\n",
       "      <td>-0.046575</td>\n",
       "      <td>0.097835</td>\n",
       "      <td>1</td>\n",
       "    </tr>\n",
       "    <tr>\n",
       "      <th>1</th>\n",
       "      <td>-1.617733</td>\n",
       "      <td>-0.431757</td>\n",
       "      <td>-1.121202</td>\n",
       "      <td>0.293595</td>\n",
       "      <td>-0.614387</td>\n",
       "      <td>0.339935</td>\n",
       "      <td>0.290450</td>\n",
       "      <td>0.032317</td>\n",
       "      <td>-0.690445</td>\n",
       "      <td>0.123639</td>\n",
       "      <td>...</td>\n",
       "      <td>0.038507</td>\n",
       "      <td>-0.329023</td>\n",
       "      <td>0.138695</td>\n",
       "      <td>0.000430</td>\n",
       "      <td>-0.054634</td>\n",
       "      <td>-0.050181</td>\n",
       "      <td>0.101434</td>\n",
       "      <td>-0.006674</td>\n",
       "      <td>0.030508</td>\n",
       "      <td>1</td>\n",
       "    </tr>\n",
       "    <tr>\n",
       "      <th>2</th>\n",
       "      <td>-1.529818</td>\n",
       "      <td>-0.013893</td>\n",
       "      <td>-0.474269</td>\n",
       "      <td>0.540099</td>\n",
       "      <td>-0.183968</td>\n",
       "      <td>0.457895</td>\n",
       "      <td>0.391766</td>\n",
       "      <td>0.085182</td>\n",
       "      <td>-0.853228</td>\n",
       "      <td>-0.273631</td>\n",
       "      <td>...</td>\n",
       "      <td>0.141192</td>\n",
       "      <td>-0.401972</td>\n",
       "      <td>0.260889</td>\n",
       "      <td>-0.368088</td>\n",
       "      <td>0.430489</td>\n",
       "      <td>0.059703</td>\n",
       "      <td>-0.128953</td>\n",
       "      <td>0.044839</td>\n",
       "      <td>0.122280</td>\n",
       "      <td>1</td>\n",
       "    </tr>\n",
       "    <tr>\n",
       "      <th>3</th>\n",
       "      <td>5.970171</td>\n",
       "      <td>5.383945</td>\n",
       "      <td>-0.781070</td>\n",
       "      <td>7.071108</td>\n",
       "      <td>14.264728</td>\n",
       "      <td>18.608579</td>\n",
       "      <td>18.657943</td>\n",
       "      <td>1.073235</td>\n",
       "      <td>17.123522</td>\n",
       "      <td>12.116826</td>\n",
       "      <td>...</td>\n",
       "      <td>1.302866</td>\n",
       "      <td>-0.870315</td>\n",
       "      <td>0.293537</td>\n",
       "      <td>-6.060343</td>\n",
       "      <td>-8.091420</td>\n",
       "      <td>1.776618</td>\n",
       "      <td>-6.930132</td>\n",
       "      <td>-0.125727</td>\n",
       "      <td>-0.720418</td>\n",
       "      <td>1</td>\n",
       "    </tr>\n",
       "    <tr>\n",
       "      <th>4</th>\n",
       "      <td>-1.215508</td>\n",
       "      <td>0.447809</td>\n",
       "      <td>-0.359539</td>\n",
       "      <td>1.150645</td>\n",
       "      <td>-0.340307</td>\n",
       "      <td>0.464952</td>\n",
       "      <td>0.590288</td>\n",
       "      <td>0.242088</td>\n",
       "      <td>-1.623147</td>\n",
       "      <td>-0.621531</td>\n",
       "      <td>...</td>\n",
       "      <td>0.099250</td>\n",
       "      <td>0.053953</td>\n",
       "      <td>-0.119258</td>\n",
       "      <td>0.483242</td>\n",
       "      <td>-0.163679</td>\n",
       "      <td>-0.056049</td>\n",
       "      <td>0.103245</td>\n",
       "      <td>-0.036500</td>\n",
       "      <td>0.234712</td>\n",
       "      <td>1</td>\n",
       "    </tr>\n",
       "  </tbody>\n",
       "</table>\n",
       "<p>5 rows × 94 columns</p>\n",
       "</div>"
      ],
      "text/plain": [
       "          0         1         2         3          4          5          6  \\\n",
       "0 -0.322226  0.261640 -0.101271  2.371336  -1.969393   0.606056  -0.519601   \n",
       "1 -1.617733 -0.431757 -1.121202  0.293595  -0.614387   0.339935   0.290450   \n",
       "2 -1.529818 -0.013893 -0.474269  0.540099  -0.183968   0.457895   0.391766   \n",
       "3  5.970171  5.383945 -0.781070  7.071108  14.264728  18.608579  18.657943   \n",
       "4 -1.215508  0.447809 -0.359539  1.150645  -0.340307   0.464952   0.590288   \n",
       "\n",
       "          7          8          9   ...          84        85        86  \\\n",
       "0  0.807828  -0.128615   0.343750   ...    0.394135 -0.157771 -0.199786   \n",
       "1  0.032317  -0.690445   0.123639   ...    0.038507 -0.329023  0.138695   \n",
       "2  0.085182  -0.853228  -0.273631   ...    0.141192 -0.401972  0.260889   \n",
       "3  1.073235  17.123522  12.116826   ...    1.302866 -0.870315  0.293537   \n",
       "4  0.242088  -1.623147  -0.621531   ...    0.099250  0.053953 -0.119258   \n",
       "\n",
       "         87        88        89        90        91        92  target  \n",
       "0 -0.311419  0.541050  0.069015 -0.184542 -0.046575  0.097835       1  \n",
       "1  0.000430 -0.054634 -0.050181  0.101434 -0.006674  0.030508       1  \n",
       "2 -0.368088  0.430489  0.059703 -0.128953  0.044839  0.122280       1  \n",
       "3 -6.060343 -8.091420  1.776618 -6.930132 -0.125727 -0.720418       1  \n",
       "4  0.483242 -0.163679 -0.056049  0.103245 -0.036500  0.234712       1  \n",
       "\n",
       "[5 rows x 94 columns]"
      ]
     },
     "execution_count": 44,
     "metadata": {},
     "output_type": "execute_result"
    }
   ],
   "source": [
    "pca_df.head()"
   ]
  },
  {
   "cell_type": "code",
   "execution_count": 45,
   "metadata": {},
   "outputs": [
    {
     "data": {
      "image/png": "[encoded data removed]",
      "text/plain": [
       "<matplotlib.figure.Figure at 0x1a1f037da0>"
      ]
     },
     "metadata": {},
     "output_type": "display_data"
    }
   ],
   "source": [
    "plt.scatter(pca_df.iloc[:,33],pca_df.target)\n",
    "plt.show()"
   ]
  },
  {
   "cell_type": "code",
   "execution_count": 46,
   "metadata": {},
   "outputs": [
    {
     "data": {
      "image/png": "[encoded data removed]",
      "text/plain": [
       "<matplotlib.figure.Figure at 0x1a16ded160>"
      ]
     },
     "metadata": {},
     "output_type": "display_data"
    }
   ],
   "source": [
    "for i in np.arange(1,10):\n",
    "    pca_df[pca_df.target==i].iloc[:,0].plot(kind=\"kde\")\n",
    "plt.show()"
   ]
  },
  {
   "cell_type": "code",
   "execution_count": 108,
   "metadata": {},
   "outputs": [
    {
     "data": {
      "text/plain": [
       "0.67164420310934414"
      ]
     },
     "execution_count": 108,
     "metadata": {},
     "output_type": "execute_result"
    }
   ],
   "source": [
    "from sklearn.linear_model import LogisticRegression\n",
    "logreg = LogisticRegression(penalty='l2',random_state=42) #empty model space\n",
    "X = pca_df.iloc[:,0:10]\n",
    "y = pca_df.target\n",
    "lr = logreg.fit(X=X,y=y)\n",
    "lr.score(X=X,y=y)"
   ]
  },
  {
   "cell_type": "code",
   "execution_count": 109,
   "metadata": {
    "collapsed": true
   },
   "outputs": [],
   "source": [
    "from sklearn.model_selection import GridSearchCV\n",
    "\n",
    "# for 10 features\n",
    "cv = GridSearchCV(lr, param_grid={'C':[0.01,0.03,0.1,0.3,1,3,10,30]})\n",
    "\n",
    "# for 50 features\n",
    "#cv = GridSearchCV(lr, param_grid={'C':[1000,300,100,30,10]})\n",
    "#cv = GridSearchCV(lr, param_grid={'C':[1,10,30,100,300]},cv=5)\n",
    "\n"
   ]
  },
  {
   "cell_type": "code",
   "execution_count": 110,
   "metadata": {},
   "outputs": [
    {
     "data": {
      "text/plain": [
       "GridSearchCV(cv=None, error_score='raise',\n",
       "       estimator=LogisticRegression(C=1.0, class_weight=None, dual=False, fit_intercept=True,\n",
       "          intercept_scaling=1, max_iter=100, multi_class='ovr', n_jobs=1,\n",
       "          penalty='l2', random_state=42, solver='liblinear', tol=0.0001,\n",
       "          verbose=0, warm_start=False),\n",
       "       fit_params=None, iid=True, n_jobs=1,\n",
       "       param_grid={'C': [0.01, 0.03, 0.1, 0.3, 1, 3, 10, 30]},\n",
       "       pre_dispatch='2*n_jobs', refit=True, return_train_score=True,\n",
       "       scoring=None, verbose=0)"
      ]
     },
     "execution_count": 110,
     "metadata": {},
     "output_type": "execute_result"
    }
   ],
   "source": [
    "cv.fit(X=X,y=y)"
   ]
  },
  {
   "cell_type": "code",
   "execution_count": 111,
   "metadata": {},
   "outputs": [
    {
     "data": {
      "text/plain": [
       "LogisticRegression(C=0.1, class_weight=None, dual=False, fit_intercept=True,\n",
       "          intercept_scaling=1, max_iter=100, multi_class='ovr', n_jobs=1,\n",
       "          penalty='l2', random_state=42, solver='liblinear', tol=0.0001,\n",
       "          verbose=0, warm_start=False)"
      ]
     },
     "execution_count": 111,
     "metadata": {},
     "output_type": "execute_result"
    }
   ],
   "source": [
    "cv.best_estimator_"
   ]
  },
  {
   "cell_type": "code",
   "execution_count": 112,
   "metadata": {},
   "outputs": [
    {
     "data": {
      "text/plain": [
       "0.6714825947832832"
      ]
     },
     "execution_count": 112,
     "metadata": {},
     "output_type": "execute_result"
    }
   ],
   "source": [
    "cv.score(X=X,y=y)"
   ]
  },
  {
   "cell_type": "code",
   "execution_count": 113,
   "metadata": {},
   "outputs": [
    {
     "data": {
      "text/plain": [
       "1.0203366276474723"
      ]
     },
     "execution_count": 113,
     "metadata": {},
     "output_type": "execute_result"
    }
   ],
   "source": [
    "from sklearn.metrics import log_loss\n",
    "y_pred = cv.predict_proba(X=X)\n",
    "log_loss(pca_df.target, y_pred)"
   ]
  },
  {
   "cell_type": "code",
   "execution_count": 115,
   "metadata": {},
   "outputs": [
    {
     "data": {
      "text/plain": [
       "array([[ 0.05238633,  0.01480631,  0.0074382 , ...,  0.03351235,\n",
       "         0.06486621,  0.07520738],\n",
       "       [ 0.04849785,  0.17259544,  0.09331318, ...,  0.0659803 ,\n",
       "         0.17816279,  0.04090971],\n",
       "       [ 0.06586756,  0.21513936,  0.12044236, ...,  0.07177094,\n",
       "         0.15650931,  0.07490654],\n",
       "       ..., \n",
       "       [ 0.03725533,  0.1929224 ,  0.02051278, ...,  0.01517306,\n",
       "         0.00704898,  0.69656862],\n",
       "       [ 0.03801481,  0.04761505,  0.002242  , ...,  0.0011988 ,\n",
       "         0.02851327,  0.57224021],\n",
       "       [ 0.0515048 ,  0.0183687 ,  0.0017009 , ...,  0.00248631,\n",
       "         0.0721793 ,  0.64637461]])"
      ]
     },
     "execution_count": 115,
     "metadata": {},
     "output_type": "execute_result"
    }
   ],
   "source": [
    "y_pred"
   ]
  },
  {
   "cell_type": "code",
   "execution_count": null,
   "metadata": {
    "collapsed": true
   },
   "outputs": [],
   "source": []
  },
  {
   "cell_type": "code",
   "execution_count": null,
   "metadata": {
    "collapsed": true
   },
   "outputs": [],
   "source": []
  },
  {
   "cell_type": "markdown",
   "metadata": {},
   "source": []
  }
 ],
 "metadata": {
  "kernelspec": {
   "display_name": "Python 3",
   "language": "python",
   "name": "python3"
  },
  "language_info": {
   "codemirror_mode": {
    "name": "ipython",
    "version": 3
   },
   "file_extension": ".py",
   "mimetype": "text/x-python",
   "name": "python",
   "nbconvert_exporter": "python",
   "pygments_lexer": "ipython3",
   "version": "3.6.3"
  }
 },
 "nbformat": 4,
 "nbformat_minor": 2
}
