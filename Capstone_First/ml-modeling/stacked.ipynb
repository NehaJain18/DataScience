{
 "cells": [
  {
   "cell_type": "code",
   "execution_count": 19,
   "metadata": {},
   "outputs": [],
   "source": [
    "# imoprt libraries\n",
    "import pandas as pd\n",
    "import numpy as np\n",
    "from sklearn.model_selection import train_test_split,StratifiedShuffleSplit,cross_validate,cross_val_score\n",
    "from sklearn.linear_model import LogisticRegression, LogisticRegressionCV\n",
    "from sklearn.metrics import log_loss,classification_report,confusion_matrix, roc_curve, roc_auc_score,accuracy_score\n",
    "from mlxtend.classifier import StackingClassifier,EnsembleVoteClassifier\n",
    "from sklearn.neighbors import KNeighborsClassifier\n",
    "from sklearn.naive_bayes import GaussianNB \n",
    "from sklearn.ensemble import RandomForestClassifier, GradientBoostingClassifier\n",
    "from sklearn.svm import SVC \n",
    "from xgboost.sklearn import XGBClassifier\n",
    "\n",
    "import matplotlib.pyplot as plt\n",
    "\n",
    "from sklearn.pipeline import make_pipeline\n",
    "\n",
    "from collections import Counter\n",
    "\n",
    "# calculate weights for imbablanced classes\n",
    "from sklearn.utils import class_weight\n"
   ]
  },
  {
   "cell_type": "code",
   "execution_count": null,
   "metadata": {
    "collapsed": true
   },
   "outputs": [],
   "source": []
  },
  {
   "cell_type": "code",
   "execution_count": 2,
   "metadata": {},
   "outputs": [
    {
     "name": "stdout",
     "output_type": "stream",
     "text": [
      "StratifiedShuffleSplit(n_splits=1, random_state=42, test_size=0.1,\n",
      "            train_size=None)\n",
      "TRAIN: [57972 30244  9427 ..., 60232 28576 27516] TEST: [59081 21681 51999 ...,  1777   269 53901]\n",
      "Shapes of data sets\n",
      "X_train:  (55690, 93) y_train:  (55690,)\n",
      "X_train:  (6188, 93) y_test:  (6188,)\n"
     ]
    }
   ],
   "source": [
    "df = pd.read_csv(\"../data/train_norm.csv\")\n",
    "df.head()\n",
    "\n",
    "sss = StratifiedShuffleSplit(n_splits=1,test_size=0.1, random_state=42)\n",
    "print(sss)\n",
    "\n",
    "X = df.drop(\"target\",axis=1)\n",
    "y = df.target\n",
    "\n",
    "train_index = []\n",
    "test_index = []\n",
    "\n",
    "for tr, tes in sss.split(X,y):\n",
    "    print(\"TRAIN:\", tr, \"TEST:\", tes)\n",
    "    train_index = tr\n",
    "    test_index = tes\n",
    "\n",
    "X_train, X_test = X.iloc[train_index], X.iloc[test_index]\n",
    "y_train, y_test = y.iloc[train_index], y.iloc[test_index]\n",
    "\n",
    "print(\"Shapes of data sets\")\n",
    "print(\"X_train: \", X_train.shape, \"y_train: \", y_train.shape)\n",
    "print(\"X_train: \", X_test.shape,\"y_test: \", y_test.shape)"
   ]
  },
  {
   "cell_type": "code",
   "execution_count": null,
   "metadata": {
    "collapsed": true
   },
   "outputs": [],
   "source": []
  },
  {
   "cell_type": "code",
   "execution_count": 8,
   "metadata": {},
   "outputs": [],
   "source": [
    "clf1 = KNeighborsClassifier(n_neighbors=5)\n",
    "clf2 = LogisticRegression()\n",
    "clf3 = GaussianNB()\n",
    "clf4 = SVC()\n",
    "clf5 = RandomForestClassifier(random_state=42)\n",
    "clf6 = GradientBoostingClassifier(n_estimators=100)\n",
    "clf7 = XGBClassifier()\n",
    "\n",
    "lr = LogisticRegression()\n",
    "sclf = StackingClassifier(classifiers=[clf4, clf2, clf3], \n",
    "                          meta_classifier=lr)\n",
    "\n",
    "sclf2 = StackingClassifier(classifiers=[clf1, clf2, clf5],meta_classifier=lr)\n",
    "\n",
    "#print('3-fold cross validation:\\n')\n",
    "#scores = cross_val_score(sclf, X_train, y_train, cv=3, scoring='neg_log_loss')\n",
    "                          \n",
    "# for clf, label in zip([clf1, clf2, clf3, sclf], \n",
    "#                       ['KNN', \n",
    "#                        'Logistic Regression', \n",
    "#                        'Naive Bayes',\n",
    "#                        'StackingClassifier']):\n",
    "\n",
    "#     scores = cross_val_score(clf, X_train, y_train, \n",
    "#                                               cv=3, scoring='neg_log_loss')\n",
    "#     print(\"Accuracy: %0.2f (+/- %0.2f) [%s]\" \n",
    "#           % (scores.mean(), scores.std(), label))"
   ]
  },
  {
   "cell_type": "code",
   "execution_count": 15,
   "metadata": {},
   "outputs": [
    {
     "data": {
      "text/plain": [
       "array([-1.37907159, -1.38520586, -1.39405126])"
      ]
     },
     "execution_count": 15,
     "metadata": {},
     "output_type": "execute_result"
    }
   ],
   "source": [
    "scores"
   ]
  },
  {
   "cell_type": "code",
   "execution_count": 4,
   "metadata": {},
   "outputs": [
    {
     "data": {
      "text/plain": [
       "StackingClassifier(average_probas=False,\n",
       "          classifiers=[SVC(C=1.0, cache_size=200, class_weight=None, coef0=0.0,\n",
       "  decision_function_shape='ovr', degree=3, gamma='auto', kernel='rbf',\n",
       "  max_iter=-1, probability=False, random_state=None, shrinking=True,\n",
       "  tol=0.001, verbose=False), LogisticRegression(C=1.0, class_weight=None, dual=False, fit_...ne, solver='liblinear', tol=0.0001,\n",
       "          verbose=0, warm_start=False), GaussianNB(priors=None)],\n",
       "          meta_classifier=LogisticRegression(C=1.0, class_weight=None, dual=False, fit_intercept=True,\n",
       "          intercept_scaling=1, max_iter=100, multi_class='ovr', n_jobs=1,\n",
       "          penalty='l2', random_state=None, solver='liblinear', tol=0.0001,\n",
       "          verbose=0, warm_start=False),\n",
       "          store_train_meta_features=False, use_clones=True,\n",
       "          use_features_in_secondary=False, use_probas=False, verbose=0)"
      ]
     },
     "execution_count": 4,
     "metadata": {},
     "output_type": "execute_result"
    }
   ],
   "source": [
    "sclf.fit(X_train,y_train)"
   ]
  },
  {
   "cell_type": "code",
   "execution_count": 5,
   "metadata": {},
   "outputs": [
    {
     "data": {
      "text/plain": [
       "0.57514544279250157"
      ]
     },
     "execution_count": 5,
     "metadata": {},
     "output_type": "execute_result"
    }
   ],
   "source": [
    "sclf.score(X_test,y_test)"
   ]
  },
  {
   "cell_type": "code",
   "execution_count": 7,
   "metadata": {},
   "outputs": [
    {
     "data": {
      "text/plain": [
       "1.342947925536363"
      ]
     },
     "execution_count": 7,
     "metadata": {},
     "output_type": "execute_result"
    }
   ],
   "source": [
    "log_loss(y_test,sclf.predict_proba(X_test))"
   ]
  },
  {
   "cell_type": "code",
   "execution_count": 9,
   "metadata": {},
   "outputs": [
    {
     "data": {
      "text/plain": [
       "StackingClassifier(average_probas=False,\n",
       "          classifiers=[KNeighborsClassifier(algorithm='auto', leaf_size=30, metric='minkowski',\n",
       "           metric_params=None, n_jobs=1, n_neighbors=5, p=2,\n",
       "           weights='uniform'), LogisticRegression(C=1.0, class_weight=None, dual=False, fit_intercept=True,\n",
       "          intercept_scaling=1, max_iter=100, ...estimators=10, n_jobs=1,\n",
       "            oob_score=False, random_state=42, verbose=0, warm_start=False)],\n",
       "          meta_classifier=LogisticRegression(C=1.0, class_weight=None, dual=False, fit_intercept=True,\n",
       "          intercept_scaling=1, max_iter=100, multi_class='ovr', n_jobs=1,\n",
       "          penalty='l2', random_state=None, solver='liblinear', tol=0.0001,\n",
       "          verbose=0, warm_start=False),\n",
       "          store_train_meta_features=False, use_clones=True,\n",
       "          use_features_in_secondary=False, use_probas=False, verbose=0)"
      ]
     },
     "execution_count": 9,
     "metadata": {},
     "output_type": "execute_result"
    }
   ],
   "source": [
    "sclf2.fit(X_train,y_train)"
   ]
  },
  {
   "cell_type": "code",
   "execution_count": 10,
   "metadata": {},
   "outputs": [
    {
     "data": {
      "text/plain": [
       "0.69198448610213315"
      ]
     },
     "execution_count": 10,
     "metadata": {},
     "output_type": "execute_result"
    }
   ],
   "source": [
    "sclf2.score(X_test,y_test)"
   ]
  },
  {
   "cell_type": "code",
   "execution_count": 12,
   "metadata": {},
   "outputs": [
    {
     "data": {
      "text/plain": [
       "1.8943833009244573"
      ]
     },
     "execution_count": 12,
     "metadata": {},
     "output_type": "execute_result"
    }
   ],
   "source": [
    "log_loss(y_test,sclf2.predict_proba(X_test))"
   ]
  },
  {
   "cell_type": "code",
   "execution_count": null,
   "metadata": {
    "collapsed": true
   },
   "outputs": [],
   "source": []
  },
  {
   "cell_type": "code",
   "execution_count": 14,
   "metadata": {},
   "outputs": [
    {
     "data": {
      "text/plain": [
       "LogisticRegression(C=1.0, class_weight=None, dual=False, fit_intercept=True,\n",
       "          intercept_scaling=1, max_iter=100, multi_class='ovr', n_jobs=1,\n",
       "          penalty='l2', random_state=42, solver='liblinear', tol=0.0001,\n",
       "          verbose=0, warm_start=False)"
      ]
     },
     "execution_count": 14,
     "metadata": {},
     "output_type": "execute_result"
    }
   ],
   "source": [
    "lr = LogisticRegression(random_state=42)\n",
    "rf = RandomForestClassifier(random_state=42)\n",
    "gb = GradientBoostingClassifier(n_estimators=1000,random_state=42)\n",
    "\n",
    "lr.fit(X_train,y_train)"
   ]
  },
  {
   "cell_type": "code",
   "execution_count": 15,
   "metadata": {},
   "outputs": [
    {
     "data": {
      "text/plain": [
       "RandomForestClassifier(bootstrap=True, class_weight=None, criterion='gini',\n",
       "            max_depth=None, max_features='auto', max_leaf_nodes=None,\n",
       "            min_impurity_decrease=0.0, min_impurity_split=None,\n",
       "            min_samples_leaf=1, min_samples_split=2,\n",
       "            min_weight_fraction_leaf=0.0, n_estimators=10, n_jobs=1,\n",
       "            oob_score=False, random_state=42, verbose=0, warm_start=False)"
      ]
     },
     "execution_count": 15,
     "metadata": {},
     "output_type": "execute_result"
    }
   ],
   "source": [
    "rf.fit(X_train,y_train)"
   ]
  },
  {
   "cell_type": "code",
   "execution_count": 16,
   "metadata": {},
   "outputs": [
    {
     "data": {
      "text/plain": [
       "GradientBoostingClassifier(criterion='friedman_mse', init=None,\n",
       "              learning_rate=0.1, loss='deviance', max_depth=3,\n",
       "              max_features=None, max_leaf_nodes=None,\n",
       "              min_impurity_decrease=0.0, min_impurity_split=None,\n",
       "              min_samples_leaf=1, min_samples_split=2,\n",
       "              min_weight_fraction_leaf=0.0, n_estimators=1000,\n",
       "              presort='auto', random_state=42, subsample=1.0, verbose=0,\n",
       "              warm_start=False)"
      ]
     },
     "execution_count": 16,
     "metadata": {},
     "output_type": "execute_result"
    }
   ],
   "source": [
    "gb.fit(X_train,y_train)"
   ]
  },
  {
   "cell_type": "code",
   "execution_count": 17,
   "metadata": {},
   "outputs": [
    {
     "data": {
      "text/plain": [
       "0.81237879767291532"
      ]
     },
     "execution_count": 17,
     "metadata": {},
     "output_type": "execute_result"
    }
   ],
   "source": [
    "gb.score(X_test,y_test)"
   ]
  },
  {
   "cell_type": "code",
   "execution_count": 39,
   "metadata": {},
   "outputs": [
    {
     "data": {
      "text/plain": [
       "0.49755135352409918"
      ]
     },
     "execution_count": 39,
     "metadata": {},
     "output_type": "execute_result"
    }
   ],
   "source": [
    "log_loss(y_test,gb.predict_proba(X_test))"
   ]
  },
  {
   "cell_type": "code",
   "execution_count": 30,
   "metadata": {},
   "outputs": [
    {
     "data": {
      "text/plain": [
       "EnsembleVoteClassifier(clfs=[LogisticRegression(C=1.0, class_weight=None, dual=False, fit_intercept=True,\n",
       "          intercept_scaling=1, max_iter=100, multi_class='ovr', n_jobs=1,\n",
       "          penalty='l2', random_state=42, solver='liblinear', tol=0.0001,\n",
       "          verbose=0, warm_start=False), RandomForestClassifier(bootstr...         presort='auto', random_state=42, subsample=1.0, verbose=0,\n",
       "              warm_start=False)],\n",
       "            refit=False, verbose=0, voting='hard', weights=[1, 1, 2])"
      ]
     },
     "execution_count": 30,
     "metadata": {},
     "output_type": "execute_result"
    }
   ],
   "source": [
    "eclf = EnsembleVoteClassifier(clfs=[lr, rf, gb], weights=[1,1,2], refit=False)\n",
    "\n",
    "eclf.fit(X_test, y_test)\n",
    "\n"
   ]
  },
  {
   "cell_type": "code",
   "execution_count": 31,
   "metadata": {},
   "outputs": [
    {
     "data": {
      "text/plain": [
       "0.80575307045895284"
      ]
     },
     "execution_count": 31,
     "metadata": {},
     "output_type": "execute_result"
    }
   ],
   "source": [
    "eclf.score(X_test,y_test)"
   ]
  },
  {
   "cell_type": "code",
   "execution_count": 32,
   "metadata": {},
   "outputs": [
    {
     "data": {
      "text/plain": [
       "0.51784678477965185"
      ]
     },
     "execution_count": 32,
     "metadata": {},
     "output_type": "execute_result"
    }
   ],
   "source": [
    "log_loss(y_test,eclf.predict_proba(X_test))"
   ]
  },
  {
   "cell_type": "code",
   "execution_count": 33,
   "metadata": {},
   "outputs": [
    {
     "data": {
      "text/plain": [
       "(array([9, 2, 8, 5, 8, 3, 6, 3, 8, 2, 9, 9, 2, 3, 9]),\n",
       " array([6, 3, 8, 5, 8, 3, 6, 3, 8, 2, 9, 9, 2, 2, 9]),\n",
       " array([9, 3, 8, 5, 8, 3, 6, 3, 8, 2, 8, 9, 2, 2, 9]),\n",
       " array([9, 3, 8, 5, 8, 3, 6, 3, 8, 2, 8, 9, 2, 2, 9]),\n",
       " array([9, 3, 8, 5, 7, 3, 6, 3, 8, 2, 8, 9, 2, 3, 9]))"
      ]
     },
     "execution_count": 33,
     "metadata": {},
     "output_type": "execute_result"
    }
   ],
   "source": [
    "lr.predict(X_test[:15]), rf.predict(X_test[:15]), gb.predict(X_test[:15]), eclf.predict(X_test[:15]), y_test[:15].values"
   ]
  },
  {
   "cell_type": "code",
   "execution_count": 38,
   "metadata": {},
   "outputs": [
    {
     "data": {
      "text/plain": [
       "(array([[ 0.15,  0.07,  0.16,  0.  ,  0.  ,  0.13,  0.07,  0.16,  0.26],\n",
       "        [ 0.  ,  0.64,  0.21,  0.09,  0.01,  0.01,  0.02,  0.01,  0.01],\n",
       "        [ 0.  ,  0.  ,  0.  ,  0.  ,  0.  ,  0.  ,  0.01,  0.99,  0.  ],\n",
       "        [ 0.  ,  0.01,  0.01,  0.  ,  0.98,  0.  ,  0.  ,  0.  ,  0.  ],\n",
       "        [ 0.  ,  0.  ,  0.01,  0.  ,  0.  ,  0.01,  0.25,  0.72,  0.  ],\n",
       "        [ 0.  ,  0.24,  0.52,  0.23,  0.  ,  0.  ,  0.01,  0.  ,  0.  ],\n",
       "        [ 0.05,  0.02,  0.  ,  0.01,  0.  ,  0.88,  0.02,  0.01,  0.01],\n",
       "        [ 0.  ,  0.42,  0.56,  0.  ,  0.01,  0.  ,  0.  ,  0.01,  0.  ],\n",
       "        [ 0.04,  0.  ,  0.  ,  0.  ,  0.  ,  0.01,  0.  ,  0.94,  0.02],\n",
       "        [ 0.  ,  0.65,  0.24,  0.05,  0.  ,  0.01,  0.03,  0.  ,  0.01],\n",
       "        [ 0.11,  0.15,  0.07,  0.  ,  0.  ,  0.01,  0.03,  0.25,  0.37],\n",
       "        [ 0.01,  0.1 ,  0.  ,  0.  ,  0.  ,  0.  ,  0.  ,  0.06,  0.83],\n",
       "        [ 0.  ,  0.86,  0.04,  0.1 ,  0.  ,  0.  ,  0.  ,  0.  ,  0.  ],\n",
       "        [ 0.  ,  0.44,  0.48,  0.  ,  0.  ,  0.01,  0.01,  0.05,  0.  ],\n",
       "        [ 0.14,  0.18,  0.05,  0.02,  0.01,  0.05,  0.02,  0.03,  0.5 ]]),\n",
       " array([[ 0.2,  0.1,  0. ,  0. ,  0. ,  0.5,  0. ,  0. ,  0.2],\n",
       "        [ 0. ,  0.3,  0.4,  0.3,  0. ,  0. ,  0. ,  0. ,  0. ],\n",
       "        [ 0. ,  0. ,  0. ,  0. ,  0. ,  0. ,  0.1,  0.9,  0. ],\n",
       "        [ 0. ,  0. ,  0. ,  0. ,  1. ,  0. ,  0. ,  0. ,  0. ],\n",
       "        [ 0. ,  0.1,  0.1,  0.1,  0. ,  0.1,  0. ,  0.6,  0. ],\n",
       "        [ 0. ,  0.1,  0.7,  0.2,  0. ,  0. ,  0. ,  0. ,  0. ],\n",
       "        [ 0. ,  0. ,  0. ,  0. ,  0. ,  1. ,  0. ,  0. ,  0. ],\n",
       "        [ 0. ,  0.3,  0.7,  0. ,  0. ,  0. ,  0. ,  0. ,  0. ],\n",
       "        [ 0.1,  0. ,  0. ,  0. ,  0. ,  0.1,  0. ,  0.8,  0. ],\n",
       "        [ 0. ,  1. ,  0. ,  0. ,  0. ,  0. ,  0. ,  0. ,  0. ],\n",
       "        [ 0. ,  0.2,  0. ,  0. ,  0. ,  0. ,  0.1,  0.3,  0.4],\n",
       "        [ 0.1,  0.1,  0. ,  0.1,  0. ,  0.1,  0. ,  0. ,  0.6],\n",
       "        [ 0. ,  0.8,  0.1,  0.1,  0. ,  0. ,  0. ,  0. ,  0. ],\n",
       "        [ 0. ,  0.7,  0.3,  0. ,  0. ,  0. ,  0. ,  0. ,  0. ],\n",
       "        [ 0.1,  0. ,  0. ,  0. ,  0. ,  0. ,  0. ,  0. ,  0.9]]),\n",
       " array([[ 0.09,  0.03,  0.02,  0.  ,  0.  ,  0.13,  0.02,  0.13,  0.57],\n",
       "        [ 0.  ,  0.46,  0.47,  0.07,  0.  ,  0.  ,  0.  ,  0.  ,  0.  ],\n",
       "        [ 0.  ,  0.  ,  0.  ,  0.  ,  0.  ,  0.  ,  0.  ,  1.  ,  0.  ],\n",
       "        [ 0.  ,  0.  ,  0.  ,  0.  ,  1.  ,  0.  ,  0.  ,  0.  ,  0.  ],\n",
       "        [ 0.  ,  0.  ,  0.  ,  0.  ,  0.  ,  0.  ,  0.01,  0.98,  0.  ],\n",
       "        [ 0.  ,  0.36,  0.62,  0.02,  0.  ,  0.  ,  0.  ,  0.  ,  0.  ],\n",
       "        [ 0.02,  0.  ,  0.  ,  0.  ,  0.  ,  0.96,  0.  ,  0.01,  0.  ],\n",
       "        [ 0.  ,  0.4 ,  0.6 ,  0.  ,  0.  ,  0.  ,  0.  ,  0.  ,  0.  ],\n",
       "        [ 0.  ,  0.  ,  0.  ,  0.  ,  0.  ,  0.  ,  0.  ,  1.  ,  0.  ],\n",
       "        [ 0.  ,  0.93,  0.05,  0.01,  0.  ,  0.  ,  0.  ,  0.  ,  0.  ],\n",
       "        [ 0.01,  0.  ,  0.  ,  0.  ,  0.  ,  0.02,  0.  ,  0.76,  0.2 ],\n",
       "        [ 0.03,  0.  ,  0.  ,  0.  ,  0.  ,  0.  ,  0.  ,  0.  ,  0.97],\n",
       "        [ 0.  ,  0.98,  0.02,  0.  ,  0.  ,  0.  ,  0.  ,  0.  ,  0.  ],\n",
       "        [ 0.  ,  0.73,  0.26,  0.  ,  0.  ,  0.  ,  0.  ,  0.01,  0.  ],\n",
       "        [ 0.03,  0.01,  0.  ,  0.  ,  0.  ,  0.  ,  0.  ,  0.01,  0.95]]),\n",
       " array([[ 0.13,  0.06,  0.05,  0.  ,  0.  ,  0.22,  0.03,  0.11,  0.4 ],\n",
       "        [ 0.  ,  0.46,  0.39,  0.13,  0.  ,  0.  ,  0.01,  0.  ,  0.  ],\n",
       "        [ 0.  ,  0.  ,  0.  ,  0.  ,  0.  ,  0.  ,  0.03,  0.97,  0.  ],\n",
       "        [ 0.  ,  0.  ,  0.  ,  0.  ,  1.  ,  0.  ,  0.  ,  0.  ,  0.  ],\n",
       "        [ 0.  ,  0.03,  0.03,  0.03,  0.  ,  0.03,  0.07,  0.82,  0.  ],\n",
       "        [ 0.  ,  0.27,  0.61,  0.12,  0.  ,  0.  ,  0.  ,  0.  ,  0.  ],\n",
       "        [ 0.02,  0.01,  0.  ,  0.  ,  0.  ,  0.95,  0.01,  0.01,  0.  ],\n",
       "        [ 0.  ,  0.38,  0.61,  0.  ,  0.  ,  0.  ,  0.  ,  0.  ,  0.  ],\n",
       "        [ 0.04,  0.  ,  0.  ,  0.  ,  0.  ,  0.03,  0.  ,  0.93,  0.  ],\n",
       "        [ 0.  ,  0.88,  0.09,  0.02,  0.  ,  0.  ,  0.01,  0.  ,  0.  ],\n",
       "        [ 0.03,  0.09,  0.02,  0.  ,  0.  ,  0.01,  0.03,  0.52,  0.29],\n",
       "        [ 0.04,  0.05,  0.  ,  0.03,  0.  ,  0.03,  0.  ,  0.01,  0.84],\n",
       "        [ 0.  ,  0.9 ,  0.05,  0.05,  0.  ,  0.  ,  0.  ,  0.  ,  0.  ],\n",
       "        [ 0.  ,  0.65,  0.32,  0.  ,  0.  ,  0.  ,  0.  ,  0.02,  0.  ],\n",
       "        [ 0.07,  0.05,  0.02,  0.01,  0.  ,  0.01,  0.01,  0.01,  0.82]]),\n",
       " array([9, 3, 8, 5, 7, 3, 6, 3, 8, 2, 8, 9, 2, 3, 9]))"
      ]
     },
     "execution_count": 38,
     "metadata": {},
     "output_type": "execute_result"
    }
   ],
   "source": [
    "np.round(lr.predict_proba(X_test[:15]),2), np.round(rf.predict_proba(X_test[:15]),2), \\\n",
    "                np.round(gb.predict_proba(X_test[:15]),2), np.round(eclf.predict_proba(X_test[:15]),2), y_test[:15].values"
   ]
  }
 ],
 "metadata": {
  "kernelspec": {
   "display_name": "Python 3",
   "language": "python",
   "name": "python3"
  },
  "language_info": {
   "codemirror_mode": {
    "name": "ipython",
    "version": 3
   },
   "file_extension": ".py",
   "mimetype": "text/x-python",
   "name": "python",
   "nbconvert_exporter": "python",
   "pygments_lexer": "ipython3",
   "version": "3.6.3"
  },
  "latex_envs": {
   "LaTeX_envs_menu_present": true,
   "autoclose": false,
   "autocomplete": true,
   "bibliofile": "biblio.bib",
   "cite_by": "apalike",
   "current_citInitial": 1,
   "eqLabelWithNumbers": true,
   "eqNumInitial": 1,
   "hotkeys": {
    "equation": "Ctrl-E",
    "itemize": "Ctrl-I"
   },
   "labels_anchors": false,
   "latex_user_defs": false,
   "report_style_numbering": false,
   "user_envs_cfg": false
  }
 },
 "nbformat": 4,
 "nbformat_minor": 2
}
