{
 "cells": [
  {
   "cell_type": "code",
   "execution_count": 1,
   "metadata": {
    "collapsed": true
   },
   "outputs": [],
   "source": [
    "from sklearn.externals import joblib\n",
    "import pandas as pd\n",
    "import numpy as np"
   ]
  },
  {
   "cell_type": "code",
   "execution_count": 0,
   "metadata": {
    "colab": {},
    "colab_type": "code",
    "collapsed": true,
    "id": "bJmQRQuQYUoL"
   },
   "outputs": [],
   "source": [
    "# load the model\n",
    "gb_model = joblib.load(\"../models-repo/gradient_boost_model.sav\")"
   ]
  },
  {
   "cell_type": "code",
   "execution_count": 38,
   "metadata": {
    "colab": {
     "base_uri": "https://localhost:8080/",
     "height": 659
    },
    "colab_type": "code",
    "id": "voNyQkFEc_PZ",
    "outputId": "95641cae-e5be-4985-f774-0d3267a67c29"
   },
   "outputs": [
    {
     "name": "stdout",
     "output_type": "stream",
     "text": [
      "       feat_1  feat_2  feat_3  feat_4  feat_5  feat_6  feat_7  feat_8  feat_9  \\\n",
      "17894       0       0       0       0       0       0       0       0       0   \n",
      "34701       0       0       0       0       0       0       0       0       0   \n",
      "36964       0       0       7      11       0       0       0       0       0   \n",
      "25140       0       0       0       0       0       0       1       0       2   \n",
      "25931       0       0       0       0       0       0       0       0       0   \n",
      "21625       0       0       0       0       1       0       0       0       0   \n",
      "54931       0       0       0       0       0       0       0       0       0   \n",
      "24145       0       0       0       0       0       0       0       0       0   \n",
      "12502       0       0       0       0       0       0       0       0       0   \n",
      "34371       0       0      17       5       0       0       0       0       0   \n",
      "\n",
      "       feat_10   ...     feat_84  feat_85  feat_86  feat_87  feat_88  feat_89  \\\n",
      "17894        0   ...           0        0        0        0        3        0   \n",
      "34701        0   ...           0        0        1        1        0        0   \n",
      "36964        1   ...           0        0        1        0        0        8   \n",
      "25140        0   ...           0        0        1        0        0        1   \n",
      "25931        0   ...           0        0        3        1        2        0   \n",
      "21625        1   ...           0        0       13        0       28        0   \n",
      "54931        0   ...           0        0        0        0        0        0   \n",
      "24145        0   ...           0        0        0        0        5        0   \n",
      "12502        0   ...           0        3        0        0        1        1   \n",
      "34371        0   ...           0        0        0        0        0        0   \n",
      "\n",
      "       feat_90  feat_91  feat_92  feat_93  \n",
      "17894        0        0        0        0  \n",
      "34701        0        0        0        0  \n",
      "36964        0        0        0        1  \n",
      "25140        0        0        0        0  \n",
      "25931        0        0        0        0  \n",
      "21625        0        0        0        0  \n",
      "54931        0        0        0        0  \n",
      "24145        0        0        1        0  \n",
      "12502        0        0        0        0  \n",
      "34371        0        0        0        0  \n",
      "\n",
      "[10 rows x 93 columns]\n"
     ]
    }
   ],
   "source": [
    "# get the data for which to do the predictions \n",
    "# for e.g. here we take 10 rows from our test data set\n",
    "data = X_test.iloc[100:110,:]\n",
    "print(data)"
   ]
  },
  {
   "cell_type": "code",
   "execution_count": 0,
   "metadata": {
    "colab": {},
    "colab_type": "code",
    "collapsed": true,
    "id": "Hcbaxn1FdZVf"
   },
   "outputs": [],
   "source": [
    "# use the model to do the predictions\n",
    "predictions = list(gb_model.predict(X_test.iloc[100:110,:]))"
   ]
  },
  {
   "cell_type": "code",
   "execution_count": 40,
   "metadata": {
    "colab": {
     "base_uri": "https://localhost:8080/",
     "height": 35
    },
    "colab_type": "code",
    "id": "fYAjQjzhdFHJ",
    "outputId": "ac610b5f-43bb-4a8d-e8cc-24d34dcb606a"
   },
   "outputs": [
    {
     "name": "stdout",
     "output_type": "stream",
     "text": [
      "[2, 6, 6, 3, 3, 2, 8, 2, 2, 6]\n"
     ]
    }
   ],
   "source": [
    "print(predictions)"
   ]
  },
  {
   "cell_type": "code",
   "execution_count": null,
   "metadata": {
    "collapsed": true
   },
   "outputs": [],
   "source": []
  }
 ],
 "metadata": {
  "kernelspec": {
   "display_name": "Python 3",
   "language": "python",
   "name": "python3"
  },
  "language_info": {
   "codemirror_mode": {
    "name": "ipython",
    "version": 3
   },
   "file_extension": ".py",
   "mimetype": "text/x-python",
   "name": "python",
   "nbconvert_exporter": "python",
   "pygments_lexer": "ipython3",
   "version": "3.6.3"
  },
  "latex_envs": {
   "LaTeX_envs_menu_present": true,
   "autoclose": false,
   "autocomplete": true,
   "bibliofile": "biblio.bib",
   "cite_by": "apalike",
   "current_citInitial": 1,
   "eqLabelWithNumbers": true,
   "eqNumInitial": 1,
   "hotkeys": {
    "equation": "Ctrl-E",
    "itemize": "Ctrl-I"
   },
   "labels_anchors": false,
   "latex_user_defs": false,
   "report_style_numbering": false,
   "user_envs_cfg": false
  }
 },
 "nbformat": 4,
 "nbformat_minor": 2
}
