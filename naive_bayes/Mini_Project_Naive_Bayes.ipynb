{
 "cells": [
  {
   "cell_type": "markdown",
   "metadata": {},
   "source": [
    "# Basic Text Classification with Naive Bayes\n",
    "***\n",
    "In the mini-project, you'll learn the basics of text analysis using a subset of movie reviews from the rotten tomatoes database. You'll also use a fundamental technique in Bayesian inference, called Naive Bayes. This mini-project is based on [Lab 10 of Harvard's CS109](https://github.com/cs109/2015lab10) class.  Please free to go to the original lab for additional exercises and solutions."
   ]
  },
  {
   "cell_type": "code",
   "execution_count": 1,
   "metadata": {},
   "outputs": [
    {
     "name": "stderr",
     "output_type": "stream",
     "text": [
      "/anaconda3/lib/python3.6/importlib/_bootstrap.py:219: RuntimeWarning: numpy.dtype size changed, may indicate binary incompatibility. Expected 96, got 88\n",
      "  return f(*args, **kwds)\n",
      "/anaconda3/lib/python3.6/importlib/_bootstrap.py:219: RuntimeWarning: numpy.dtype size changed, may indicate binary incompatibility. Expected 96, got 88\n",
      "  return f(*args, **kwds)\n",
      "/anaconda3/lib/python3.6/importlib/_bootstrap.py:219: RuntimeWarning: numpy.dtype size changed, may indicate binary incompatibility. Expected 96, got 88\n",
      "  return f(*args, **kwds)\n",
      "/anaconda3/lib/python3.6/importlib/_bootstrap.py:219: RuntimeWarning: numpy.dtype size changed, may indicate binary incompatibility. Expected 96, got 88\n",
      "  return f(*args, **kwds)\n"
     ]
    }
   ],
   "source": [
    "%matplotlib inline\n",
    "import numpy as np\n",
    "import scipy as sp\n",
    "import matplotlib as mpl\n",
    "import matplotlib.cm as cm\n",
    "import matplotlib.pyplot as plt\n",
    "import pandas as pd\n",
    "import seaborn as sns\n",
    "from six.moves import range\n",
    "\n",
    "# Setup Pandas\n",
    "pd.set_option('display.width', 500)\n",
    "pd.set_option('display.max_columns', 100)\n",
    "pd.set_option('display.notebook_repr_html', True)\n",
    "\n",
    "# Setup Seaborn\n",
    "sns.set_style(\"whitegrid\")\n",
    "sns.set_context(\"poster\")"
   ]
  },
  {
   "cell_type": "markdown",
   "metadata": {},
   "source": [
    "# Table of Contents\n",
    "\n",
    "* [Rotten Tomatoes Dataset](#Rotten-Tomatoes-Dataset)\n",
    "    * [Explore](#Explore)\n",
    "* [The Vector Space Model and a Search Engine](#The-Vector-Space-Model-and-a-Search-Engine)\n",
    "    * [In Code](#In-Code)\n",
    "* [Naive Bayes](#Naive-Bayes)\n",
    "    * [Multinomial Naive Bayes and Other Likelihood Functions](#Multinomial-Naive-Bayes-and-Other-Likelihood-Functions)\n",
    "    * [Picking Hyperparameters for Naive Bayes and Text Maintenance](#Picking-Hyperparameters-for-Naive-Bayes-and-Text-Maintenance)\n",
    "* [Interpretation](#Interpretation)\n"
   ]
  },
  {
   "cell_type": "markdown",
   "metadata": {},
   "source": [
    "## Rotten Tomatoes Dataset"
   ]
  },
  {
   "cell_type": "code",
   "execution_count": 2,
   "metadata": {},
   "outputs": [
    {
     "data": {
      "text/html": [
       "<div>\n",
       "<style>\n",
       "    .dataframe thead tr:only-child th {\n",
       "        text-align: right;\n",
       "    }\n",
       "\n",
       "    .dataframe thead th {\n",
       "        text-align: left;\n",
       "    }\n",
       "\n",
       "    .dataframe tbody tr th {\n",
       "        vertical-align: top;\n",
       "    }\n",
       "</style>\n",
       "<table border=\"1\" class=\"dataframe\">\n",
       "  <thead>\n",
       "    <tr style=\"text-align: right;\">\n",
       "      <th></th>\n",
       "      <th>critic</th>\n",
       "      <th>fresh</th>\n",
       "      <th>imdb</th>\n",
       "      <th>publication</th>\n",
       "      <th>quote</th>\n",
       "      <th>review_date</th>\n",
       "      <th>rtid</th>\n",
       "      <th>title</th>\n",
       "    </tr>\n",
       "  </thead>\n",
       "  <tbody>\n",
       "    <tr>\n",
       "      <th>1</th>\n",
       "      <td>Derek Adams</td>\n",
       "      <td>fresh</td>\n",
       "      <td>114709</td>\n",
       "      <td>Time Out</td>\n",
       "      <td>So ingenious in concept, design and execution ...</td>\n",
       "      <td>2009-10-04</td>\n",
       "      <td>9559</td>\n",
       "      <td>Toy story</td>\n",
       "    </tr>\n",
       "    <tr>\n",
       "      <th>2</th>\n",
       "      <td>Richard Corliss</td>\n",
       "      <td>fresh</td>\n",
       "      <td>114709</td>\n",
       "      <td>TIME Magazine</td>\n",
       "      <td>The year's most inventive comedy.</td>\n",
       "      <td>2008-08-31</td>\n",
       "      <td>9559</td>\n",
       "      <td>Toy story</td>\n",
       "    </tr>\n",
       "    <tr>\n",
       "      <th>3</th>\n",
       "      <td>David Ansen</td>\n",
       "      <td>fresh</td>\n",
       "      <td>114709</td>\n",
       "      <td>Newsweek</td>\n",
       "      <td>A winning animated feature that has something ...</td>\n",
       "      <td>2008-08-18</td>\n",
       "      <td>9559</td>\n",
       "      <td>Toy story</td>\n",
       "    </tr>\n",
       "    <tr>\n",
       "      <th>4</th>\n",
       "      <td>Leonard Klady</td>\n",
       "      <td>fresh</td>\n",
       "      <td>114709</td>\n",
       "      <td>Variety</td>\n",
       "      <td>The film sports a provocative and appealing st...</td>\n",
       "      <td>2008-06-09</td>\n",
       "      <td>9559</td>\n",
       "      <td>Toy story</td>\n",
       "    </tr>\n",
       "    <tr>\n",
       "      <th>5</th>\n",
       "      <td>Jonathan Rosenbaum</td>\n",
       "      <td>fresh</td>\n",
       "      <td>114709</td>\n",
       "      <td>Chicago Reader</td>\n",
       "      <td>An entertaining computer-generated, hyperreali...</td>\n",
       "      <td>2008-03-10</td>\n",
       "      <td>9559</td>\n",
       "      <td>Toy story</td>\n",
       "    </tr>\n",
       "  </tbody>\n",
       "</table>\n",
       "</div>"
      ],
      "text/plain": [
       "               critic  fresh    imdb     publication                                              quote review_date  rtid      title\n",
       "1         Derek Adams  fresh  114709        Time Out  So ingenious in concept, design and execution ...  2009-10-04  9559  Toy story\n",
       "2     Richard Corliss  fresh  114709   TIME Magazine                  The year's most inventive comedy.  2008-08-31  9559  Toy story\n",
       "3         David Ansen  fresh  114709        Newsweek  A winning animated feature that has something ...  2008-08-18  9559  Toy story\n",
       "4       Leonard Klady  fresh  114709         Variety  The film sports a provocative and appealing st...  2008-06-09  9559  Toy story\n",
       "5  Jonathan Rosenbaum  fresh  114709  Chicago Reader  An entertaining computer-generated, hyperreali...  2008-03-10  9559  Toy story"
      ]
     },
     "execution_count": 2,
     "metadata": {},
     "output_type": "execute_result"
    }
   ],
   "source": [
    "critics = pd.read_csv('./critics.csv')\n",
    "#let's drop rows with missing quotes\n",
    "critics = critics[~critics.quote.isnull()]\n",
    "critics.head()"
   ]
  },
  {
   "cell_type": "markdown",
   "metadata": {},
   "source": [
    "### Explore"
   ]
  },
  {
   "cell_type": "code",
   "execution_count": 3,
   "metadata": {},
   "outputs": [
    {
     "name": "stdout",
     "output_type": "stream",
     "text": [
      "Number of reviews: 15561\n",
      "Number of critics: 623\n",
      "Number of movies:  1921\n"
     ]
    }
   ],
   "source": [
    "n_reviews = len(critics)\n",
    "n_movies = critics.rtid.unique().size\n",
    "n_critics = critics.critic.unique().size\n",
    "\n",
    "print(\"Number of reviews: {:d}\".format(n_reviews))\n",
    "print(\"Number of critics: {:d}\".format(n_critics))\n",
    "print(\"Number of movies:  {:d}\".format(n_movies))"
   ]
  },
  {
   "cell_type": "code",
   "execution_count": 4,
   "metadata": {},
   "outputs": [
    {
     "data": {
      "image/png": "[encoded data removed]",
      "text/plain": [
       "<matplotlib.figure.Figure at 0x1a1b7dae80>"
      ]
     },
     "metadata": {},
     "output_type": "display_data"
    }
   ],
   "source": [
    "df = critics.copy()\n",
    "df['fresh'] = df.fresh == 'fresh'\n",
    "grp = df.groupby('critic')\n",
    "counts = grp.critic.count()  # number of reviews by each critic\n",
    "means = grp.fresh.mean()     # average freshness for each critic\n",
    "\n",
    "means[counts > 100].hist(bins=10, edgecolor='w', lw=1)\n",
    "plt.xlabel(\"Average Rating per critic\")\n",
    "plt.ylabel(\"Number of Critics\")\n",
    "plt.yticks([0, 2, 4, 6, 8, 10]);"
   ]
  },
  {
   "cell_type": "markdown",
   "metadata": {},
   "source": [
    "<div class=\"span5 alert alert-info\">\n",
    "<h3>Exercise Set I</h3>\n",
    "<br/>\n",
    "<b>Exercise:</b> Look at the histogram above. Tell a story about the average ratings per critic. What shape does the distribution look like? What is interesting about the distribution? What might explain these interesting things?\n",
    "</div>"
   ]
  },
  {
   "cell_type": "markdown",
   "metadata": {},
   "source": [
    "<div class=\"alert alert-success\">\n",
    "<p>\n",
    "The historgram above takes into consideration the critics who have reviewed more than 100 movies. Since they have given so many reviews we can assume that they are movie buffs and like to critique movies as well. We should also look at data for other critics as well.\n",
    "<p>\n",
    "Here most of the critics have given average rating above 0.5. Also, the mean seems to be somewhat greater than 0.6. This might suggest that the movie buffs really like the movies overall and tend to give higher ratings.\n",
    "<p>\n",
    "Another explanation is that these people are good at selecting good movies to watch. It is natural that a person who watches a lot of movies can tell by knowing about trailer, storyline, director, actor etc. that a movie will turn out to be good etc. Also people don't just watch any movie, they select movies which they are likely to like.\n",
    "<p>\n",
    "Now let us look at some more data including other critics (who have reviewed more than 20 movies). This chart is more normal-ish and the mean is around 0.6. These critics might not be that big lovers of movies and hence we also see lower ratings.\n",
    "</div>"
   ]
  },
  {
   "cell_type": "code",
   "execution_count": 5,
   "metadata": {},
   "outputs": [
    {
     "data": {
      "image/png": "[encoded data removed]",
      "text/plain": [
       "<matplotlib.figure.Figure at 0x1a1b7da6d8>"
      ]
     },
     "metadata": {},
     "output_type": "display_data"
    }
   ],
   "source": [
    "means[counts > 20].hist(bins=12, edgecolor='w', lw=1)\n",
    "plt.xlabel(\"Average Rating per critic\")\n",
    "plt.ylabel(\"Number of Critics\")\n",
    "plt.yticks([0, 5, 10, 15, 20]);"
   ]
  },
  {
   "cell_type": "markdown",
   "metadata": {},
   "source": [
    "## The Vector Space Model and a Search Engine"
   ]
  },
  {
   "cell_type": "markdown",
   "metadata": {},
   "source": [
    "All the diagrams here are snipped from [*Introduction to Information Retrieval* by Manning et. al.]( http://nlp.stanford.edu/IR-book/) which is a great resource on text processing. For additional information on text mining and natural language processing, see [*Foundations of Statistical Natural Language Processing* by Manning and Schutze](http://nlp.stanford.edu/fsnlp/).\n",
    "\n",
    "Also check out Python packages [`nltk`](http://www.nltk.org/), [`spaCy`](https://spacy.io/), [`pattern`](http://www.clips.ua.ac.be/pattern), and their associated resources. Also see [`word2vec`](https://en.wikipedia.org/wiki/Word2vec).\n",
    "\n",
    "Let us define the vector derived from document $d$ by $\\bar V(d)$. What does this mean? Each document is treated as a vector containing information about the words contained in it. Each vector has the same length and each entry \"slot\" in the vector contains some kind of data about the words that appear in the document such as presence/absence (1/0), count (an integer) or some other statistic. Each vector has the same length because each document shared the same vocabulary across the full collection of documents -- this collection is called a *corpus*.\n",
    "\n",
    "To define the vocabulary, we take a union of all words we have seen in all documents. We then just associate an array index with them. So \"hello\" may be at index 5 and \"world\" at index 99.\n",
    "\n",
    "Suppose we have the following corpus:\n",
    "\n",
    "`A Fox one day spied a beautiful bunch of ripe grapes hanging from a vine trained along the branches of a tree. The grapes seemed ready to burst with juice, and the Fox's mouth watered as he gazed longingly at them.`\n",
    "\n",
    "Suppose we treat each sentence as a document $d$. The vocabulary (often called the *lexicon*) is the following:\n",
    "\n",
    "$V = \\left\\{\\right.$ `a, along, and, as, at, beautiful, branches, bunch, burst, day, fox, fox's, from, gazed, grapes, hanging, he, juice, longingly, mouth, of, one, ready, ripe, seemed, spied, the, them, to, trained, tree, vine, watered, with`$\\left.\\right\\}$\n",
    "\n",
    "Then the document\n",
    "\n",
    "`A Fox one day spied a beautiful bunch of ripe grapes hanging from a vine trained along the branches of a tree`\n",
    "\n",
    "may be represented as the following sparse vector of word counts:\n",
    "\n",
    "$$\\bar V(d) = \\left( 4,1,0,0,0,1,1,1,0,1,1,0,1,0,1,1,0,0,0,0,2,1,0,1,0,0,1,0,0,1,1,1,0,0 \\right)$$\n",
    "\n",
    "or more succinctly as\n",
    "\n",
    "`[(0, 4), (1, 1), (5, 1), (6, 1), (7, 1), (9, 1), (10, 1), (12, 1), (14, 1), (15, 1), (20, 2), (21, 1), (23, 1),`\n",
    "`(26, 1), (29,1), (30, 1), (31, 1)]`\n",
    "\n",
    "along with a dictionary\n",
    "\n",
    "``\n",
    "{\n",
    "    0: a, 1: along, 5: beautiful, 6: branches, 7: bunch, 9: day, 10: fox, 12: from, 14: grapes, 15: hanging, 19: mouth, 20: of, 21: one, 23: ripe, 24: seemed, 25: spied, 26: the, 29:trained, 30: tree, 31: vine, \n",
    "}\n",
    "``\n",
    "\n",
    "Then, a set of documents becomes, in the usual `sklearn` style, a sparse matrix with rows being sparse arrays representing documents and columns representing the features/words in the vocabulary.\n",
    "\n",
    "Notice that this representation loses the relative ordering of the terms in the document. That is \"cat ate rat\" and \"rat ate cat\" are the same. Thus, this representation is also known as the Bag-Of-Words representation.\n",
    "\n",
    "Here is another example, from the book quoted above, although the matrix is transposed here so that documents are columns:\n",
    "\n",
    "![novel terms](terms.png)\n",
    "\n",
    "Such a matrix is also catted a Term-Document Matrix. Here, the terms being indexed could be stemmed before indexing; for instance, `jealous` and `jealousy` after stemming are the same feature. One could also make use of other \"Natural Language Processing\" transformations in constructing the vocabulary. We could use Lemmatization, which reduces words to lemmas: work, working, worked would all reduce to work. We could remove \"stopwords\" from our vocabulary, such as common words like \"the\". We could look for particular parts of speech, such as adjectives. This is often done in Sentiment Analysis. And so on. It all depends on our application.\n",
    "\n",
    "From the book:\n",
    ">The standard way of quantifying the similarity between two documents $d_1$ and $d_2$  is to compute the cosine similarity of their vector representations $\\bar V(d_1)$ and $\\bar V(d_2)$:\n",
    "\n",
    "$$S_{12} = \\frac{\\bar V(d_1) \\cdot \\bar V(d_2)}{|\\bar V(d_1)| \\times |\\bar V(d_2)|}$$\n",
    "\n",
    "![Vector Space Model](vsm.png)\n",
    "\n",
    "\n",
    ">There is a far more compelling reason to represent documents as vectors: we can also view a query as a vector. Consider the query q = jealous gossip. This query turns into the unit vector $\\bar V(q)$ = (0, 0.707, 0.707) on the three coordinates below. \n",
    "\n",
    "![novel terms](terms2.png)\n",
    "\n",
    ">The key idea now: to assign to each document d a score equal to the dot product:\n",
    "\n",
    "$$\\bar V(q) \\cdot \\bar V(d)$$\n",
    "\n",
    "Then we can use this simple Vector Model as a Search engine."
   ]
  },
  {
   "cell_type": "markdown",
   "metadata": {},
   "source": [
    "### In Code"
   ]
  },
  {
   "cell_type": "code",
   "execution_count": 6,
   "metadata": {},
   "outputs": [
    {
     "name": "stdout",
     "output_type": "stream",
     "text": [
      "Original text is\n",
      "Hop on pop\n",
      "Hop off pop\n",
      "Hop Hop hop\n",
      "  (0, 0)\t1\n",
      "  (0, 2)\t1\n",
      "  (0, 3)\t1\n",
      "  (1, 0)\t1\n",
      "  (1, 1)\t1\n",
      "  (1, 3)\t1\n",
      "  (2, 0)\t3\n",
      "\n",
      "Transformed text vector is \n",
      "[[1 0 1 1]\n",
      " [1 1 0 1]\n",
      " [3 0 0 0]]\n",
      "\n",
      "Words for each feature:\n",
      "['hop', 'off', 'on', 'pop']\n"
     ]
    }
   ],
   "source": [
    "from sklearn.feature_extraction.text import CountVectorizer\n",
    "\n",
    "text = ['Hop on pop', 'Hop off pop', 'Hop Hop hop']\n",
    "print(\"Original text is\\n{}\".format('\\n'.join(text)))\n",
    "\n",
    "vectorizer = CountVectorizer(min_df=0)\n",
    "\n",
    "# call `fit` to build the vocabulary\n",
    "vectorizer.fit(text)\n",
    "\n",
    "# call `transform` to convert text to a bag of words\n",
    "x = vectorizer.transform(text)\n",
    "print(x)\n",
    "\n",
    "# CountVectorizer uses a sparse array to save memory, but it's easier in this assignment to \n",
    "# convert back to a \"normal\" numpy array\n",
    "x = x.toarray()\n",
    "\n",
    "print(\"\")\n",
    "print(\"Transformed text vector is \\n{}\".format(x))\n",
    "\n",
    "# `get_feature_names` tracks which word is associated with each column of the transformed x\n",
    "print(\"\")\n",
    "print(\"Words for each feature:\")\n",
    "print(vectorizer.get_feature_names())\n",
    "\n",
    "# Notice that the bag of words treatment doesn't preserve information about the *order* of words, \n",
    "# just their frequency"
   ]
  },
  {
   "cell_type": "code",
   "execution_count": 7,
   "metadata": {
    "collapsed": true
   },
   "outputs": [],
   "source": [
    "def make_xy(critics, vectorizer=None):\n",
    "    #Your code here    \n",
    "    if vectorizer is None:\n",
    "        vectorizer = CountVectorizer()\n",
    "    X = vectorizer.fit_transform(critics.quote)\n",
    "    X = X.tocsc()  # some versions of sklearn return COO format\n",
    "    y = (critics.fresh == 'fresh').values.astype(np.int)\n",
    "    \n",
    "    return X, y\n",
    "X, y = make_xy(critics)"
   ]
  },
  {
   "cell_type": "code",
   "execution_count": 8,
   "metadata": {},
   "outputs": [
    {
     "data": {
      "text/plain": [
       "(<15561x22417 sparse matrix of type '<class 'numpy.int64'>'\n",
       " \twith 272265 stored elements in Compressed Sparse Column format>,\n",
       " array([1, 1, 1, ..., 1, 1, 1]))"
      ]
     },
     "execution_count": 8,
     "metadata": {},
     "output_type": "execute_result"
    }
   ],
   "source": [
    "X,y"
   ]
  },
  {
   "cell_type": "code",
   "execution_count": 9,
   "metadata": {},
   "outputs": [
    {
     "data": {
      "text/plain": [
       "295413"
      ]
     },
     "execution_count": 9,
     "metadata": {},
     "output_type": "execute_result"
    }
   ],
   "source": [
    "X.sum()"
   ]
  },
  {
   "cell_type": "code",
   "execution_count": 10,
   "metadata": {},
   "outputs": [
    {
     "data": {
      "text/plain": [
       "302575"
      ]
     },
     "execution_count": 10,
     "metadata": {},
     "output_type": "execute_result"
    }
   ],
   "source": [
    "# total number of words in all the quotes\n",
    "words_len = [len(str.split(quote,\" \")) for quote in critics.quote]\n",
    "np.sum(words_len)"
   ]
  },
  {
   "cell_type": "markdown",
   "metadata": {},
   "source": [
    "## Naive Bayes"
   ]
  },
  {
   "cell_type": "markdown",
   "metadata": {},
   "source": [
    "From Bayes' Theorem, we have that\n",
    "\n",
    "$$P(c \\vert f) = \\frac{P(c \\cap f)}{P(f)}$$\n",
    "\n",
    "where $c$ represents a *class* or category, and $f$ represents a feature vector, such as $\\bar V(d)$ as above. **We are computing the probability that a document (or whatever we are classifying) belongs to category *c* given the features in the document.** $P(f)$ is really just a normalization constant, so the literature usually writes Bayes' Theorem in context of Naive Bayes as\n",
    "\n",
    "$$P(c \\vert f) \\propto P(f \\vert c) P(c) $$\n",
    "\n",
    "$P(c)$ is called the *prior* and is simply the probability of seeing class $c$. But what is $P(f \\vert c)$? This is the probability that we see feature set $f$ given that this document is actually in class $c$. This is called the *likelihood* and comes from the data. One of the major assumptions of the Naive Bayes model is that the features are *conditionally independent* given the class. While the presence of a particular discriminative word may uniquely identify the document as being part of class $c$ and thus violate general feature independence, conditional independence means that the presence of that term is independent of all the other words that appear *within that class*. This is a very important distinction. Recall that if two events are independent, then:\n",
    "\n",
    "$$P(A \\cap B) = P(A) \\cdot P(B)$$\n",
    "\n",
    "Thus, conditional independence implies\n",
    "\n",
    "$$P(f \\vert c)  = \\prod_i P(f_i | c) $$\n",
    "\n",
    "where $f_i$ is an individual feature (a word in this example).\n",
    "\n",
    "To make a classification, we then choose the class $c$ such that $P(c \\vert f)$ is maximal.\n",
    "\n",
    "There is a small caveat when computing these probabilities. For [floating point underflow](http://nlp.stanford.edu/IR-book/html/htmledition/naive-bayes-text-classification-1.html) we change the product into a sum by going into log space. This is called the LogSumExp trick. So:\n",
    "\n",
    "$$\\log P(f \\vert c)  = \\sum_i \\log P(f_i \\vert c) $$\n",
    "\n",
    "There is another caveat. What if we see a term that didn't exist in the training data? This means that $P(f_i \\vert c) = 0$ for that term, and thus $P(f \\vert c)  = \\prod_i P(f_i | c) = 0$, which doesn't help us at all. Instead of using zeros, we add a small negligible value called $\\alpha$ to each count. This is called Laplace Smoothing.\n",
    "\n",
    "$$P(f_i \\vert c) = \\frac{N_{ic}+\\alpha}{N_c + \\alpha N_i}$$\n",
    "\n",
    "where $N_{ic}$ is the number of times feature $i$ was seen in class $c$, $N_c$ is the number of times class $c$ was seen and $N_i$ is the number of times feature $i$ was seen globally. $\\alpha$ is sometimes called a regularization parameter."
   ]
  },
  {
   "cell_type": "markdown",
   "metadata": {},
   "source": [
    "### Multinomial Naive Bayes and Other Likelihood Functions\n",
    "\n",
    "Since we are modeling word counts, we are using variation of Naive Bayes called Multinomial Naive Bayes. This is because the likelihood function actually takes the form of the multinomial distribution.\n",
    "\n",
    "$$P(f \\vert c) = \\frac{\\left( \\sum_i f_i \\right)!}{\\prod_i f_i!} \\prod_{f_i} P(f_i \\vert c)^{f_i} \\propto \\prod_{i} P(f_i \\vert c)$$\n",
    "\n",
    "where the nasty term out front is absorbed as a normalization constant such that probabilities sum to 1.\n",
    "\n",
    "There are many other variations of Naive Bayes, all which depend on what type of value $f_i$ takes. If $f_i$ is continuous, we may be able to use *Gaussian Naive Bayes*. First compute the mean and variance for each class $c$. Then the likelihood, $P(f \\vert c)$ is given as follows\n",
    "\n",
    "$$P(f_i = v \\vert c) = \\frac{1}{\\sqrt{2\\pi \\sigma^2_c}} e^{- \\frac{\\left( v - \\mu_c \\right)^2}{2 \\sigma^2_c}}$$"
   ]
  },
  {
   "cell_type": "markdown",
   "metadata": {},
   "source": [
    "<div class=\"span5 alert alert-info\">\n",
    "<h3>Exercise Set II</h3>\n",
    "\n",
    "<p><b>Exercise:</b> Implement a simple Naive Bayes classifier:</p>\n",
    "\n",
    "<ol>\n",
    "<li> split the data set into a training and test set\n",
    "<li> Use `scikit-learn`'s `MultinomialNB()` classifier with default parameters.\n",
    "<li> train the classifier over the training set and test on the test set\n",
    "<li> print the accuracy scores for both the training and the test sets\n",
    "</ol>\n",
    "\n",
    "What do you notice? Is this a good classifier? If not, why not?\n",
    "</div>"
   ]
  },
  {
   "cell_type": "code",
   "execution_count": 11,
   "metadata": {},
   "outputs": [
    {
     "data": {
      "text/plain": [
       "((11670, 22417), (3891, 22417))"
      ]
     },
     "execution_count": 11,
     "metadata": {},
     "output_type": "execute_result"
    }
   ],
   "source": [
    "#your turn\n",
    "from sklearn.metrics import accuracy_score,classification_report,classification\n",
    "from sklearn.model_selection import train_test_split\n",
    "from sklearn.naive_bayes import MultinomialNB\n",
    "\n",
    "X_train,X_test,y_train,y_test = train_test_split(X,y)\n",
    "X_train.shape, X_test.shape"
   ]
  },
  {
   "cell_type": "code",
   "execution_count": 13,
   "metadata": {},
   "outputs": [
    {
     "data": {
      "text/plain": [
       "MultinomialNB(alpha=1.0, class_prior=None, fit_prior=True)"
      ]
     },
     "execution_count": 13,
     "metadata": {},
     "output_type": "execute_result"
    }
   ],
   "source": [
    "mnb = MultinomialNB()\n",
    "mnb.fit(X_train,y_train)"
   ]
  },
  {
   "cell_type": "code",
   "execution_count": 14,
   "metadata": {},
   "outputs": [
    {
     "name": "stdout",
     "output_type": "stream",
     "text": [
      "test accuracy:  0.7694680030840401\n"
     ]
    }
   ],
   "source": [
    "y_pred = mnb.predict(X_test)\n",
    "print(\"test accuracy: \",accuracy_score(y_pred=y_pred,y_true=y_test))"
   ]
  },
  {
   "cell_type": "code",
   "execution_count": 15,
   "metadata": {},
   "outputs": [
    {
     "name": "stdout",
     "output_type": "stream",
     "text": [
      "             precision    recall  f1-score   support\n",
      "\n",
      "          0       0.74      0.65      0.69      1540\n",
      "          1       0.79      0.85      0.82      2351\n",
      "\n",
      "avg / total       0.77      0.77      0.77      3891\n",
      "\n"
     ]
    }
   ],
   "source": [
    "print(classification_report(y_pred=y_pred,y_true=y_test))"
   ]
  },
  {
   "cell_type": "code",
   "execution_count": 16,
   "metadata": {},
   "outputs": [
    {
     "name": "stdout",
     "output_type": "stream",
     "text": [
      "train accuracy:  0.9199657240788346\n"
     ]
    }
   ],
   "source": [
    "print(\"train accuracy: \",mnb.score(X=X_train,y=y_train))"
   ]
  },
  {
   "cell_type": "markdown",
   "metadata": {},
   "source": [
    "<div class=\"alert alert-success\">\n",
    "This is not a good classifier because the test accuracy score (0.76) is significantly lesser than train accuracy (0.91). It means the classifier is overfitting the data.\n",
    "</div>"
   ]
  },
  {
   "cell_type": "markdown",
   "metadata": {},
   "source": [
    "### Picking Hyperparameters for Naive Bayes and Text Maintenance"
   ]
  },
  {
   "cell_type": "markdown",
   "metadata": {},
   "source": [
    "We need to know what value to use for $\\alpha$, and we also need to know which words to include in the vocabulary. As mentioned earlier, some words are obvious stopwords. Other words appear so infrequently that they serve as noise, and other words in addition to stopwords appear so frequently that they may also serve as noise."
   ]
  },
  {
   "cell_type": "markdown",
   "metadata": {},
   "source": [
    "First, let's find an appropriate value for `min_df` for the `CountVectorizer`. `min_df` can be either an integer or a float/decimal. If it is an integer, `min_df` represents the minimum number of documents a word must appear in for it to be included in the vocabulary. If it is a float, it represents the minimum *percentage* of documents a word must appear in to be included in the vocabulary. From the documentation:"
   ]
  },
  {
   "cell_type": "markdown",
   "metadata": {},
   "source": [
    ">min_df: When building the vocabulary ignore terms that have a document frequency strictly lower than the given threshold. This value is also called cut-off in the literature. If float, the parameter represents a proportion of documents, integer absolute counts. This parameter is ignored if vocabulary is not None."
   ]
  },
  {
   "cell_type": "markdown",
   "metadata": {},
   "source": [
    "<div class=\"span5 alert alert-info\">\n",
    "<h3>Exercise Set III</h3>\n",
    "\n",
    "<p><b>Exercise:</b> Construct the cumulative distribution of document frequencies (df). The $x$-axis is a document count $x_i$ and the $y$-axis is the percentage of words that appear less than $x_i$ times. For example, at $x=5$, plot a point representing the percentage or number of words that appear in 5 or fewer documents.</p>\n",
    "\n",
    "<p><b>Exercise:</b> Look for the point at which the curve begins climbing steeply. This may be a good value for `min_df`. If we were interested in also picking `max_df`, we would likely pick the value where the curve starts to plateau. What value did you choose?</p>\n",
    "</div>"
   ]
  },
  {
   "cell_type": "code",
   "execution_count": 13,
   "metadata": {},
   "outputs": [
    {
     "data": {
      "text/html": [
       "<div>\n",
       "<style>\n",
       "    .dataframe thead tr:only-child th {\n",
       "        text-align: right;\n",
       "    }\n",
       "\n",
       "    .dataframe thead th {\n",
       "        text-align: left;\n",
       "    }\n",
       "\n",
       "    .dataframe tbody tr th {\n",
       "        vertical-align: top;\n",
       "    }\n",
       "</style>\n",
       "<table border=\"1\" class=\"dataframe\">\n",
       "  <thead>\n",
       "    <tr style=\"text-align: right;\">\n",
       "      <th></th>\n",
       "      <th>critic</th>\n",
       "      <th>fresh</th>\n",
       "      <th>imdb</th>\n",
       "      <th>publication</th>\n",
       "      <th>quote</th>\n",
       "      <th>review_date</th>\n",
       "      <th>rtid</th>\n",
       "      <th>title</th>\n",
       "    </tr>\n",
       "  </thead>\n",
       "  <tbody>\n",
       "    <tr>\n",
       "      <th>1</th>\n",
       "      <td>Derek Adams</td>\n",
       "      <td>fresh</td>\n",
       "      <td>114709</td>\n",
       "      <td>Time Out</td>\n",
       "      <td>so ingenious in concept, design and execution ...</td>\n",
       "      <td>2009-10-04</td>\n",
       "      <td>9559</td>\n",
       "      <td>Toy story</td>\n",
       "    </tr>\n",
       "    <tr>\n",
       "      <th>2</th>\n",
       "      <td>Richard Corliss</td>\n",
       "      <td>fresh</td>\n",
       "      <td>114709</td>\n",
       "      <td>TIME Magazine</td>\n",
       "      <td>the year's most inventive comedy.</td>\n",
       "      <td>2008-08-31</td>\n",
       "      <td>9559</td>\n",
       "      <td>Toy story</td>\n",
       "    </tr>\n",
       "    <tr>\n",
       "      <th>3</th>\n",
       "      <td>David Ansen</td>\n",
       "      <td>fresh</td>\n",
       "      <td>114709</td>\n",
       "      <td>Newsweek</td>\n",
       "      <td>a winning animated feature that has something ...</td>\n",
       "      <td>2008-08-18</td>\n",
       "      <td>9559</td>\n",
       "      <td>Toy story</td>\n",
       "    </tr>\n",
       "    <tr>\n",
       "      <th>4</th>\n",
       "      <td>Leonard Klady</td>\n",
       "      <td>fresh</td>\n",
       "      <td>114709</td>\n",
       "      <td>Variety</td>\n",
       "      <td>the film sports a provocative and appealing st...</td>\n",
       "      <td>2008-06-09</td>\n",
       "      <td>9559</td>\n",
       "      <td>Toy story</td>\n",
       "    </tr>\n",
       "    <tr>\n",
       "      <th>5</th>\n",
       "      <td>Jonathan Rosenbaum</td>\n",
       "      <td>fresh</td>\n",
       "      <td>114709</td>\n",
       "      <td>Chicago Reader</td>\n",
       "      <td>an entertaining computer-generated, hyperreali...</td>\n",
       "      <td>2008-03-10</td>\n",
       "      <td>9559</td>\n",
       "      <td>Toy story</td>\n",
       "    </tr>\n",
       "  </tbody>\n",
       "</table>\n",
       "</div>"
      ],
      "text/plain": [
       "               critic  fresh    imdb     publication                                              quote review_date  rtid      title\n",
       "1         Derek Adams  fresh  114709        Time Out  so ingenious in concept, design and execution ...  2009-10-04  9559  Toy story\n",
       "2     Richard Corliss  fresh  114709   TIME Magazine                  the year's most inventive comedy.  2008-08-31  9559  Toy story\n",
       "3         David Ansen  fresh  114709        Newsweek  a winning animated feature that has something ...  2008-08-18  9559  Toy story\n",
       "4       Leonard Klady  fresh  114709         Variety  the film sports a provocative and appealing st...  2008-06-09  9559  Toy story\n",
       "5  Jonathan Rosenbaum  fresh  114709  Chicago Reader  an entertaining computer-generated, hyperreali...  2008-03-10  9559  Toy story"
      ]
     },
     "execution_count": 13,
     "metadata": {},
     "output_type": "execute_result"
    }
   ],
   "source": [
    "# Your turn\n",
    "\n",
    "# copy it, so as not to change original data\n",
    "critics_df = critics.copy()\n",
    "critics_df.quote = critics_df.quote.str.lower()\n",
    "critics_df.head()"
   ]
  },
  {
   "cell_type": "code",
   "execution_count": 18,
   "metadata": {},
   "outputs": [
    {
     "name": "stdout",
     "output_type": "stream",
     "text": [
      "      NumOfDocs\n",
      "Word           \n",
      "0             8\n",
      "1             1\n",
      "2            10\n",
      "3             1\n",
      "4             1\n",
      "5            39\n",
      "6            17\n",
      "7             4\n",
      "8             1\n",
      "9             1\n",
      "(22417, 1)\n"
     ]
    }
   ],
   "source": [
    "X_hp,y = make_xy(critics_df)\n",
    "df_word_f = pd.DataFrame(data=(X_hp.sum(axis=0).transpose()).A[:,0])\n",
    "\n",
    "# index is the words list and column (NumOfDocs) have the number of docs the index word is present in\n",
    "df_word_f.columns = [\"NumOfDocs\"]\n",
    "df_word_f.index.name = \"Word\"\n",
    "print(df_word_f.head(10))\n",
    "print(df_word_f.shape)"
   ]
  },
  {
   "cell_type": "code",
   "execution_count": 19,
   "metadata": {},
   "outputs": [
    {
     "data": {
      "image/png": "[encoded data removed]",
      "text/plain": [
       "<matplotlib.figure.Figure at 0x1a1b50f390>"
      ]
     },
     "metadata": {},
     "output_type": "display_data"
    }
   ],
   "source": [
    "# lets draw cumulative density function\n",
    "x = np.sort(df_word_f[\"NumOfDocs\"])\n",
    "y= np.arange(1,len(x)+1)*100/len(x)\n",
    "plt.plot(x,y,marker='.',linestyle='none')\n",
    "plt.xlim(-1,500)\n",
    "plt.xlabel(\"Number of docs that words appear in\")\n",
    "plt.ylabel(\"Words (%) in <= 'x' docs\")\n",
    "plt.show()"
   ]
  },
  {
   "cell_type": "markdown",
   "metadata": {},
   "source": [
    "<div class=\"alert alert-success\">\n",
    "From the chart above we can see that min_df(point of steep curve) is very close to 0 and max_df(point of start of plateau) close to 100 or 0.006 (=100/15561 when float).\n",
    "</div>"
   ]
  },
  {
   "cell_type": "markdown",
   "metadata": {},
   "source": [
    "The parameter $\\alpha$ is chosen to be a small value that simply avoids having zeros in the probability computations. This value can sometimes be chosen arbitrarily with domain expertise, but we will use K-fold cross validation. In K-fold cross-validation, we divide the data into $K$ non-overlapping parts. We train on $K-1$ of the folds and test on the remaining fold. We then iterate, so that each fold serves as the test fold exactly once. The function `cv_score` performs the K-fold cross-validation algorithm for us, but we need to pass a function that measures the performance of the algorithm on each fold. "
   ]
  },
  {
   "cell_type": "code",
   "execution_count": 20,
   "metadata": {
    "collapsed": true
   },
   "outputs": [],
   "source": [
    "from sklearn.model_selection import KFold\n",
    "def cv_score(clf, X, y, scorefunc):\n",
    "    result = 0.\n",
    "    nfold = 5\n",
    "    for train, test in KFold(nfold).split(X): # split data into train/test groups, 5 times\n",
    "        clf.fit(X[train], y[train]) # fit the classifier, passed is as clf.\n",
    "        result += scorefunc(clf, X[test], y[test]) # evaluate score function on held-out data\n",
    "    return result / nfold # average"
   ]
  },
  {
   "cell_type": "markdown",
   "metadata": {},
   "source": [
    "We use the log-likelihood as the score here in `scorefunc`. The higher the log-likelihood, the better. Indeed, what we do in `cv_score` above is to implement the cross-validation part of `GridSearchCV`.\n",
    "\n",
    "The custom scoring function `scorefunc` allows us to use different metrics depending on the decision risk we care about (precision, accuracy, profit etc.) directly on the validation set. You will often find people using `roc_auc`, precision, recall, or `F1-score` as the scoring function."
   ]
  },
  {
   "cell_type": "code",
   "execution_count": 21,
   "metadata": {
    "collapsed": true
   },
   "outputs": [],
   "source": [
    "def log_likelihood(clf, x, y):\n",
    "    prob = clf.predict_log_proba(x)\n",
    "    rotten = y == 0\n",
    "    fresh = ~rotten\n",
    "    return prob[rotten, 0].sum() + prob[fresh, 1].sum()"
   ]
  },
  {
   "cell_type": "markdown",
   "metadata": {},
   "source": [
    "We'll cross-validate over the regularization parameter $\\alpha$."
   ]
  },
  {
   "cell_type": "markdown",
   "metadata": {},
   "source": [
    "Let's set up the train and test masks first, and then we can run the cross-validation procedure."
   ]
  },
  {
   "cell_type": "code",
   "execution_count": 22,
   "metadata": {},
   "outputs": [
    {
     "name": "stderr",
     "output_type": "stream",
     "text": [
      "/anaconda3/lib/python3.6/site-packages/sklearn/model_selection/_split.py:2010: FutureWarning: From version 0.21, test_size will always complement train_size unless both are specified.\n",
      "  FutureWarning)\n"
     ]
    }
   ],
   "source": [
    "from sklearn.model_selection import train_test_split\n",
    "_, itest = train_test_split(range(critics.shape[0]), train_size=0.7)\n",
    "mask = np.zeros(critics.shape[0], dtype=np.bool)\n",
    "mask[itest] = True"
   ]
  },
  {
   "cell_type": "markdown",
   "metadata": {},
   "source": [
    "<div class=\"span5 alert alert-info\">\n",
    "<h3>Exercise Set IV</h3>\n",
    "\n",
    "<p><b>Exercise:</b> What does using the function `log_likelihood` as the score mean? What are we trying to optimize for?</p>\n",
    "\n",
    "<p><b>Exercise:</b> Without writing any code, what do you think would happen if you choose a value of $\\alpha$ that is too high?</p>\n",
    "\n",
    "<p><b>Exercise:</b> Using the skeleton code below, find the best values of the parameter `alpha`, and use the value of `min_df` you chose in the previous exercise set. Use the `cv_score` function above with the `log_likelihood` function for scoring.</p>\n",
    "</div>"
   ]
  },
  {
   "cell_type": "markdown",
   "metadata": {},
   "source": [
    "<div class=\"alert alert-success\">\n",
    "We are trying to maximize the probabilities. For example there might be 2 models that accurately predicts a particular class for a given input data, but we would prefer the model that gave higher probability for that class.\n",
    "\n",
    "<p>\n",
    "<p>\n",
    "α is a hyper-parameter to smoothen the model so that it does not overfit and also to avoid chances of 0 probabilities in calculations. Higher values of α might result in too much smoothening and thus affecting the accuracy of the result. We can empirically find optimum value for α.\n",
    "\n",
    "</div>"
   ]
  },
  {
   "cell_type": "code",
   "execution_count": 23,
   "metadata": {},
   "outputs": [
    {
     "name": "stdout",
     "output_type": "stream",
     "text": [
      "score: -983.1589326329752 ,alpha: 0.1, min_df: 1e-05\n",
      "score: -983.1589326329752 ,alpha: 0.1, min_df: 3e-05\n",
      "score: -983.2702137723361 ,alpha: 0.1, min_df: 0.0001\n",
      "score: -933.2886541934846 ,alpha: 0.1, min_df: 0.0003\n",
      "score: -714.7887508861971 ,alpha: 0.1, min_df: 0.001\n",
      "score: -610.8766194532847 ,alpha: 0.1, min_df: 0.003\n",
      "score: -604.985333383392 ,alpha: 0.1, min_df: 0.005\n",
      "score: -740.6964906940746 ,alpha: 1, min_df: 1e-05\n",
      "score: -740.6964906940746 ,alpha: 1, min_df: 3e-05\n",
      "score: -638.8466928241555 ,alpha: 1, min_df: 0.0001\n",
      "score: -608.2608213673284 ,alpha: 1, min_df: 0.0003\n",
      "score: -581.546694742058 ,alpha: 1, min_df: 0.001\n",
      "score: -587.6104758134856 ,alpha: 1, min_df: 0.003\n",
      "score: -596.7026024422179 ,alpha: 1, min_df: 0.005\n",
      "score: -1284.9505605527904 ,alpha: 5, min_df: 1e-05\n",
      "score: -1284.9505605527904 ,alpha: 5, min_df: 3e-05\n",
      "score: -1018.6064895229049 ,alpha: 5, min_df: 0.0001\n",
      "score: -726.351368948376 ,alpha: 5, min_df: 0.0003\n",
      "score: -557.7748833856315 ,alpha: 5, min_df: 0.001\n",
      "score: -565.3567720245599 ,alpha: 5, min_df: 0.003\n",
      "score: -583.9142278036946 ,alpha: 5, min_df: 0.005\n",
      "score: -1443.1278831967143 ,alpha: 10, min_df: 1e-05\n",
      "score: -1443.1278831967143 ,alpha: 10, min_df: 3e-05\n",
      "score: -1244.8647524246055 ,alpha: 10, min_df: 0.0001\n",
      "score: -951.2400889272158 ,alpha: 10, min_df: 0.0003\n",
      "score: -638.339367078284 ,alpha: 10, min_df: 0.001\n",
      "score: -570.737319409954 ,alpha: 10, min_df: 0.003\n",
      "score: -581.5466274657094 ,alpha: 10, min_df: 0.005\n",
      "score: -1397.2146474466313 ,alpha: 50, min_df: 1e-05\n",
      "score: -1397.2146474466313 ,alpha: 50, min_df: 3e-05\n",
      "score: -1342.588556701124 ,alpha: 50, min_df: 0.0001\n",
      "score: -1235.7791596347165 ,alpha: 50, min_df: 0.0003\n",
      "score: -1007.2944354520794 ,alpha: 50, min_df: 0.001\n",
      "score: -764.5687388476903 ,alpha: 50, min_df: 0.003\n",
      "score: -680.2125389734532 ,alpha: 50, min_df: 0.005\n"
     ]
    }
   ],
   "source": [
    "from sklearn.naive_bayes import MultinomialNB\n",
    "\n",
    "#the grid of parameters to search over\n",
    "alphas = [.1, 1, 5, 10, 50]\n",
    "min_dfs = [0.00001, 0.00003, 0.0001, 0.0003, 0.001, 0.003, 0.005]\n",
    "best_min_df = None # YOUR TURN: put your value of min_df here.\n",
    "\n",
    "#Find the best value for alpha and min_df, and the best classifier\n",
    "best_alpha = None\n",
    "maxscore=-np.inf\n",
    "for alpha in alphas:\n",
    "    for min_df in min_dfs:\n",
    "        vectorizer = CountVectorizer(min_df=min_df)       \n",
    "        Xthis, ythis = make_xy(critics, vectorizer)\n",
    "        Xtrainthis = Xthis[mask]\n",
    "        ytrainthis = ythis[mask]\n",
    "        # your turn\n",
    "        curr_score = cv_score(MultinomialNB(alpha=alpha),Xtrainthis,ytrainthis,log_likelihood)\n",
    "        print(\"score: {} ,alpha: {}, min_df: {}\".format(curr_score,alpha,min_df))\n",
    "        if maxscore <  curr_score:\n",
    "            maxscore = curr_score\n",
    "            best_alpha = alpha\n",
    "            best_min_df = min_df\n",
    "        "
   ]
  },
  {
   "cell_type": "code",
   "execution_count": 24,
   "metadata": {},
   "outputs": [
    {
     "name": "stdout",
     "output_type": "stream",
     "text": [
      "best alpha: 5\n",
      "best min_df: 0.001\n",
      "max score: -557.7748833856315\n"
     ]
    }
   ],
   "source": [
    "print(\"best alpha: {}\".format(best_alpha))\n",
    "print(\"best min_df: {}\".format(best_min_df))\n",
    "print(\"max score: {}\".format(maxscore))"
   ]
  },
  {
   "cell_type": "markdown",
   "metadata": {},
   "source": [
    "<div class=\"span5 alert alert-info\">\n",
    "<h3>Exercise Set V: Working with the Best Parameters</h3>\n",
    "\n",
    "<p><b>Exercise:</b> Using the best value of  `alpha` you just found, calculate the accuracy on the training and test sets. Is this classifier better? Why (not)?</p>\n",
    "\n",
    "</div>"
   ]
  },
  {
   "cell_type": "code",
   "execution_count": 25,
   "metadata": {},
   "outputs": [
    {
     "name": "stdout",
     "output_type": "stream",
     "text": [
      "Accuracy on training data: 0.746627\n",
      "Accuracy on test data:     0.692802\n"
     ]
    }
   ],
   "source": [
    "vectorizer = CountVectorizer(min_df=0.003)\n",
    "X, y = make_xy(critics, vectorizer)\n",
    "xtrain=X[mask]\n",
    "ytrain=y[mask]\n",
    "xtest=X[~mask]\n",
    "ytest=y[~mask]\n",
    "\n",
    "clf = MultinomialNB(alpha=5).fit(xtrain, ytrain)\n",
    "\n",
    "#your turn. Print the accuracy on the test and training dataset\n",
    "training_accuracy = clf.score(xtrain, ytrain)\n",
    "test_accuracy = clf.score(xtest, ytest)\n",
    "\n",
    "print(\"Accuracy on training data: {:2f}\".format(training_accuracy))\n",
    "print(\"Accuracy on test data:     {:2f}\".format(test_accuracy))"
   ]
  },
  {
   "cell_type": "code",
   "execution_count": 26,
   "metadata": {},
   "outputs": [
    {
     "name": "stdout",
     "output_type": "stream",
     "text": [
      "[[2076 2179]\n",
      " [1167 5470]]\n"
     ]
    }
   ],
   "source": [
    "from sklearn.metrics import confusion_matrix\n",
    "print(confusion_matrix(ytest, clf.predict(xtest)))"
   ]
  },
  {
   "cell_type": "markdown",
   "metadata": {},
   "source": [
    "<div class=\"alert alert-success\">\n",
    "Yes. The accuracy of this classifier is less. But still it is a better classifier because it doesn't overfit the data as much. We found the best hyper-parameters. And there is less gap in train and test accuracies.\n",
    "</div>\n"
   ]
  },
  {
   "cell_type": "markdown",
   "metadata": {},
   "source": [
    "## Interpretation"
   ]
  },
  {
   "cell_type": "markdown",
   "metadata": {},
   "source": [
    "### What are the strongly predictive features?\n",
    "\n",
    "We use a neat trick to identify strongly predictive features (i.e. words). \n",
    "\n",
    "* first, create a data set such that each row has exactly one feature. This is represented by the identity matrix.\n",
    "* use the trained classifier to make predictions on this matrix\n",
    "* sort the rows by predicted probabilities, and pick the top and bottom $K$ rows"
   ]
  },
  {
   "cell_type": "code",
   "execution_count": 27,
   "metadata": {},
   "outputs": [
    {
     "name": "stdout",
     "output_type": "stream",
     "text": [
      "Good words\t     P(fresh | word)\n",
      "        entertaining 0.85\n",
      "         intelligent 0.85\n",
      "            powerful 0.84\n",
      "               smart 0.83\n",
      "         masterpiece 0.83\n",
      "         performance 0.82\n",
      "                ever 0.81\n",
      "           hilarious 0.81\n",
      "               witty 0.81\n",
      "            touching 0.81\n",
      "Bad words\t     P(fresh | word)\n",
      "                  tv 0.31\n",
      "               lacks 0.31\n",
      "             obvious 0.31\n",
      "                 bad 0.31\n",
      "                 nor 0.31\n",
      "               fails 0.30\n",
      "               worst 0.30\n",
      "                dull 0.27\n",
      "               video 0.27\n",
      "       unfortunately 0.24\n"
     ]
    }
   ],
   "source": [
    "words = np.array(vectorizer.get_feature_names())\n",
    "\n",
    "x = np.eye(xtest.shape[1])\n",
    "probs = clf.predict_log_proba(x)[:, 0]\n",
    "ind = np.argsort(probs)\n",
    "\n",
    "good_words = words[ind[:10]]\n",
    "bad_words = words[ind[-10:]]\n",
    "\n",
    "good_prob = probs[ind[:10]]\n",
    "bad_prob = probs[ind[-10:]]\n",
    "\n",
    "print(\"Good words\\t     P(fresh | word)\")\n",
    "for w, p in zip(good_words, good_prob):\n",
    "    print(\"{:>20}\".format(w), \"{:.2f}\".format(1 - np.exp(p)))\n",
    "    \n",
    "print(\"Bad words\\t     P(fresh | word)\")\n",
    "for w, p in zip(bad_words, bad_prob):\n",
    "    print(\"{:>20}\".format(w), \"{:.2f}\".format(1 - np.exp(p)))"
   ]
  },
  {
   "cell_type": "markdown",
   "metadata": {},
   "source": [
    "<div class=\"span5 alert alert-info\">\n",
    "<h3>Exercise Set VI</h3>\n",
    "\n",
    "<p><b>Exercise:</b> Why does this method work? What does the probability for each row in the identity matrix represent</p>\n",
    "\n",
    "</div>"
   ]
  },
  {
   "cell_type": "markdown",
   "metadata": {},
   "source": [
    "<div class=\"alert alert-success\">\n",
    "Only one \"1\" and all \"0\"s in each row means only having one word in the documents. And the probability for that row would mean the probability of that single word document and that decides the fresh vs rotten classification. This method works but individual words contribute for the overall classification of the document.\n",
    "</div>"
   ]
  },
  {
   "cell_type": "markdown",
   "metadata": {},
   "source": [
    "The above exercise is an example of *feature selection*. There are many other feature selection methods. A list of feature selection methods available in `sklearn` is [here](http://scikit-learn.org/stable/modules/classes.html#module-sklearn.feature_selection). The most common feature selection technique for text mining is the chi-squared $\\left( \\chi^2 \\right)$ [method](http://nlp.stanford.edu/IR-book/html/htmledition/feature-selectionchi2-feature-selection-1.html)."
   ]
  },
  {
   "cell_type": "markdown",
   "metadata": {},
   "source": [
    "### Prediction Errors\n",
    "\n",
    "We can see mis-predictions as well."
   ]
  },
  {
   "cell_type": "code",
   "execution_count": 28,
   "metadata": {},
   "outputs": [
    {
     "name": "stdout",
     "output_type": "stream",
     "text": [
      "Mis-predicted Rotten quotes\n",
      "---------------------------\n",
      "For all the pleasure there is in seeing effective, great-looking black women grappling with major life issues on screen, Waiting to Exhale is an uneven piece.\n",
      "\n",
      "Despite great scenery, the distinctive visual ideas of Mr. Scott (Alien, Blade Runner) and the strong dramatic presence of Mr. Bridges, most of White Squall remains listless and tame.\n",
      "\n",
      "Though based on an original and respected novel, Hyams' horror thriller comes across as a pastiche of the genre's conventions as evident in major pictures of the past two decades, such as Jaws and the first two Alien films.\n",
      "\n",
      "The hip, smart yarn has a bite not seen in American movies since The War of the Roses.\n",
      "\n",
      "It is sometimes funny in a puzzling kind of way, it is generally overwrought in an irritating kind of way, and once in a while it is inappropriately touching.\n",
      "\n",
      "Mis-predicted Fresh quotes\n",
      "--------------------------\n",
      "Though it's a good half hour too long, this overblown 1993 spin-off of the 60s TV show otherwise adds up to a pretty good suspense thriller.\n",
      "\n",
      "Dead Man Walking could easily be manipulative or exploitative, but it's neither. Instead, this is hard-hitting drama that neither accepts nor offers quarter.\n",
      "\n",
      "This tough-to-peg whodunit keeps you going for two hours, despite a few James Bond-ish (or Jane Bond-ish) turns that play less preposterously than you might assume were they to be divulged.\n",
      "\n",
      "It could prove to be as bad a date movie for some couples as it might be a real turn-on for others. Anyone with set ideas about sex roles or orientations is likely to get steamed.\n",
      "\n",
      "The gangland plot is flimsy (bad guy Peter Greene wears too much eyeliner), and the jokes are erratic, but it's a far better showcase for Carrey's comic-from-Uranus talent than Ace Ventura.\n",
      "\n"
     ]
    }
   ],
   "source": [
    "x, y = make_xy(critics, vectorizer)\n",
    "\n",
    "prob = clf.predict_proba(x)[:, 0]\n",
    "predict = clf.predict(x)\n",
    "\n",
    "bad_rotten = np.argsort(prob[y == 0])[:5]\n",
    "bad_fresh = np.argsort(prob[y == 1])[-5:]\n",
    "\n",
    "print(\"Mis-predicted Rotten quotes\")\n",
    "print('---------------------------')\n",
    "for row in bad_rotten:\n",
    "    print(critics[y == 0].quote.iloc[row])\n",
    "    print(\"\")\n",
    "\n",
    "print(\"Mis-predicted Fresh quotes\")\n",
    "print('--------------------------')\n",
    "for row in bad_fresh:\n",
    "    print(critics[y == 1].quote.iloc[row])\n",
    "    print(\"\")"
   ]
  },
  {
   "cell_type": "markdown",
   "metadata": {},
   "source": [
    "<div class=\"span5 alert alert-info\">\n",
    "<h3>Exercise Set VII: Predicting the Freshness for a New Review</h3>\n",
    "<br/>\n",
    "<div>\n",
    "<b>Exercise:</b>\n",
    "<ul>\n",
    "<li> Using your best trained classifier, predict the freshness of the following sentence: *'This movie is not remarkable, touching, or superb in any way'*\n",
    "<li> Is the result what you'd expect? Why (not)?\n",
    "</ul>\n",
    "</div>\n",
    "</div>"
   ]
  },
  {
   "cell_type": "code",
   "execution_count": 29,
   "metadata": {},
   "outputs": [
    {
     "data": {
      "text/plain": [
       "1"
      ]
     },
     "execution_count": 29,
     "metadata": {},
     "output_type": "execute_result"
    }
   ],
   "source": [
    "#your turn\n",
    "x = vectorizer.transform([\"This movie is not remarkable, touching, or superb in any way\"])\n",
    "\n",
    "y_pred = clf.predict(x)\n",
    "y_pred[0]"
   ]
  },
  {
   "cell_type": "markdown",
   "metadata": {},
   "source": [
    "<div class=\"alert alert-success\">\n",
    "It should have been predicted as rotten but instead is predicted as fresh. The reason for wrong classification is that there are lot of positive words and our classifier looks at each word and combine the probabilities to predict fresh vs rotten.\n",
    "</div>"
   ]
  },
  {
   "cell_type": "markdown",
   "metadata": {},
   "source": [
    "### Aside: TF-IDF Weighting for Term Importance\n",
    "\n",
    "TF-IDF stands for \n",
    "\n",
    "`Term-Frequency X Inverse Document Frequency`.\n",
    "\n",
    "In the standard `CountVectorizer` model above, we used just the term frequency in a document of words in our vocabulary. In TF-IDF, we weight this term frequency by the inverse of its popularity in all documents. For example, if the word \"movie\" showed up in all the documents, it would not have much predictive value. It could actually be considered a stopword. By weighing its counts by 1 divided by its overall frequency, we downweight it. We can then use this TF-IDF weighted features as inputs to any classifier. **TF-IDF is essentially a measure of term importance, and of how discriminative a word is in a corpus.** There are a variety of nuances involved in computing TF-IDF, mainly involving where to add the smoothing term to avoid division by 0, or log of 0 errors. The formula for TF-IDF in `scikit-learn` differs from that of most textbooks: \n",
    "\n",
    "$$\\mbox{TF-IDF}(t, d) = \\mbox{TF}(t, d)\\times \\mbox{IDF}(t) = n_{td} \\log{\\left( \\frac{\\vert D \\vert}{\\vert d : t \\in d \\vert} + 1 \\right)}$$\n",
    "\n",
    "where $n_{td}$ is the number of times term $t$ occurs in document $d$, $\\vert D \\vert$ is the number of documents, and $\\vert d : t \\in d \\vert$ is the number of documents that contain $t$"
   ]
  },
  {
   "cell_type": "code",
   "execution_count": 16,
   "metadata": {},
   "outputs": [
    {
     "name": "stderr",
     "output_type": "stream",
     "text": [
      "/anaconda3/lib/python3.6/site-packages/sklearn/feature_extraction/text.py:1089: FutureWarning: Conversion of the second argument of issubdtype from `float` to `np.floating` is deprecated. In future, it will be treated as `np.float64 == np.dtype(float).type`.\n",
      "  if hasattr(X, 'dtype') and np.issubdtype(X.dtype, np.float):\n"
     ]
    }
   ],
   "source": [
    "# http://scikit-learn.org/dev/modules/feature_extraction.html#text-feature-extraction\n",
    "# http://scikit-learn.org/dev/modules/classes.html#text-feature-extraction-ref\n",
    "from sklearn.feature_extraction.text import TfidfVectorizer\n",
    "tfidfvectorizer = TfidfVectorizer(min_df=1, stop_words='english')\n",
    "Xtfidf=tfidfvectorizer.fit_transform(critics.quote)"
   ]
  },
  {
   "cell_type": "markdown",
   "metadata": {},
   "source": [
    "<div class=\"span5 alert alert-info\">\n",
    "<h3>Exercise Set VIII: Enrichment <b>(Optional)</b></h3>\n",
    "\n",
    "<p>\n",
    "There are several additional things we could try. Try some of these as exercises:\n",
    "<ol>\n",
    "<li> Build a Naive Bayes model where the features are n-grams instead of words. N-grams are phrases containing n words next to each other: a bigram contains 2 words, a trigram contains 3 words, and 6-gram contains 6 words. This is useful because \"not good\" and \"so good\" mean very different things. On the other hand, as n increases, the model does not scale well since the feature set becomes more sparse.\n",
    "<li> Try a model besides Naive Bayes, one that would allow for interactions between words -- for example, a Random Forest classifier.\n",
    "<li> Try adding supplemental features -- information about genre, director, cast, etc.\n",
    "<li> Use word2vec or [Latent Dirichlet Allocation](https://en.wikipedia.org/wiki/Latent_Dirichlet_allocation) to group words into topics and use those topics for prediction.\n",
    "<li> Use TF-IDF weighting instead of word counts.\n",
    "</ol>\n",
    "</p>\n",
    "\n",
    "<b>Exercise:</b> Try at least one of these ideas to improve the model (or any other ideas of your own). Implement here and report on the result. \n",
    "</div>"
   ]
  },
  {
   "cell_type": "markdown",
   "metadata": {},
   "source": [
    "<div class=\"alert alert-success\">\n",
    "Naive Bayes with bigrams\n",
    "</div>"
   ]
  },
  {
   "cell_type": "code",
   "execution_count": 31,
   "metadata": {},
   "outputs": [
    {
     "name": "stdout",
     "output_type": "stream",
     "text": [
      "      NumOfDocs\n",
      "Word           \n",
      "0             8\n",
      "1             1\n",
      "2             1\n",
      "3             2\n",
      "4             1\n",
      "5             1\n",
      "6             1\n",
      "7             1\n",
      "8             1\n",
      "9             1\n",
      "(174822, 1)\n"
     ]
    }
   ],
   "source": [
    "X_hp,y = make_xy(critics_df,CountVectorizer(ngram_range=(1,2)))\n",
    "bigram_df = pd.DataFrame(data=(X_hp.sum(axis=0).transpose()).A[:,0])\n",
    "\n",
    "# index is the words list and column (NumOfDocs) have the number of docs the index word is present in\n",
    "bigram_df.columns = [\"NumOfDocs\"]\n",
    "bigram_df.index.name = \"Word\"\n",
    "print(bigram_df.head(10))\n",
    "print(bigram_df.shape)"
   ]
  },
  {
   "cell_type": "code",
   "execution_count": 32,
   "metadata": {},
   "outputs": [
    {
     "data": {
      "image/png": "[encoded data removed]",
      "text/plain": [
       "<matplotlib.figure.Figure at 0x1a1b54ffd0>"
      ]
     },
     "metadata": {},
     "output_type": "display_data"
    }
   ],
   "source": [
    "# lets draw cumulative density function\n",
    "x = np.sort(bigram_df[\"NumOfDocs\"])\n",
    "y= np.arange(1,len(x)+1)*100/len(x)\n",
    "plt.plot(x,y,marker='.',linestyle='none')\n",
    "plt.xlim(-1,100)\n",
    "plt.xlabel(\"Number of docs that words appear in\")\n",
    "plt.ylabel(\"Bigrams (%) in <= 'x' docs\")\n",
    "plt.show()"
   ]
  },
  {
   "cell_type": "code",
   "execution_count": 33,
   "metadata": {
    "collapsed": true
   },
   "outputs": [],
   "source": [
    "def find_best_params(vctrzr, mnb):\n",
    "    #the grid of parameters to search over\n",
    "    alphas = [1,5,10,50]\n",
    "    ngrm_min_df = [0,0.00001,0.0001,0.001,0.003,0.005,0.01]\n",
    "    best_min_df = None\n",
    "\n",
    "    #Find the best value for alpha and min_df, and the best classifier\n",
    "    best_alpha = None\n",
    "    maxscore=-np.inf\n",
    "    for alpha in alphas:\n",
    "        for min_df in min_dfs:\n",
    "            vctrzr.min_df = min_df\n",
    "            Xthis, ythis = make_xy(critics, vctrzr)\n",
    "            Xtrainthis = Xthis[mask]\n",
    "            ytrainthis = ythis[mask]\n",
    "            mnb.alpha = alpha\n",
    "            curr_score = cv_score(mnb,Xtrainthis,ytrainthis,log_likelihood)\n",
    "            if maxscore <  curr_score:\n",
    "                maxscore = curr_score\n",
    "                best_alpha = alpha\n",
    "                best_min_df = min_df\n",
    "    print(\"best alpha: {}\".format(best_alpha))\n",
    "    print(\"best min_df: {}\".format(best_min_df))\n",
    "    return (best_min_df,best_alpha)"
   ]
  },
  {
   "cell_type": "code",
   "execution_count": 34,
   "metadata": {
    "collapsed": true
   },
   "outputs": [],
   "source": [
    "def find_good_bad_words(vctrzr,clfr):\n",
    "    words = np.array(vctrzr.get_feature_names())\n",
    "\n",
    "    x = np.eye(xtest.shape[1])\n",
    "    probs = clfr.predict_log_proba(x)[:, 0]\n",
    "    ind = np.argsort(probs)\n",
    "\n",
    "    good_words = words[ind[:10]]\n",
    "    bad_words = words[ind[-10:]]\n",
    "\n",
    "    good_prob = probs[ind[:10]]\n",
    "    bad_prob = probs[ind[-10:]]\n",
    "\n",
    "    print(\"Good words\\t     P(fresh | word)\")\n",
    "    for w, p in zip(good_words, good_prob):\n",
    "        print(\"{:>20}\".format(w), \"{:.2f}\".format(1 - np.exp(p)))\n",
    "\n",
    "    print(\"Bad words\\t     P(fresh | word)\")\n",
    "    for w, p in zip(bad_words, bad_prob):\n",
    "        print(\"{:>20}\".format(w), \"{:.2f}\".format(1 - np.exp(p)))"
   ]
  },
  {
   "cell_type": "code",
   "execution_count": 35,
   "metadata": {},
   "outputs": [
    {
     "name": "stdout",
     "output_type": "stream",
     "text": [
      "best alpha: 10\n",
      "best min_df: 0.003\n",
      "Accuracy on training data: 0.736774\n",
      "Accuracy on test data:     0.679673\n"
     ]
    }
   ],
   "source": [
    "# Your turn\n",
    "vectorizer = CountVectorizer(ngram_range=(1,2))\n",
    "(best_min_df,best_alpha) = find_best_params(vectorizer, MultinomialNB())\n",
    "\n",
    "vectorizer = CountVectorizer(min_df=best_min_df,ngram_range=(1,2))\n",
    "X, y = make_xy(critics, vectorizer)\n",
    "xtrain=X[mask]\n",
    "ytrain=y[mask]\n",
    "xtest=X[~mask]\n",
    "ytest=y[~mask]\n",
    "\n",
    "clf = MultinomialNB(alpha=best_alpha).fit(xtrain, ytrain)\n",
    "\n",
    "#your turn. Print the accuracy on the test and training dataset\n",
    "training_accuracy = clf.score(xtrain, ytrain)\n",
    "test_accuracy = clf.score(xtest, ytest)\n",
    "\n",
    "print(\"Accuracy on training data: {:2f}\".format(training_accuracy))\n",
    "print(\"Accuracy on test data:     {:2f}\".format(test_accuracy))"
   ]
  },
  {
   "cell_type": "code",
   "execution_count": 36,
   "metadata": {},
   "outputs": [
    {
     "name": "stdout",
     "output_type": "stream",
     "text": [
      "Good words\t     P(fresh | word)\n",
      "        entertaining 0.82\n",
      "              one of 0.82\n",
      "            the most 0.80\n",
      "         intelligent 0.80\n",
      "         performance 0.80\n",
      "                ever 0.79\n",
      "            the best 0.79\n",
      "            american 0.78\n",
      "            powerful 0.78\n",
      "               smart 0.78\n",
      "Bad words\t     P(fresh | word)\n",
      "               fails 0.37\n",
      "             obvious 0.37\n",
      "               lacks 0.37\n",
      "                  tv 0.37\n",
      "               worst 0.36\n",
      "               feels 0.36\n",
      "                dull 0.34\n",
      "               video 0.34\n",
      "                 bad 0.34\n",
      "       unfortunately 0.32\n"
     ]
    }
   ],
   "source": [
    "find_good_bad_words(vectorizer,clf)"
   ]
  },
  {
   "cell_type": "markdown",
   "metadata": {},
   "source": [
    "<div class=\"alert alert-success\">\n",
    "Random Forest classifier\n",
    "</div>"
   ]
  },
  {
   "cell_type": "code",
   "execution_count": 37,
   "metadata": {},
   "outputs": [
    {
     "name": "stderr",
     "output_type": "stream",
     "text": [
      "/anaconda3/lib/python3.6/site-packages/sklearn/ensemble/weight_boosting.py:29: DeprecationWarning: numpy.core.umath_tests is an internal NumPy module and should not be imported. It will be removed in a future NumPy release.\n",
      "  from numpy.core.umath_tests import inner1d\n",
      "/anaconda3/lib/python3.6/site-packages/sklearn/cross_validation.py:41: DeprecationWarning: This module was deprecated in version 0.18 in favor of the model_selection module into which all the refactored classes and functions are moved. Also note that the interface of the new CV iterators are different from that of this module. This module will be removed in 0.20.\n",
      "  \"This module will be removed in 0.20.\", DeprecationWarning)\n",
      "/anaconda3/lib/python3.6/site-packages/sklearn/grid_search.py:42: DeprecationWarning: This module was deprecated in version 0.18 in favor of the model_selection module into which all the refactored classes and functions are moved. This module will be removed in 0.20.\n",
      "  DeprecationWarning)\n"
     ]
    },
    {
     "data": {
      "text/plain": [
       "GridSearchCV(cv=None, error_score='raise',\n",
       "       estimator=RandomForestClassifier(bootstrap=True, class_weight=None, criterion='gini',\n",
       "            max_depth=None, max_features='auto', max_leaf_nodes=None,\n",
       "            min_impurity_decrease=0.0, min_impurity_split=None,\n",
       "            min_samples_leaf=1, min_samples_split=2,\n",
       "            min_weight_fraction_leaf=0.0, n_estimators=10, n_jobs=1,\n",
       "            oob_score=False, random_state=None, verbose=0,\n",
       "            warm_start=False),\n",
       "       fit_params={}, iid=True, n_jobs=1,\n",
       "       param_grid={'max_depth': [10, 20, 30, 40, 50], 'max_features': ['auto', 'sqrt'], 'min_samples_leaf': [1, 2, 4], 'min_samples_split': [2, 5, 10], 'n_estimators': [10, 20, 50, 100]},\n",
       "       pre_dispatch='2*n_jobs', refit=True, scoring='accuracy', verbose=0)"
      ]
     },
     "execution_count": 37,
     "metadata": {},
     "output_type": "execute_result"
    }
   ],
   "source": [
    "from sklearn.ensemble import RandomForestClassifier\n",
    "from sklearn.grid_search import GridSearchCV\n",
    "\n",
    "rf = RandomForestClassifier()\n",
    "\n",
    "parameters = {\n",
    " 'max_depth': [10, 20, 30, 40, 50],\n",
    " 'max_features': ['auto', 'sqrt'],\n",
    " 'min_samples_leaf': [1, 2, 4],\n",
    " 'min_samples_split': [2, 5, 10],\n",
    " 'n_estimators': [10, 20, 50, 100]\n",
    "}\n",
    "\n",
    "fitmodel = GridSearchCV(rf, param_grid=parameters, scoring=\"accuracy\")\n",
    "\n",
    "fitmodel.fit(xtrain,ytrain)"
   ]
  },
  {
   "cell_type": "code",
   "execution_count": 38,
   "metadata": {},
   "outputs": [
    {
     "name": "stdout",
     "output_type": "stream",
     "text": [
      "Accuracy on training data: 0.896123\n",
      "Accuracy on test data:     0.669666\n"
     ]
    }
   ],
   "source": [
    "#your turn. Print the accuracy on the test and training dataset\n",
    "training_accuracy = fitmodel.best_estimator_.score(xtrain, ytrain)\n",
    "test_accuracy = fitmodel.best_estimator_.score(xtest, ytest)\n",
    "\n",
    "print(\"Accuracy on training data: {:2f}\".format(training_accuracy))\n",
    "print(\"Accuracy on test data:     {:2f}\".format(test_accuracy))"
   ]
  },
  {
   "cell_type": "markdown",
   "metadata": {},
   "source": [
    "<div class=\"alert alert-success\">\n",
    "Latent Dirichlet Allocation\n",
    "\n",
    "<p>\n",
    "<p>\n",
    "We will perform the following steps:\n",
    "<p>\n",
    "Tokenization- Split the text into sentences and the sentences into words. Lowercase the words and remove punctuation.\n",
    "Words that have fewer than 3 characters are removed.\n",
    "<p>\n",
    "All stopwords are removed.\n",
    "<p>\n",
    "Words are lemmatized — words in third person are changed to first person and verbs in past and future tenses are changed into present.\n",
    "<p>\n",
    "Words are stemmed — words are reduced to their root form.\n",
    "</div>"
   ]
  },
  {
   "cell_type": "code",
   "execution_count": 39,
   "metadata": {},
   "outputs": [
    {
     "name": "stderr",
     "output_type": "stream",
     "text": [
      "/anaconda3/lib/python3.6/importlib/_bootstrap.py:219: RuntimeWarning: numpy.dtype size changed, may indicate binary incompatibility. Expected 96, got 88\n",
      "  return f(*args, **kwds)\n"
     ]
    },
    {
     "name": "stdout",
     "output_type": "stream",
     "text": [
      "[nltk_data] Downloading package wordnet to\n",
      "[nltk_data]     /Users/nehajain/nltk_data...\n",
      "[nltk_data]   Package wordnet is already up-to-date!\n"
     ]
    },
    {
     "data": {
      "text/plain": [
       "True"
      ]
     },
     "execution_count": 39,
     "metadata": {},
     "output_type": "execute_result"
    }
   ],
   "source": [
    "import gensim\n",
    "from gensim.utils import simple_preprocess\n",
    "from gensim.parsing.preprocessing import STOPWORDS\n",
    "from nltk.stem import WordNetLemmatizer, SnowballStemmer\n",
    "from nltk.stem.porter import PorterStemmer\n",
    "import numpy as np\n",
    "np.random.seed(2018)\n",
    "import nltk\n",
    "nltk.download('wordnet')"
   ]
  },
  {
   "cell_type": "code",
   "execution_count": 40,
   "metadata": {
    "collapsed": true
   },
   "outputs": [],
   "source": [
    "stemmer = PorterStemmer()\n",
    "def lemmatize_stemming(text):\n",
    "    return stemmer.stem(WordNetLemmatizer().lemmatize(text, pos='v'))"
   ]
  },
  {
   "cell_type": "code",
   "execution_count": 41,
   "metadata": {
    "collapsed": true
   },
   "outputs": [],
   "source": [
    "def preprocess(text):\n",
    "    result = []\n",
    "    for token in gensim.utils.simple_preprocess(text):\n",
    "        if token not in gensim.parsing.preprocessing.STOPWORDS and len(token) > 3:\n",
    "            result.append(lemmatize_stemming(token))\n",
    "    return result"
   ]
  },
  {
   "cell_type": "code",
   "execution_count": 42,
   "metadata": {},
   "outputs": [
    {
     "name": "stdout",
     "output_type": "stream",
     "text": [
      "original document: \n",
      "How perfect that two of the most popular funny guys around, Tom Hanks and Tim Allen, speak for the lead boy-toys.\n",
      "\n",
      "\n",
      " tokenized and lemmatized document: \n",
      "['perfect', 'popular', 'funni', 'guy', 'hank', 'allen', 'speak', 'lead', 'toy']\n"
     ]
    }
   ],
   "source": [
    "doc_sample = critics.quote[10]\n",
    "print('original document: ')\n",
    "print(doc_sample)\n",
    "\n",
    "print('\\n\\n tokenized and lemmatized document: ')\n",
    "print(preprocess(doc_sample))"
   ]
  },
  {
   "cell_type": "code",
   "execution_count": 85,
   "metadata": {},
   "outputs": [
    {
     "data": {
      "text/plain": [
       "1     [ingeni, concept, design, execut, watch, posta...\n",
       "2                                [year, invent, comedi]\n",
       "3                         [win, anim, featur, spectrum]\n",
       "4     [film, sport, provoc, appeal, stori, equal, te...\n",
       "5     [entertain, gener, hyperrealist, anim, featur,...\n",
       "6     [lion, king, stori, reviv, american, children,...\n",
       "7     [film, probabl, fulli, appreci, adult, love, s...\n",
       "8     [children, enjoy, irresist, idea, toy, come, l...\n",
       "9     [gener, imageri, impress, major, surpris, brig...\n",
       "10    [perfect, popular, funni, guy, hank, allen, sp...\n",
       "Name: quote, dtype: object"
      ]
     },
     "execution_count": 85,
     "metadata": {},
     "output_type": "execute_result"
    }
   ],
   "source": [
    "processed_docs = critics.quote.map(preprocess)\n",
    "processed_docs[:10]"
   ]
  },
  {
   "cell_type": "code",
   "execution_count": 86,
   "metadata": {},
   "outputs": [
    {
     "data": {
      "text/plain": [
       "15561"
      ]
     },
     "execution_count": 86,
     "metadata": {},
     "output_type": "execute_result"
    }
   ],
   "source": [
    "processed_docs.size"
   ]
  },
  {
   "cell_type": "code",
   "execution_count": 65,
   "metadata": {},
   "outputs": [
    {
     "data": {
      "text/plain": [
       "<gensim.corpora.dictionary.Dictionary at 0x1a3365bef0>"
      ]
     },
     "execution_count": 65,
     "metadata": {},
     "output_type": "execute_result"
    }
   ],
   "source": [
    "dictionary = gensim.corpora.Dictionary(processed_docs)\n",
    "dictionary"
   ]
  },
  {
   "cell_type": "code",
   "execution_count": 83,
   "metadata": {},
   "outputs": [
    {
     "data": {
      "text/plain": [
       "1875"
      ]
     },
     "execution_count": 83,
     "metadata": {},
     "output_type": "execute_result"
    }
   ],
   "source": [
    "len(dictionary.keys())"
   ]
  },
  {
   "cell_type": "code",
   "execution_count": 45,
   "metadata": {},
   "outputs": [
    {
     "data": {
      "text/plain": [
       "{0: 'charm',\n",
       " 1: 'concept',\n",
       " 2: 'design',\n",
       " 3: 'engulf',\n",
       " 4: 'execut',\n",
       " 5: 'ingeni',\n",
       " 6: 'postag',\n",
       " 7: 'screen',\n",
       " 8: 'size',\n",
       " 9: 'stamp'}"
      ]
     },
     "execution_count": 45,
     "metadata": {},
     "output_type": "execute_result"
    }
   ],
   "source": [
    "{key:dictionary.get(key) for key in dictionary.keys()[0:10]}"
   ]
  },
  {
   "cell_type": "code",
   "execution_count": 77,
   "metadata": {
    "collapsed": true
   },
   "outputs": [],
   "source": [
    "dictionary.filter_extremes(no_below=15, no_above=0.5)"
   ]
  },
  {
   "cell_type": "code",
   "execution_count": 78,
   "metadata": {
    "collapsed": true
   },
   "outputs": [],
   "source": [
    "#to remove movie and film words\n",
    "dictionary.filter_n_most_frequent(2)"
   ]
  },
  {
   "cell_type": "code",
   "execution_count": 79,
   "metadata": {
    "collapsed": true
   },
   "outputs": [],
   "source": [
    "bow_corpus = [dictionary.doc2bow(doc) for doc in processed_docs]"
   ]
  },
  {
   "cell_type": "code",
   "execution_count": 80,
   "metadata": {},
   "outputs": [
    {
     "data": {
      "text/plain": [
       "[(11, 1), (12, 1), (13, 1)]"
      ]
     },
     "execution_count": 80,
     "metadata": {},
     "output_type": "execute_result"
    }
   ],
   "source": [
    "bow_corpus[2]"
   ]
  },
  {
   "cell_type": "code",
   "execution_count": 81,
   "metadata": {
    "collapsed": true
   },
   "outputs": [],
   "source": [
    "lda_model = gensim.models.LdaModel(bow_corpus, num_topics=10, id2word=dictionary, passes=2)"
   ]
  },
  {
   "cell_type": "code",
   "execution_count": 95,
   "metadata": {},
   "outputs": [
    {
     "data": {
      "text/plain": [
       "['0.018*\"anim\" + 0.018*\"music\" + 0.016*\"like\" + 0.015*\"think\" + 0.013*\"great\" + 0.012*\"know\" + 0.011*\"best\" + 0.011*\"peopl\" + 0.010*\"effort\" + 0.010*\"charact\"',\n",
       " '0.027*\"effect\" + 0.013*\"action\" + 0.013*\"gener\" + 0.012*\"special\" + 0.011*\"comedi\" + 0.010*\"laugh\" + 0.009*\"fall\" + 0.008*\"high\" + 0.008*\"teen\" + 0.008*\"spirit\"',\n",
       " '0.028*\"time\" + 0.015*\"mean\" + 0.014*\"end\" + 0.013*\"best\" + 0.011*\"perform\" + 0.010*\"like\" + 0.010*\"especi\" + 0.009*\"right\" + 0.009*\"long\" + 0.009*\"brilliant\"',\n",
       " '0.020*\"director\" + 0.015*\"screen\" + 0.014*\"hour\" + 0.012*\"see\" + 0.010*\"like\" + 0.010*\"stuff\" + 0.009*\"half\" + 0.009*\"minut\" + 0.009*\"narr\" + 0.008*\"good\"',\n",
       " '0.028*\"direct\" + 0.020*\"littl\" + 0.018*\"play\" + 0.015*\"stori\" + 0.015*\"enjoy\" + 0.015*\"write\" + 0.013*\"act\" + 0.013*\"plot\" + 0.011*\"talent\" + 0.010*\"script\"',\n",
       " '0.033*\"comedi\" + 0.031*\"funni\" + 0.015*\"romant\" + 0.015*\"entertain\" + 0.014*\"best\" + 0.012*\"sens\" + 0.011*\"year\" + 0.011*\"delight\" + 0.011*\"like\" + 0.010*\"look\"',\n",
       " '0.012*\"lose\" + 0.010*\"stori\" + 0.010*\"charact\" + 0.009*\"origin\" + 0.009*\"imagin\" + 0.008*\"life\" + 0.008*\"power\" + 0.008*\"american\" + 0.008*\"sequel\" + 0.008*\"head\"',\n",
       " '0.029*\"charact\" + 0.015*\"time\" + 0.011*\"formula\" + 0.010*\"seri\" + 0.010*\"compel\" + 0.009*\"stori\" + 0.008*\"sentiment\" + 0.008*\"titl\" + 0.008*\"good\" + 0.008*\"like\"',\n",
       " '0.023*\"good\" + 0.023*\"work\" + 0.015*\"feel\" + 0.015*\"like\" + 0.010*\"star\" + 0.009*\"reason\" + 0.009*\"perform\" + 0.009*\"look\" + 0.008*\"rare\" + 0.008*\"intellig\"']"
      ]
     },
     "execution_count": 95,
     "metadata": {},
     "output_type": "execute_result"
    }
   ],
   "source": [
    "[lda_model.print_topic(i) for i in range(1,10)]"
   ]
  },
  {
   "cell_type": "code",
   "execution_count": 89,
   "metadata": {},
   "outputs": [
    {
     "data": {
      "text/plain": [
       "1875"
      ]
     },
     "execution_count": 89,
     "metadata": {},
     "output_type": "execute_result"
    }
   ],
   "source": [
    "lda_model.num_terms"
   ]
  },
  {
   "cell_type": "code",
   "execution_count": 90,
   "metadata": {},
   "outputs": [
    {
     "data": {
      "text/plain": [
       "15561"
      ]
     },
     "execution_count": 90,
     "metadata": {},
     "output_type": "execute_result"
    }
   ],
   "source": [
    "len(bow_corpus)"
   ]
  },
  {
   "cell_type": "code",
   "execution_count": 100,
   "metadata": {},
   "outputs": [
    {
     "data": {
      "text/plain": [
       "[(0, 0.02500105),\n",
       " (1, 0.025000814),\n",
       " (2, 0.024999997),\n",
       " (3, 0.7749653),\n",
       " (4, 0.025001315),\n",
       " (5, 0.025002576),\n",
       " (6, 0.025003277),\n",
       " (7, 0.025000444),\n",
       " (8, 0.025019342),\n",
       " (9, 0.025005814)]"
      ]
     },
     "execution_count": 100,
     "metadata": {},
     "output_type": "execute_result"
    }
   ],
   "source": [
    "lda_model.get_document_topics(bow_corpus[10])"
   ]
  },
  {
   "cell_type": "code",
   "execution_count": 99,
   "metadata": {},
   "outputs": [
    {
     "data": {
      "text/plain": [
       "['perfect', 'popular', 'funni', 'guy', 'hank', 'allen', 'speak', 'lead', 'toy']"
      ]
     },
     "execution_count": 99,
     "metadata": {},
     "output_type": "execute_result"
    }
   ],
   "source": [
    "processed_docs[10]"
   ]
  },
  {
   "cell_type": "code",
   "execution_count": 109,
   "metadata": {
    "collapsed": true
   },
   "outputs": [],
   "source": [
    "x = [[topic[1] for topic in lda_model.get_document_topics(item)] for item in bow_corpus]"
   ]
  },
  {
   "cell_type": "code",
   "execution_count": 117,
   "metadata": {
    "collapsed": true
   },
   "outputs": [],
   "source": [
    "topic_df = pd.DataFrame(x)"
   ]
  },
  {
   "cell_type": "code",
   "execution_count": 120,
   "metadata": {},
   "outputs": [
    {
     "data": {
      "text/html": [
       "<div>\n",
       "<style>\n",
       "    .dataframe thead tr:only-child th {\n",
       "        text-align: right;\n",
       "    }\n",
       "\n",
       "    .dataframe thead th {\n",
       "        text-align: left;\n",
       "    }\n",
       "\n",
       "    .dataframe tbody tr th {\n",
       "        vertical-align: top;\n",
       "    }\n",
       "</style>\n",
       "<table border=\"1\" class=\"dataframe\">\n",
       "  <thead>\n",
       "    <tr style=\"text-align: right;\">\n",
       "      <th></th>\n",
       "      <th>0</th>\n",
       "      <th>1</th>\n",
       "      <th>2</th>\n",
       "      <th>3</th>\n",
       "      <th>4</th>\n",
       "      <th>5</th>\n",
       "      <th>6</th>\n",
       "      <th>7</th>\n",
       "      <th>8</th>\n",
       "      <th>9</th>\n",
       "    </tr>\n",
       "  </thead>\n",
       "  <tbody>\n",
       "    <tr>\n",
       "      <th>0</th>\n",
       "      <td>0.011120</td>\n",
       "      <td>0.011113</td>\n",
       "      <td>0.122975</td>\n",
       "      <td>0.011113</td>\n",
       "      <td>0.124875</td>\n",
       "      <td>0.011118</td>\n",
       "      <td>0.482457</td>\n",
       "      <td>0.203004</td>\n",
       "      <td>0.011112</td>\n",
       "      <td>0.011113</td>\n",
       "    </tr>\n",
       "    <tr>\n",
       "      <th>1</th>\n",
       "      <td>0.025000</td>\n",
       "      <td>0.025004</td>\n",
       "      <td>0.025003</td>\n",
       "      <td>0.025002</td>\n",
       "      <td>0.025001</td>\n",
       "      <td>0.025001</td>\n",
       "      <td>0.537124</td>\n",
       "      <td>0.025001</td>\n",
       "      <td>0.262862</td>\n",
       "      <td>0.025001</td>\n",
       "    </tr>\n",
       "    <tr>\n",
       "      <th>2</th>\n",
       "      <td>0.025000</td>\n",
       "      <td>0.524310</td>\n",
       "      <td>0.025004</td>\n",
       "      <td>0.025000</td>\n",
       "      <td>0.025001</td>\n",
       "      <td>0.025000</td>\n",
       "      <td>0.275683</td>\n",
       "      <td>0.025000</td>\n",
       "      <td>0.025001</td>\n",
       "      <td>0.025001</td>\n",
       "    </tr>\n",
       "    <tr>\n",
       "      <th>3</th>\n",
       "      <td>0.012501</td>\n",
       "      <td>0.145110</td>\n",
       "      <td>0.266140</td>\n",
       "      <td>0.012501</td>\n",
       "      <td>0.012500</td>\n",
       "      <td>0.261387</td>\n",
       "      <td>0.128962</td>\n",
       "      <td>0.012502</td>\n",
       "      <td>0.135890</td>\n",
       "      <td>0.012506</td>\n",
       "    </tr>\n",
       "    <tr>\n",
       "      <th>4</th>\n",
       "      <td>0.016668</td>\n",
       "      <td>0.353377</td>\n",
       "      <td>0.513280</td>\n",
       "      <td>0.016667</td>\n",
       "      <td>0.016667</td>\n",
       "      <td>0.016667</td>\n",
       "      <td>0.016670</td>\n",
       "      <td>0.016667</td>\n",
       "      <td>0.016668</td>\n",
       "      <td>0.016668</td>\n",
       "    </tr>\n",
       "    <tr>\n",
       "      <th>5</th>\n",
       "      <td>0.119612</td>\n",
       "      <td>0.813710</td>\n",
       "      <td>NaN</td>\n",
       "      <td>NaN</td>\n",
       "      <td>NaN</td>\n",
       "      <td>NaN</td>\n",
       "      <td>NaN</td>\n",
       "      <td>NaN</td>\n",
       "      <td>NaN</td>\n",
       "      <td>NaN</td>\n",
       "    </tr>\n",
       "    <tr>\n",
       "      <th>6</th>\n",
       "      <td>0.935704</td>\n",
       "      <td>NaN</td>\n",
       "      <td>NaN</td>\n",
       "      <td>NaN</td>\n",
       "      <td>NaN</td>\n",
       "      <td>NaN</td>\n",
       "      <td>NaN</td>\n",
       "      <td>NaN</td>\n",
       "      <td>NaN</td>\n",
       "      <td>NaN</td>\n",
       "    </tr>\n",
       "    <tr>\n",
       "      <th>7</th>\n",
       "      <td>0.083645</td>\n",
       "      <td>0.238302</td>\n",
       "      <td>0.624191</td>\n",
       "      <td>NaN</td>\n",
       "      <td>NaN</td>\n",
       "      <td>NaN</td>\n",
       "      <td>NaN</td>\n",
       "      <td>NaN</td>\n",
       "      <td>NaN</td>\n",
       "      <td>NaN</td>\n",
       "    </tr>\n",
       "    <tr>\n",
       "      <th>8</th>\n",
       "      <td>0.750360</td>\n",
       "      <td>0.131053</td>\n",
       "      <td>0.064729</td>\n",
       "      <td>NaN</td>\n",
       "      <td>NaN</td>\n",
       "      <td>NaN</td>\n",
       "      <td>NaN</td>\n",
       "      <td>NaN</td>\n",
       "      <td>NaN</td>\n",
       "      <td>NaN</td>\n",
       "    </tr>\n",
       "    <tr>\n",
       "      <th>9</th>\n",
       "      <td>0.011111</td>\n",
       "      <td>0.011113</td>\n",
       "      <td>0.011115</td>\n",
       "      <td>0.011114</td>\n",
       "      <td>0.233455</td>\n",
       "      <td>0.011112</td>\n",
       "      <td>0.210651</td>\n",
       "      <td>0.261993</td>\n",
       "      <td>0.227224</td>\n",
       "      <td>0.011112</td>\n",
       "    </tr>\n",
       "    <tr>\n",
       "      <th>10</th>\n",
       "      <td>0.025001</td>\n",
       "      <td>0.025001</td>\n",
       "      <td>0.025000</td>\n",
       "      <td>0.774964</td>\n",
       "      <td>0.025001</td>\n",
       "      <td>0.025003</td>\n",
       "      <td>0.025003</td>\n",
       "      <td>0.025000</td>\n",
       "      <td>0.025021</td>\n",
       "      <td>0.025006</td>\n",
       "    </tr>\n",
       "  </tbody>\n",
       "</table>\n",
       "</div>"
      ],
      "text/plain": [
       "           0         1         2         3         4         5         6         7         8         9\n",
       "0   0.011120  0.011113  0.122975  0.011113  0.124875  0.011118  0.482457  0.203004  0.011112  0.011113\n",
       "1   0.025000  0.025004  0.025003  0.025002  0.025001  0.025001  0.537124  0.025001  0.262862  0.025001\n",
       "2   0.025000  0.524310  0.025004  0.025000  0.025001  0.025000  0.275683  0.025000  0.025001  0.025001\n",
       "3   0.012501  0.145110  0.266140  0.012501  0.012500  0.261387  0.128962  0.012502  0.135890  0.012506\n",
       "4   0.016668  0.353377  0.513280  0.016667  0.016667  0.016667  0.016670  0.016667  0.016668  0.016668\n",
       "5   0.119612  0.813710       NaN       NaN       NaN       NaN       NaN       NaN       NaN       NaN\n",
       "6   0.935704       NaN       NaN       NaN       NaN       NaN       NaN       NaN       NaN       NaN\n",
       "7   0.083645  0.238302  0.624191       NaN       NaN       NaN       NaN       NaN       NaN       NaN\n",
       "8   0.750360  0.131053  0.064729       NaN       NaN       NaN       NaN       NaN       NaN       NaN\n",
       "9   0.011111  0.011113  0.011115  0.011114  0.233455  0.011112  0.210651  0.261993  0.227224  0.011112\n",
       "10  0.025001  0.025001  0.025000  0.774964  0.025001  0.025003  0.025003  0.025000  0.025021  0.025006"
      ]
     },
     "execution_count": 120,
     "metadata": {},
     "output_type": "execute_result"
    }
   ],
   "source": [
    "topic_df.head(11)"
   ]
  },
  {
   "cell_type": "code",
   "execution_count": 123,
   "metadata": {},
   "outputs": [
    {
     "data": {
      "text/plain": [
       "(15561, 10)"
      ]
     },
     "execution_count": 123,
     "metadata": {},
     "output_type": "execute_result"
    }
   ],
   "source": [
    "topic_df.shape"
   ]
  },
  {
   "cell_type": "code",
   "execution_count": 174,
   "metadata": {
    "collapsed": true
   },
   "outputs": [],
   "source": [
    "topic_df = topic_df.fillna(0)"
   ]
  },
  {
   "cell_type": "code",
   "execution_count": 184,
   "metadata": {
    "collapsed": true
   },
   "outputs": [],
   "source": [
    "vectorizer_lda = CountVectorizer(min_df=0.001) \n",
    "\n",
    "X, y = make_xy(critics, vectorizer_lda)"
   ]
  },
  {
   "cell_type": "code",
   "execution_count": 197,
   "metadata": {
    "collapsed": true
   },
   "outputs": [],
   "source": [
    "X_df = pd.DataFrame(X.todense())\n",
    "X_df.index,topic_df.index\n",
    "topic_df.columns = [\"topic\"+str(i) for i in range(1,11)]"
   ]
  },
  {
   "cell_type": "code",
   "execution_count": 200,
   "metadata": {
    "collapsed": true
   },
   "outputs": [],
   "source": [
    "# join topic features with bag of words features\n",
    "X = X_df.join(topic_df)"
   ]
  },
  {
   "cell_type": "code",
   "execution_count": 201,
   "metadata": {},
   "outputs": [
    {
     "data": {
      "text/plain": [
       "((11670, 2130), (11670,))"
      ]
     },
     "execution_count": 201,
     "metadata": {},
     "output_type": "execute_result"
    }
   ],
   "source": [
    "X_train,X_test,y_train,y_test = train_test_split(X,y)\n",
    "X_train.shape, y_train.shape"
   ]
  },
  {
   "cell_type": "code",
   "execution_count": 202,
   "metadata": {},
   "outputs": [
    {
     "data": {
      "text/plain": [
       "array([0, 1, 1, ..., 1, 1, 1])"
      ]
     },
     "execution_count": 202,
     "metadata": {},
     "output_type": "execute_result"
    }
   ],
   "source": [
    "y_train"
   ]
  },
  {
   "cell_type": "code",
   "execution_count": 203,
   "metadata": {},
   "outputs": [
    {
     "data": {
      "text/plain": [
       "(11670,)"
      ]
     },
     "execution_count": 203,
     "metadata": {},
     "output_type": "execute_result"
    }
   ],
   "source": [
    "y_train.shape"
   ]
  },
  {
   "cell_type": "code",
   "execution_count": 204,
   "metadata": {
    "collapsed": true
   },
   "outputs": [],
   "source": [
    "lda_mnb = MultinomialNB(alpha=5)"
   ]
  },
  {
   "cell_type": "code",
   "execution_count": 205,
   "metadata": {},
   "outputs": [
    {
     "data": {
      "text/plain": [
       "MultinomialNB(alpha=5, class_prior=None, fit_prior=True)"
      ]
     },
     "execution_count": 205,
     "metadata": {},
     "output_type": "execute_result"
    }
   ],
   "source": [
    "lda_mnb.fit(X_train,y_train)"
   ]
  },
  {
   "cell_type": "code",
   "execution_count": 207,
   "metadata": {},
   "outputs": [
    {
     "name": "stdout",
     "output_type": "stream",
     "text": [
      "train accuracy: 0.7914310197086547\n",
      "train accuracy: 0.7381135954767412\n"
     ]
    }
   ],
   "source": [
    "#y_pred = lda_mnb.predict(X_test)\n",
    "print(\"train accuracy: {}\".format(lda_mnb.score(X_train,y_train)))\n",
    "print(\"train accuracy: {}\".format(lda_mnb.score(X_test,y_test)))\n"
   ]
  },
  {
   "cell_type": "markdown",
   "metadata": {},
   "source": [
    "<div class=\"alert alert-success\">\n",
    "Using TF-IDF weighting instead of word counts\n",
    "</div>"
   ]
  },
  {
   "cell_type": "code",
   "execution_count": 14,
   "metadata": {},
   "outputs": [
    {
     "data": {
      "text/html": [
       "<div>\n",
       "<style>\n",
       "    .dataframe thead tr:only-child th {\n",
       "        text-align: right;\n",
       "    }\n",
       "\n",
       "    .dataframe thead th {\n",
       "        text-align: left;\n",
       "    }\n",
       "\n",
       "    .dataframe tbody tr th {\n",
       "        vertical-align: top;\n",
       "    }\n",
       "</style>\n",
       "<table border=\"1\" class=\"dataframe\">\n",
       "  <thead>\n",
       "    <tr style=\"text-align: right;\">\n",
       "      <th></th>\n",
       "      <th>critic</th>\n",
       "      <th>fresh</th>\n",
       "      <th>imdb</th>\n",
       "      <th>publication</th>\n",
       "      <th>quote</th>\n",
       "      <th>review_date</th>\n",
       "      <th>rtid</th>\n",
       "      <th>title</th>\n",
       "    </tr>\n",
       "  </thead>\n",
       "  <tbody>\n",
       "    <tr>\n",
       "      <th>1</th>\n",
       "      <td>Derek Adams</td>\n",
       "      <td>fresh</td>\n",
       "      <td>114709</td>\n",
       "      <td>Time Out</td>\n",
       "      <td>so ingenious in concept, design and execution ...</td>\n",
       "      <td>2009-10-04</td>\n",
       "      <td>9559</td>\n",
       "      <td>Toy story</td>\n",
       "    </tr>\n",
       "    <tr>\n",
       "      <th>2</th>\n",
       "      <td>Richard Corliss</td>\n",
       "      <td>fresh</td>\n",
       "      <td>114709</td>\n",
       "      <td>TIME Magazine</td>\n",
       "      <td>the year's most inventive comedy.</td>\n",
       "      <td>2008-08-31</td>\n",
       "      <td>9559</td>\n",
       "      <td>Toy story</td>\n",
       "    </tr>\n",
       "    <tr>\n",
       "      <th>3</th>\n",
       "      <td>David Ansen</td>\n",
       "      <td>fresh</td>\n",
       "      <td>114709</td>\n",
       "      <td>Newsweek</td>\n",
       "      <td>a winning animated feature that has something ...</td>\n",
       "      <td>2008-08-18</td>\n",
       "      <td>9559</td>\n",
       "      <td>Toy story</td>\n",
       "    </tr>\n",
       "    <tr>\n",
       "      <th>4</th>\n",
       "      <td>Leonard Klady</td>\n",
       "      <td>fresh</td>\n",
       "      <td>114709</td>\n",
       "      <td>Variety</td>\n",
       "      <td>the film sports a provocative and appealing st...</td>\n",
       "      <td>2008-06-09</td>\n",
       "      <td>9559</td>\n",
       "      <td>Toy story</td>\n",
       "    </tr>\n",
       "    <tr>\n",
       "      <th>5</th>\n",
       "      <td>Jonathan Rosenbaum</td>\n",
       "      <td>fresh</td>\n",
       "      <td>114709</td>\n",
       "      <td>Chicago Reader</td>\n",
       "      <td>an entertaining computer-generated, hyperreali...</td>\n",
       "      <td>2008-03-10</td>\n",
       "      <td>9559</td>\n",
       "      <td>Toy story</td>\n",
       "    </tr>\n",
       "  </tbody>\n",
       "</table>\n",
       "</div>"
      ],
      "text/plain": [
       "               critic  fresh    imdb     publication                                              quote review_date  rtid      title\n",
       "1         Derek Adams  fresh  114709        Time Out  so ingenious in concept, design and execution ...  2009-10-04  9559  Toy story\n",
       "2     Richard Corliss  fresh  114709   TIME Magazine                  the year's most inventive comedy.  2008-08-31  9559  Toy story\n",
       "3         David Ansen  fresh  114709        Newsweek  a winning animated feature that has something ...  2008-08-18  9559  Toy story\n",
       "4       Leonard Klady  fresh  114709         Variety  the film sports a provocative and appealing st...  2008-06-09  9559  Toy story\n",
       "5  Jonathan Rosenbaum  fresh  114709  Chicago Reader  an entertaining computer-generated, hyperreali...  2008-03-10  9559  Toy story"
      ]
     },
     "execution_count": 14,
     "metadata": {},
     "output_type": "execute_result"
    }
   ],
   "source": [
    "critics_df.head()"
   ]
  },
  {
   "cell_type": "code",
   "execution_count": 17,
   "metadata": {},
   "outputs": [
    {
     "name": "stderr",
     "output_type": "stream",
     "text": [
      "/anaconda3/lib/python3.6/site-packages/sklearn/feature_extraction/text.py:1089: FutureWarning: Conversion of the second argument of issubdtype from `float` to `np.floating` is deprecated. In future, it will be treated as `np.float64 == np.dtype(float).type`.\n",
      "  if hasattr(X, 'dtype') and np.issubdtype(X.dtype, np.float):\n"
     ]
    }
   ],
   "source": [
    "tf = TfidfVectorizer(smooth_idf=False, sublinear_tf=False, norm=None, analyzer='word',)\n",
    "txt_fitted = tf.fit(critics.quote)\n",
    "txt_transformed = txt_fitted.transform(critics.quote)\n"
   ]
  },
  {
   "cell_type": "code",
   "execution_count": 18,
   "metadata": {},
   "outputs": [
    {
     "data": {
      "text/plain": [
       "{'so': 18252,\n",
       " 'ingenious': 10176,\n",
       " 'in': 9950,\n",
       " 'concept': 4003,\n",
       " 'design': 5251,\n",
       " 'and': 891,\n",
       " 'execution': 6856,\n",
       " 'that': 19914,\n",
       " 'you': 22330,\n",
       " 'could': 4386,\n",
       " 'watch': 21732,\n",
       " 'it': 10555,\n",
       " 'on': 13657,\n",
       " 'postage': 14940,\n",
       " 'stamp': 18757,\n",
       " 'sized': 17943,\n",
       " 'screen': 17231,\n",
       " 'still': 18904,\n",
       " 'be': 1767,\n",
       " 'engulfed': 6494,\n",
       " 'by': 2784,\n",
       " 'its': 10566,\n",
       " 'charm': 3248,\n",
       " 'the': 19917,\n",
       " 'year': 22292,\n",
       " 'most': 12878,\n",
       " 'inventive': 10463,\n",
       " 'comedy': 3835,\n",
       " 'winning': 22051,\n",
       " 'animated': 939,\n",
       " 'feature': 7249,\n",
       " 'has': 9055,\n",
       " 'something': 18347,\n",
       " 'for': 7729,\n",
       " 'everyone': 6758,\n",
       " 'age': 595,\n",
       " 'spectrum': 18505,\n",
       " 'film': 7395,\n",
       " 'sports': 18626,\n",
       " 'provocative': 15409,\n",
       " 'appealing': 1049,\n",
       " 'story': 18970,\n",
       " 'every': 6754,\n",
       " 'bit': 2074,\n",
       " 'equal': 6617,\n",
       " 'of': 13584,\n",
       " 'this': 19995,\n",
       " 'technical': 19760,\n",
       " 'achievement': 374,\n",
       " 'an': 863,\n",
       " 'entertaining': 6556,\n",
       " 'computer': 3983,\n",
       " 'generated': 8229,\n",
       " 'hyperrealist': 9694,\n",
       " 'animation': 942,\n",
       " '1995': 139,\n",
       " 'also': 757,\n",
       " 'effect': 6211,\n",
       " 'toy': 20337,\n",
       " 'catalog': 3058,\n",
       " 'as': 1233,\n",
       " 'lion': 11533,\n",
       " 'king': 10974,\n",
       " 'did': 5395,\n",
       " 'before': 1840,\n",
       " 'revived': 16498,\n",
       " 'art': 1199,\n",
       " 'american': 820,\n",
       " 'children': 3362,\n",
       " 'ushered': 21268,\n",
       " 'set': 17474,\n",
       " 'smart': 18140,\n",
       " 'movies': 12933,\n",
       " 'entertained': 6554,\n",
       " 'their': 19929,\n",
       " 'parents': 14157,\n",
       " 'landmark': 11168,\n",
       " 'movie': 12924,\n",
       " 'doesn': 5748,\n",
       " 'get': 8290,\n",
       " 'old': 13629,\n",
       " 'with': 22091,\n",
       " 'frequent': 7921,\n",
       " 'repetition': 16244,\n",
       " 'will': 21997,\n",
       " 'probably': 15228,\n",
       " 'more': 12836,\n",
       " 'fully': 8024,\n",
       " 'appreciated': 1077,\n",
       " 'adults': 514,\n",
       " 'who': 21942,\n",
       " 'll': 11580,\n",
       " 'love': 11708,\n",
       " 'snappy': 18205,\n",
       " 'knowing': 11048,\n",
       " 'verbal': 21393,\n",
       " 'gags': 8090,\n",
       " 'vivid': 21558,\n",
       " 'deftly': 5050,\n",
       " 'defined': 5038,\n",
       " 'characters': 3234,\n",
       " 'overall': 13880,\n",
       " 'conceptual': 4006,\n",
       " 'sophistication': 18375,\n",
       " 'enjoy': 6503,\n",
       " 'new': 13247,\n",
       " 'take': 19633,\n",
       " 'irresistible': 10521,\n",
       " 'idea': 9727,\n",
       " 'toys': 20339,\n",
       " 'coming': 3849,\n",
       " 'to': 20187,\n",
       " 'life': 11449,\n",
       " 'marvel': 12112,\n",
       " 'at': 1332,\n",
       " 'witty': 22111,\n",
       " 'script': 17246,\n",
       " 'utterly': 21283,\n",
       " 'brilliant': 2541,\n",
       " 'anthropomorphism': 984,\n",
       " 'although': 770,\n",
       " 'imagery': 9805,\n",
       " 'is': 10535,\n",
       " 'impressive': 9926,\n",
       " 'major': 11929,\n",
       " 'surprise': 19410,\n",
       " 'bright': 2533,\n",
       " 'foray': 7730,\n",
       " 'into': 10421,\n",
       " 'kind': 10965,\n",
       " 'how': 9558,\n",
       " 'much': 12946,\n",
       " 'cleverness': 3582,\n",
       " 'been': 1833,\n",
       " 'invested': 10470,\n",
       " 'dialogue': 5371,\n",
       " 'perfect': 14382,\n",
       " 'two': 20697,\n",
       " 'popular': 14876,\n",
       " 'funny': 8042,\n",
       " 'guys': 8860,\n",
       " 'around': 1174,\n",
       " 'tom': 20216,\n",
       " 'hanks': 8983,\n",
       " 'tim': 20126,\n",
       " 'allen': 725,\n",
       " 'speak': 18476,\n",
       " 'lead': 11279,\n",
       " 'boy': 2425,\n",
       " 'result': 16405,\n",
       " 'visionary': 21530,\n",
       " 'roller': 16718,\n",
       " 'coaster': 3685,\n",
       " 'ride': 16564,\n",
       " 'disney': 5599,\n",
       " 'wondrously': 22144,\n",
       " 'imaginative': 9811,\n",
       " 'all': 719,\n",
       " 'cartoon': 3018,\n",
       " 'far': 7155,\n",
       " 'away': 1485,\n",
       " 'best': 1970,\n",
       " 'holiday': 9420,\n",
       " 'town': 20331,\n",
       " 'first': 7468,\n",
       " 'made': 11873,\n",
       " 'eye': 7028,\n",
       " 'popper': 14870,\n",
       " 'lasseter': 11210,\n",
       " 'pete': 14477,\n",
       " 'docter': 5734,\n",
       " 'andrew': 900,\n",
       " 'stanton': 18775,\n",
       " 'joe': 10712,\n",
       " 'ranft': 15741,\n",
       " 'filled': 7391,\n",
       " 'clever': 3578,\n",
       " 'keep': 10891,\n",
       " 'heroes': 9271,\n",
       " 'each': 6094,\n",
       " 'other': 13803,\n",
       " 'throats': 20041,\n",
       " 'plot': 14740,\n",
       " 'fast': 7189,\n",
       " 'forward': 7818,\n",
       " 'one': 13661,\n",
       " 'big': 2012,\n",
       " 'negative': 13195,\n",
       " 'about': 282,\n",
       " 'involves': 10495,\n",
       " 'overcommercialization': 13895,\n",
       " 'technically': 19762,\n",
       " 'nearly': 13167,\n",
       " 'flawless': 7557,\n",
       " 'nice': 13265,\n",
       " 'change': 3206,\n",
       " 'pace': 14015,\n",
       " 'see': 17327,\n",
       " 'studio': 19108,\n",
       " 'draw': 5887,\n",
       " 'magic': 11891,\n",
       " 'from': 7975,\n",
       " 'modern': 12728,\n",
       " 'tale': 19639,\n",
       " 'ordinary': 13759,\n",
       " '20th': 164,\n",
       " 'century': 3157,\n",
       " 'kid': 10935,\n",
       " 'andy': 909,\n",
       " 'his': 9365,\n",
       " 'eager': 6095,\n",
       " 'please': 14717,\n",
       " 'playthings': 14709,\n",
       " 'can': 2881,\n",
       " 'hardly': 9016,\n",
       " 'imagine': 9813,\n",
       " 'having': 9091,\n",
       " 'fun': 8027,\n",
       " 'than': 19907,\n",
       " 'miraculous': 12596,\n",
       " 'full': 8019,\n",
       " 'length': 11356,\n",
       " 'produced': 15253,\n",
       " 'entirely': 6573,\n",
       " 'great': 8649,\n",
       " 'voice': 21563,\n",
       " 'acting': 402,\n",
       " 'visual': 21540,\n",
       " 'puns': 15509,\n",
       " 'added': 441,\n",
       " 'up': 21212,\n",
       " 'game': 8126,\n",
       " 'changer': 3208,\n",
       " 'gloomy': 8419,\n",
       " 'special': 18482,\n",
       " 'effects': 6215,\n",
       " 'extravaganza': 7016,\n",
       " 'grotesque': 8739,\n",
       " 'images': 9806,\n",
       " 'generating': 8231,\n",
       " 'fear': 7232,\n",
       " 'despair': 5263,\n",
       " 'calculated': 2827,\n",
       " 'but': 2758,\n",
       " 'very': 21419,\n",
       " 'walter': 21655,\n",
       " 'matthau': 12196,\n",
       " 'jack': 10577,\n",
       " 'lemmon': 11349,\n",
       " 'are': 1131,\n",
       " 'awfully': 1492,\n",
       " 'good': 8500,\n",
       " 'sort': 18393,\n",
       " 'thing': 19980,\n",
       " 'mediocre': 12314,\n",
       " 'regrettably': 16073,\n",
       " 'just': 10834,\n",
       " 'don': 5783,\n",
       " 'expect': 6914,\n",
       " 'bickering': 2004,\n",
       " 'level': 11404,\n",
       " 'neil': 13209,\n",
       " 'simon': 17856,\n",
       " 'won': 22133,\n",
       " 'disappointed': 5496,\n",
       " 'while': 21910,\n",
       " 'come': 3827,\n",
       " 'close': 3623,\n",
       " 'my': 13046,\n",
       " 'top': 20251,\n",
       " '10': 5,\n",
       " 'list': 11544,\n",
       " '1993': 137,\n",
       " 'right': 16583,\n",
       " 'there': 19952,\n",
       " 'among': 839,\n",
       " 'pictures': 14553,\n",
       " 'had': 8892,\n",
       " 'watching': 21739,\n",
       " 'too': 20237,\n",
       " 'pat': 14224,\n",
       " 'practiced': 14998,\n",
       " 'really': 15872,\n",
       " 'convincing': 4295,\n",
       " 'progress': 15292,\n",
       " 'ariel': 1146,\n",
       " 'relationships': 16133,\n",
       " 'grumps': 8779,\n",
       " 'seems': 17341,\n",
       " 'dictated': 5390,\n",
       " 'mostly': 12879,\n",
       " 'needs': 13189,\n",
       " 'screenplay': 17234,\n",
       " 'if': 9765,\n",
       " 'poke': 14805,\n",
       " 'through': 20048,\n",
       " 'grumpy': 8780,\n",
       " 'cheap': 3277,\n",
       " 'sentimentality': 17424,\n",
       " 'find': 7425,\n",
       " 'worthy': 22201,\n",
       " 'picture': 14551,\n",
       " 'somewhere': 18351,\n",
       " 'never': 13244,\n",
       " 'escapes': 6667,\n",
       " 'queasy': 15604,\n",
       " 'aura': 1412,\n",
       " 'melrose': 12348,\n",
       " 'place': 14651,\n",
       " 'another': 971,\n",
       " 'beautiful': 1804,\n",
       " 'people': 14355,\n",
       " 'small': 18132,\n",
       " 'problems': 15236,\n",
       " 'pleasant': 14713,\n",
       " 'undemanding': 20835,\n",
       " 'piece': 14557,\n",
       " 'work': 22167,\n",
       " 'diverting': 5704,\n",
       " 'sit': 17922,\n",
       " 'though': 20007,\n",
       " 'stand': 18762,\n",
       " 'any': 1015,\n",
       " 'rigorous': 16594,\n",
       " 'examination': 6797,\n",
       " 'want': 21673,\n",
       " 'stomp': 18944,\n",
       " 'rejoice': 16120,\n",
       " 'cry': 4666,\n",
       " 'like': 11477,\n",
       " 'fool': 7706,\n",
       " 'instead': 10295,\n",
       " 'meanders': 12280,\n",
       " 'lollygags': 11633,\n",
       " 'occasionally': 13548,\n",
       " 'flaring': 7531,\n",
       " 'then': 19942,\n",
       " 'sputtering': 18672,\n",
       " 'again': 593,\n",
       " 'sister': 17918,\n",
       " 'celebratory': 3128,\n",
       " 'adaptation': 431,\n",
       " 'terry': 19879,\n",
       " 'mcmillan': 12258,\n",
       " 'selling': 17375,\n",
       " 'book': 2324,\n",
       " 'frequently': 7922,\n",
       " 'delightful': 5094,\n",
       " 'male': 11948,\n",
       " 'bashing': 1715,\n",
       " 'taken': 19634,\n",
       " 'extreme': 7017,\n",
       " 'waiting': 21624,\n",
       " 'exhale': 6869,\n",
       " 'starting': 18800,\n",
       " 'seem': 17336,\n",
       " 'little': 11565,\n",
       " 'crack': 4456,\n",
       " 'female': 7293,\n",
       " 'psyche': 15435,\n",
       " 'exhilarating': 6883,\n",
       " 'short': 17695,\n",
       " 'term': 19856,\n",
       " 'ultimately': 20725,\n",
       " 'crippling': 4572,\n",
       " 'dangerous': 4831,\n",
       " 'whitaker': 21932,\n",
       " 'clumsily': 3658,\n",
       " 'mishandles': 12648,\n",
       " 'what': 21887,\n",
       " 'should': 17708,\n",
       " 'go': 8455,\n",
       " 'girl': 8351,\n",
       " 'tour': 20319,\n",
       " 'de': 4912,\n",
       " 'force': 7734,\n",
       " 'possible': 14937,\n",
       " 'exception': 6817,\n",
       " 'none': 13350,\n",
       " 'women': 22132,\n",
       " 'likable': 11475,\n",
       " 'pleasure': 14726,\n",
       " 'seeing': 17331,\n",
       " 'effective': 6212,\n",
       " 'looking': 11653,\n",
       " 'black': 2093,\n",
       " 'grappling': 8622,\n",
       " 'issues': 10554,\n",
       " 'uneven': 20940,\n",
       " 'bernadine': 1955,\n",
       " 'felt': 7292,\n",
       " 'anything': 1020,\n",
       " 'populating': 14882,\n",
       " 'they': 19966,\n",
       " 'failed': 7074,\n",
       " 'capture': 2949,\n",
       " 'interest': 10363,\n",
       " 'or': 13737,\n",
       " 'sympathy': 19572,\n",
       " 'escapist': 6669,\n",
       " 'fantasy': 7154,\n",
       " 'audience': 1398,\n",
       " 'musing': 13025,\n",
       " 'wish': 22077,\n",
       " 'her': 9249,\n",
       " 'car': 2953,\n",
       " 'house': 9547,\n",
       " 'wardrobe': 21681,\n",
       " 'figure': 7383,\n",
       " 'men': 12369,\n",
       " 'even': 6741,\n",
       " 'wrong': 22246,\n",
       " 'martin': 12108,\n",
       " 'keaton': 10884,\n",
       " 'cinematographer': 3472,\n",
       " 'william': 22001,\n",
       " 'fraker': 7849,\n",
       " 'put': 15559,\n",
       " 'retro': 16439,\n",
       " 'fluff': 7640,\n",
       " 'over': 13875,\n",
       " 'better': 1986,\n",
       " 'expected': 6916,\n",
       " 'early': 6104,\n",
       " 'hour': 9545,\n",
       " 'only': 13668,\n",
       " 'those': 20005,\n",
       " 'equilibriums': 6623,\n",
       " 'rattled': 15805,\n",
       " 'surprises': 19412,\n",
       " 'heat': 9164,\n",
       " 'occupies': 13554,\n",
       " 'exalted': 6794,\n",
       " 'position': 14921,\n",
       " 'countless': 4405,\n",
       " 'contemporary': 4207,\n",
       " 'crime': 4558,\n",
       " 'films': 7407,\n",
       " 'robert': 16669,\n",
       " 'niro': 13308,\n",
       " 'last': 11212,\n",
       " 'role': 16713,\n",
       " 'he': 9106,\n",
       " 'devoted': 5348,\n",
       " 'himself': 9348,\n",
       " 'self': 17367,\n",
       " 'parody': 14171,\n",
       " 'simply': 17871,\n",
       " 'indeed': 10038,\n",
       " 'finest': 7436,\n",
       " 'period': 14404,\n",
       " 'decade': 4956,\n",
       " 'progresses': 15293,\n",
       " 'sensational': 17396,\n",
       " 'looks': 11655,\n",
       " 'pale': 14073,\n",
       " 'beside': 1964,\n",
       " 'storytelling': 18978,\n",
       " 'weaknesses': 21787,\n",
       " 'expose': 6969,\n",
       " 'soulless': 18401,\n",
       " 'aspects': 1254,\n",
       " 'cat': 3055,\n",
       " 'mouse': 12908,\n",
       " 'michael': 12483,\n",
       " 'mann': 12017,\n",
       " 'superlative': 19352,\n",
       " 'cast': 3043,\n",
       " 'have': 9087,\n",
       " 'classic': 3534,\n",
       " 'heist': 9201,\n",
       " 'rife': 16577,\n",
       " 'familiar': 7125,\n",
       " 'genre': 8250,\n",
       " 'elements': 6276,\n",
       " 'turned': 20651,\n",
       " 'sleek': 18046,\n",
       " 'accomplished': 345,\n",
       " 'meticulously': 12464,\n",
       " 'controlled': 4259,\n",
       " 'completely': 3942,\n",
       " 'involving': 10496,\n",
       " 'deserves': 5249,\n",
       " 'oscars': 13793,\n",
       " 'photography': 14523,\n",
       " 'editing': 6188,\n",
       " 'sound': 18404,\n",
       " 'arguably': 1137,\n",
       " 'scoring': 17192,\n",
       " 'packed': 14029,\n",
       " 'unforgettable': 20976,\n",
       " 'subcharacters': 19161,\n",
       " 'adds': 453,\n",
       " 'weight': 21831,\n",
       " 'tension': 19849,\n",
       " 'provides': 15401,\n",
       " 'lot': 11690,\n",
       " 'actors': 414,\n",
       " 'opportunity': 13714,\n",
       " 'do': 5726,\n",
       " 'honest': 9462,\n",
       " 'probing': 15232,\n",
       " 'context': 4217,\n",
       " 'where': 21901,\n",
       " 'typically': 20709,\n",
       " 'less': 11383,\n",
       " 'squealing': 18695,\n",
       " 'tires': 20170,\n",
       " 'flying': 7655,\n",
       " 'bullets': 2671,\n",
       " 'falling': 7108,\n",
       " 'bodies': 2255,\n",
       " 'cannot': 2907,\n",
       " 'save': 17049,\n",
       " 'drowning': 5965,\n",
       " 'own': 14002,\n",
       " 'banalities': 1619,\n",
       " 'writing': 22244,\n",
       " 'direction': 5473,\n",
       " 'elevate': 6279,\n",
       " 'material': 12170,\n",
       " 'not': 13400,\n",
       " 'action': 403,\n",
       " 'colossal': 3800,\n",
       " 'disappointment': 5499,\n",
       " 'knows': 11053,\n",
       " 'create': 4519,\n",
       " 'generates': 8230,\n",
       " 'lots': 11691,\n",
       " 'energy': 6464,\n",
       " 'gives': 8363,\n",
       " 'off': 13585,\n",
       " 'light': 11461,\n",
       " 'works': 22181,\n",
       " 'binds': 2047,\n",
       " 'music': 13019,\n",
       " 'hypnotic': 9698,\n",
       " 'triaxial': 20509,\n",
       " 'cable': 2796,\n",
       " 'plugs': 14754,\n",
       " 'your': 22336,\n",
       " 'brain': 2444,\n",
       " 'makes': 11936,\n",
       " 'almost': 746,\n",
       " 'three': 20027,\n",
       " 'experience': 6925,\n",
       " 'practically': 14996,\n",
       " 'glide': 8396,\n",
       " 'boosters': 2338,\n",
       " 'touts': 20325,\n",
       " 'use': 21261,\n",
       " 'often': 13614,\n",
       " 'likely': 11483,\n",
       " 'generate': 8228,\n",
       " 'yawns': 22289,\n",
       " 'excitement': 6832,\n",
       " 'point': 14790,\n",
       " 'back': 1522,\n",
       " 'basics': 1718,\n",
       " 'stars': 18795,\n",
       " 'doing': 5760,\n",
       " 'time': 20129,\n",
       " 'pacino': 14023,\n",
       " 'acted': 401,\n",
       " 'together': 20201,\n",
       " 'strong': 19077,\n",
       " 'watertight': 21754,\n",
       " 'performance': 14389,\n",
       " 'cop': 4316,\n",
       " 'stuff': 19112,\n",
       " 'bulk': 2667,\n",
       " 'well': 21853,\n",
       " 'thought': 20008,\n",
       " 'out': 13813,\n",
       " 'directed': 5471,\n",
       " 'impressively': 9927,\n",
       " 'backs': 1539,\n",
       " 'gorgeous': 8535,\n",
       " 'filmmaking': 7405,\n",
       " 'epic': 6599,\n",
       " 'feels': 7271,\n",
       " 'stunt': 19128,\n",
       " 'glittering': 8411,\n",
       " 'entertainment': 6558,\n",
       " 'somehow': 18342,\n",
       " 'certain': 3165,\n",
       " 'measure': 12295,\n",
       " 'found': 7824,\n",
       " 'way': 21772,\n",
       " 'formula': 7794,\n",
       " 'long': 11641,\n",
       " 'glibly': 8395,\n",
       " 'quipping': 15632,\n",
       " 'dialog': 5370,\n",
       " 'dropped': 5957,\n",
       " 'seemingly': 17340,\n",
       " 'casual': 3052,\n",
       " 'air': 647,\n",
       " 'broadly': 2573,\n",
       " 'played': 14696,\n",
       " 'situations': 17933,\n",
       " 'splendid': 18589,\n",
       " 'trouping': 20578,\n",
       " 'delivers': 5107,\n",
       " 'them': 19932,\n",
       " 'style': 19142,\n",
       " 'leavening': 11310,\n",
       " 'chuckles': 3444,\n",
       " 'tugs': 20622,\n",
       " 'heart': 9139,\n",
       " 'wilder': 21986,\n",
       " 'tastelessness': 19708,\n",
       " 'now': 13439,\n",
       " 'artistic': 1224,\n",
       " 'strength': 19032,\n",
       " 'cinderella': 3464,\n",
       " 'gets': 8292,\n",
       " 'head': 9107,\n",
       " 'satire': 17017,\n",
       " 'breaking': 2487,\n",
       " 'down': 5842,\n",
       " 'class': 3532,\n",
       " 'emotional': 6372,\n",
       " 'barriers': 1700,\n",
       " 'confrontation': 4082,\n",
       " 'between': 1988,\n",
       " 'world': 22183,\n",
       " 'callousness': 2845,\n",
       " 'humanity': 9604,\n",
       " 'hampered': 8944,\n",
       " 'unimaginative': 21009,\n",
       " 'nevertheless': 13246,\n",
       " 'manages': 11980,\n",
       " 'thoroughly': 20002,\n",
       " 'charming': 3251,\n",
       " 'delightfully': 5095,\n",
       " 'romantic': 16729,\n",
       " 'variation': 21342,\n",
       " 'feather': 7244,\n",
       " 'yesterday': 22306,\n",
       " 'news': 13256,\n",
       " 'transparent': 20424,\n",
       " 'society': 18278,\n",
       " 'column': 3807,\n",
       " 'item': 10563,\n",
       " 'smug': 18189,\n",
       " 'foreign': 7748,\n",
       " 'mr': 12941,\n",
       " 'commentary': 3864,\n",
       " 'crisp': 4575,\n",
       " 'screed': 17230,\n",
       " 'magazine': 11888,\n",
       " 'joyless': 10765,\n",
       " 'lump': 11774,\n",
       " 'reuniting': 16452,\n",
       " 'hyams': 9679,\n",
       " 'van': 21325,\n",
       " 'damme': 4809,\n",
       " 'director': 5477,\n",
       " 'star': 18779,\n",
       " 'timecop': 20130,\n",
       " 'spectacular': 18498,\n",
       " 'nail': 13084,\n",
       " 'biter': 2078,\n",
       " 'exploits': 6957,\n",
       " 'combined': 3820,\n",
       " 'limited': 11502,\n",
       " 'abilities': 267,\n",
       " 'offers': 13596,\n",
       " 'above': 283,\n",
       " 'average': 1457,\n",
       " 'pyrotechnics': 15574,\n",
       " 'body': 2259,\n",
       " 'count': 4390,\n",
       " 'steadily': 18830,\n",
       " 'mounts': 12904,\n",
       " 'plenty': 14730,\n",
       " 'hand': 8949,\n",
       " 'combat': 3812,\n",
       " 'sudden': 19255,\n",
       " 'death': 4939,\n",
       " 'thrillers': 20034,\n",
       " 'jean': 10641,\n",
       " 'claude': 3546,\n",
       " 'building': 2661,\n",
       " 'years': 22298,\n",
       " 'despite': 5271,\n",
       " 'elaborate': 6247,\n",
       " 'stunts': 19131,\n",
       " 'peter': 14478,\n",
       " 'plus': 14766,\n",
       " 'butt': 2763,\n",
       " 'kicking': 10932,\n",
       " 'goalie': 8457,\n",
       " 'hockey': 9396,\n",
       " 'puck': 15464,\n",
       " 'booby': 2320,\n",
       " 'prize': 15224,\n",
       " 'getting': 8294,\n",
       " 'jollies': 10730,\n",
       " 'putting': 15562,\n",
       " 'kids': 10945,\n",
       " 'jeopardy': 10657,\n",
       " 'treat': 20477,\n",
       " 'fans': 7148,\n",
       " 'superior': 19350,\n",
       " 'thriller': 20033,\n",
       " 'loaded': 11588,\n",
       " 'jaw': 10632,\n",
       " 'dropping': 5959,\n",
       " 'production': 15259,\n",
       " 'values': 21318,\n",
       " 'isn': 10549,\n",
       " 'common': 3881,\n",
       " 'sense': 17401,\n",
       " 'manipulation': 12010,\n",
       " 'sequences': 17441,\n",
       " 'pretty': 15163,\n",
       " 'climactic': 3595,\n",
       " 'duel': 6001,\n",
       " 'atop': 1350,\n",
       " 'arena': 1135,\n",
       " 'roof': 16749,\n",
       " 'patently': 14232,\n",
       " 'absurd': 302,\n",
       " 'exciting': 6834,\n",
       " 'events': 6746,\n",
       " 'overtime': 13985,\n",
       " 'being': 1868,\n",
       " 'below': 1907,\n",
       " 'races': 15661,\n",
       " 'against': 594,\n",
       " 'trying': 20607,\n",
       " 'thwart': 20081,\n",
       " 'boothe': 2341,\n",
       " 'defuse': 5053,\n",
       " 'bombs': 2298,\n",
       " 'hands': 8966,\n",
       " 'these': 19959,\n",
       " 'banal': 1618,\n",
       " 'chores': 3420,\n",
       " 'said': 16924,\n",
       " 'scenes': 17114,\n",
       " 'choreographed': 3415,\n",
       " 'flair': 7518,\n",
       " 'unfortunately': 20984,\n",
       " 'connecting': 4110,\n",
       " 'worthless': 22199,\n",
       " 'brosnan': 2588,\n",
       " 'however': 9560,\n",
       " 'stay': 18823,\n",
       " 'recapture': 15903,\n",
       " 'amused': 857,\n",
       " 'cool': 4305,\n",
       " 'young': 22331,\n",
       " 'sean': 17285,\n",
       " 'connery': 4118,\n",
       " 'does': 5747,\n",
       " 'overcome': 13892,\n",
       " 'handicap': 8958,\n",
       " 'humorless': 9626,\n",
       " 'model': 12722,\n",
       " 'know': 11045,\n",
       " 'whether': 21906,\n",
       " 'bond': 2304,\n",
       " 'series': 17452,\n",
       " 'future': 8065,\n",
       " 'xenia': 22266,\n",
       " 'onatopp': 13658,\n",
       " 'ever': 6749,\n",
       " 'returns': 16446,\n",
       " 'try': 20605,\n",
       " 'domination': 5780,\n",
       " 'may': 12221,\n",
       " 'finally': 7417,\n",
       " 'battle': 1755,\n",
       " 'worth': 22197,\n",
       " 'fighting': 7379,\n",
       " 'mite': 12693,\n",
       " 'pathetic': 14236,\n",
       " 'our': 13810,\n",
       " 'culture': 4700,\n",
       " 'clinging': 3603,\n",
       " '007': 2,\n",
       " 'hard': 9007,\n",
       " 'deny': 5174,\n",
       " 'entries': 6582,\n",
       " 'cycle': 4774,\n",
       " 'richard': 16542,\n",
       " 'kiel': 10947,\n",
       " 'missed': 12667,\n",
       " '17': 45,\n",
       " 'bonds': 2306,\n",
       " 'perhaps': 14399,\n",
       " 'important': 9903,\n",
       " 'today': 20195,\n",
       " 'dynamic': 6082,\n",
       " 'entry': 6585,\n",
       " 'adventure': 521,\n",
       " 'six': 17934,\n",
       " 'breathes': 2497,\n",
       " 'fresh': 7923,\n",
       " 'creative': 4525,\n",
       " 'commercial': 3868,\n",
       " '33': 184,\n",
       " 'campbell': 2873,\n",
       " 'keeps': 10894,\n",
       " 'matters': 12195,\n",
       " 'bowling': 2415,\n",
       " 'along': 748,\n",
       " 'look': 11650,\n",
       " 'earlier': 6102,\n",
       " 'suffers': 19266,\n",
       " 'blahs': 2108,\n",
       " 'supercharged': 19335,\n",
       " 'thundering': 20075,\n",
       " 'numbing': 13461,\n",
       " 'given': 8362,\n",
       " 'james': 10604,\n",
       " 'here': 9258,\n",
       " 'same': 16965,\n",
       " 'vanity': 21334,\n",
       " 'plate': 14682,\n",
       " 'read': 15848,\n",
       " 'je': 10638,\n",
       " 'me': 12272,\n",
       " 'souviens': 18422,\n",
       " 'reasonable': 15880,\n",
       " 'facsimile': 7056,\n",
       " 'original': 13773,\n",
       " 'feel': 7267,\n",
       " 'weariness': 21795,\n",
       " 'unfold': 20969,\n",
       " 'bs': 2616,\n",
       " 'babes': 1511,\n",
       " 'goldeneye': 8483,\n",
       " 'excels': 6814,\n",
       " 'dollar': 5765,\n",
       " 'proficiency': 15272,\n",
       " 'some': 18339,\n",
       " 'real': 15859,\n",
       " 'wit': 22086,\n",
       " 'since': 17880,\n",
       " 'spy': 18674,\n",
       " 'loved': 11711,\n",
       " 'got': 8548,\n",
       " 'caught': 3092,\n",
       " 'neat': 13168,\n",
       " 'observed': 13528,\n",
       " 'satisfaction': 17027,\n",
       " 'belated': 1875,\n",
       " 'part': 14177,\n",
       " 'capra': 2934,\n",
       " 'corny': 4345,\n",
       " 'political': 14830,\n",
       " 'drama': 5873,\n",
       " 'exudes': 7025,\n",
       " 'sweats': 19501,\n",
       " 'dandy': 4827,\n",
       " 'supporting': 19381,\n",
       " 'zinger': 22385,\n",
       " 'aaron': 253,\n",
       " 'sorkin': 18386,\n",
       " 'douglas': 5837,\n",
       " 'twinkling': 20683,\n",
       " 'merrily': 12413,\n",
       " 'oval': 13873,\n",
       " 'office': 13599,\n",
       " 'president': 15129,\n",
       " 'sunny': 19326,\n",
       " 'enough': 6527,\n",
       " 'make': 11931,\n",
       " 'presidency': 15128,\n",
       " 'comparison': 3905,\n",
       " 'genial': 8243,\n",
       " 'notably': 13402,\n",
       " 'inspired': 10283,\n",
       " 'middlebrow': 12496,\n",
       " 'fare': 7161,\n",
       " 'coasts': 3687,\n",
       " 'bustling': 2755,\n",
       " 'impassioned': 9868,\n",
       " 'sturges': 19141,\n",
       " 'neither': 13211,\n",
       " 'bad': 1548,\n",
       " 'nor': 13371,\n",
       " 'unwatchable': 21197,\n",
       " 'second': 17308,\n",
       " 'straight': 18982,\n",
       " 'rob': 16658,\n",
       " 'reiner': 16097,\n",
       " 'dislike': 5588,\n",
       " 'swept': 19517,\n",
       " 'either': 6244,\n",
       " 'laugh': 11227,\n",
       " 'smile': 18155,\n",
       " 'vote': 21582,\n",
       " 'shrewd': 17744,\n",
       " 'depiction': 5191,\n",
       " 'sex': 17496,\n",
       " 'positive': 14925,\n",
       " 'view': 21467,\n",
       " 'character': 3224,\n",
       " 'apart': 1024,\n",
       " 'obvious': 13543,\n",
       " 'bias': 1998,\n",
       " 'romance': 16725,\n",
       " 'smarts': 18147,\n",
       " 'abundance': 309,\n",
       " 'spare': 18451,\n",
       " 'modulated': 12739,\n",
       " 'charmer': 3250,\n",
       " 'becomes': 1818,\n",
       " 'darn': 4864,\n",
       " 'affecting': 554,\n",
       " 'after': 584,\n",
       " 'simpering': 17858,\n",
       " '20': 145,\n",
       " 'minutes': 12590,\n",
       " 'frothy': 7988,\n",
       " 'capraesque': 2935,\n",
       " 'inevitably': 10113,\n",
       " 'affixed': 567,\n",
       " 'phrase': 14525,\n",
       " 'implications': 9895,\n",
       " 'facile': 7052,\n",
       " 'hokum': 9411,\n",
       " 'justice': 10835,\n",
       " 'painless': 14053,\n",
       " 'super': 19332,\n",
       " 'injects': 10210,\n",
       " 'teddy': 19776,\n",
       " 'roosevelt': 16756,\n",
       " 'vitality': 21548,\n",
       " 'when': 21899,\n",
       " 'comes': 3837,\n",
       " 'high': 9314,\n",
       " 'guarantee': 8785,\n",
       " 'image': 9804,\n",
       " 'chief': 3354,\n",
       " 'executive': 6857,\n",
       " 'moonstruck': 12814,\n",
       " 'single': 17895,\n",
       " 'guy': 8859,\n",
       " 'taps': 19688,\n",
       " 'buoyant': 2701,\n",
       " 'touching': 20310,\n",
       " 'collective': 3772,\n",
       " 'democratic': 5135,\n",
       " 'imagination': 9809,\n",
       " 'wearing': 21796,\n",
       " 'break': 2482,\n",
       " 'usual': 21271,\n",
       " 'frown': 7989,\n",
       " 'strikes': 19054,\n",
       " 'tender': 19838,\n",
       " 'rapport': 15766,\n",
       " 'bening': 1932,\n",
       " 'lamest': 11154,\n",
       " 'mel': 12329,\n",
       " 'brooks': 2584,\n",
       " 'contenders': 4213,\n",
       " 'difference': 5410,\n",
       " 'sparks': 18462,\n",
       " 'macnicol': 11863,\n",
       " 'renfield': 16225,\n",
       " 'solicitor': 18318,\n",
       " 'develops': 5328,\n",
       " 'taste': 19704,\n",
       " 'flies': 7585,\n",
       " 'spiders': 18535,\n",
       " 'bitten': 2083,\n",
       " 'dracula': 5861,\n",
       " 'helsing': 9230,\n",
       " 'successful': 19238,\n",
       " 'hasn': 9059,\n",
       " 'imbued': 9822,\n",
       " 'stock': 18931,\n",
       " 'company': 3897,\n",
       " 'similar': 17851,\n",
       " 'ability': 268,\n",
       " 'rise': 16619,\n",
       " 'underwritten': 20900,\n",
       " 'roles': 16714,\n",
       " 'slight': 18075,\n",
       " 'amusing': 859,\n",
       " 'venture': 21389,\n",
       " 'forth': 7806,\n",
       " 'radical': 15678,\n",
       " 'aren': 1134,\n",
       " 'comedies': 3834,\n",
       " 'supposed': 19383,\n",
       " 'jokes': 10727,\n",
       " 'toothless': 20246,\n",
       " 'misses': 12669,\n",
       " 'hits': 9383,\n",
       " 'sucking': 19253,\n",
       " 'dry': 5979,\n",
       " 'vein': 21373,\n",
       " 'proves': 15395,\n",
       " ...}"
      ]
     },
     "execution_count": 18,
     "metadata": {},
     "output_type": "execute_result"
    }
   ],
   "source": [
    "tf.vocabulary_"
   ]
  },
  {
   "cell_type": "code",
   "execution_count": 19,
   "metadata": {
    "collapsed": true
   },
   "outputs": [],
   "source": [
    "X = txt_transformed.todense()\n",
    "y = (critics.fresh == 'fresh').values.astype(np.int)"
   ]
  },
  {
   "cell_type": "code",
   "execution_count": 20,
   "metadata": {},
   "outputs": [
    {
     "data": {
      "text/plain": [
       "(15561, 22417)"
      ]
     },
     "execution_count": 20,
     "metadata": {},
     "output_type": "execute_result"
    }
   ],
   "source": [
    "X.shape"
   ]
  },
  {
   "cell_type": "code",
   "execution_count": 21,
   "metadata": {
    "collapsed": true
   },
   "outputs": [],
   "source": [
    "X_train,X_test,y_train, y_test = train_test_split(X,y,test_size=0.3,random_state=42)"
   ]
  },
  {
   "cell_type": "code",
   "execution_count": 23,
   "metadata": {},
   "outputs": [
    {
     "data": {
      "text/plain": [
       "((10892, 22417), (10892,))"
      ]
     },
     "execution_count": 23,
     "metadata": {},
     "output_type": "execute_result"
    }
   ],
   "source": [
    "X_train.shape, y_train.shape"
   ]
  },
  {
   "cell_type": "code",
   "execution_count": 24,
   "metadata": {
    "collapsed": true
   },
   "outputs": [],
   "source": [
    "mnb_tfidf = MultinomialNB(alpha=5)"
   ]
  },
  {
   "cell_type": "code",
   "execution_count": 25,
   "metadata": {},
   "outputs": [
    {
     "data": {
      "text/plain": [
       "MultinomialNB(alpha=5, class_prior=None, fit_prior=True)"
      ]
     },
     "execution_count": 25,
     "metadata": {},
     "output_type": "execute_result"
    }
   ],
   "source": [
    "mnb_tfidf.fit(X_train,y_train)"
   ]
  },
  {
   "cell_type": "code",
   "execution_count": 26,
   "metadata": {},
   "outputs": [
    {
     "data": {
      "text/plain": [
       "0.7603341186549583"
      ]
     },
     "execution_count": 26,
     "metadata": {},
     "output_type": "execute_result"
    }
   ],
   "source": [
    "mnb_tfidf.score(X_test,y_test)"
   ]
  },
  {
   "cell_type": "code",
   "execution_count": 27,
   "metadata": {},
   "outputs": [
    {
     "data": {
      "text/plain": [
       "0.945280940139552"
      ]
     },
     "execution_count": 27,
     "metadata": {},
     "output_type": "execute_result"
    }
   ],
   "source": [
    "mnb_tfidf.score(X_train,y_train)"
   ]
  },
  {
   "cell_type": "code",
   "execution_count": null,
   "metadata": {
    "collapsed": true
   },
   "outputs": [],
   "source": []
  }
 ],
 "metadata": {
  "celltoolbar": "Raw Cell Format",
  "kernelspec": {
   "display_name": "Python 3",
   "language": "python",
   "name": "python3"
  },
  "language_info": {
   "codemirror_mode": {
    "name": "ipython",
    "version": 3
   },
   "file_extension": ".py",
   "mimetype": "text/x-python",
   "name": "python",
   "nbconvert_exporter": "python",
   "pygments_lexer": "ipython3",
   "version": "3.6.3"
  },
  "latex_envs": {
   "LaTeX_envs_menu_present": false,
   "autoclose": false,
   "autocomplete": true,
   "bibliofile": "biblio.bib",
   "cite_by": "apalike",
   "current_citInitial": 1,
   "eqLabelWithNumbers": true,
   "eqNumInitial": 1,
   "hotkeys": {
    "equation": "Ctrl-E",
    "itemize": "Ctrl-I"
   },
   "labels_anchors": false,
   "latex_user_defs": false,
   "report_style_numbering": false,
   "user_envs_cfg": false
  }
 },
 "nbformat": 4,
 "nbformat_minor": 1
}
