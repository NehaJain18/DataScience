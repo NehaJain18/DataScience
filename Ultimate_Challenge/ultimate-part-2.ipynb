{
 "cells": [
  {
   "cell_type": "markdown",
   "metadata": {},
   "source": [
    "## Problem\n",
    "The neighboring cities of Gotham and Metropolis have complementary circadian rhythms: on weekdays, Ultimate Gotham is most active at night, and Ultimate Metropolis is most active during the day. On weekends, there is reasonable activity in both cities.\n",
    "However, a toll bridge, with a two­way toll, between the two cities causes driver partners to tend to be exclusive to each city. The Ultimate managers of city operations for the two cities have proposed an experiment to encourage driver partners to be available in both cities, by reimbursing all toll costs.\n",
    "1. What would you choose as the key measure of success of this experiment in encouraging driver partners to serve both cities, and why would you choose this metric?\n",
    "2. Describe a practical experiment you would design to compare the effectiveness of the proposed change in relation to the key measure of success. Please provide details on:\n",
    "    1. how you will implement the experiment\n",
    "    2. what statistical test(s) you will conduct to verify the significance of the\n",
    "    observation\n",
    "    3. how you would interpret the results and provide recommendations to the city\n",
    "    operations team along with any caveats."
   ]
  },
  {
   "cell_type": "markdown",
   "metadata": {},
   "source": [
    "## Analysis"
   ]
  },
  {
   "cell_type": "markdown",
   "metadata": {},
   "source": [
    "Few points that are apparent:\n",
    "1. Cities Gotham and Metropolis have opposite active hours on weekdays. Gotham is active at night and Metropolis is active in day time. It is possible that Metropolis is business area having many offices where people come in day time to work. And Gotham might be city that have leisure night activities like bars or open science centers for star gazing etc. Whatever the reason might be people must be commuting a lot from one city to another. The direction of commute in morning will most likely be Gotham to Metropolis and vice versa during the wee hours of the night.\n",
    "2. In the weekends both cities are reasonably active.\n",
    "3. Because of the two way toll between the cities the driver partners don't prefer to commute from one city to another.\n",
    "4. Ultimate managers want to increase the availability of the driver partners and so they propose reimbursement of toll costs."
   ]
  },
  {
   "cell_type": "markdown",
   "metadata": {},
   "source": [
    "## Solution"
   ]
  },
  {
   "cell_type": "markdown",
   "metadata": {},
   "source": [
    "1. Ultimately the managers care about if driver partners are available whenever there is demand for a trip. And the metric should be devised in way to capture that. There seems no way of finding the demand directly. But given the cities' circadian rhythms we know that there are certain and different peak hours in both direction trips. So our metric can utilize these factors. Active_G_to_M/Active_M_to_G/In_Active hours and number of trips per day for these periods.\n",
    " So we can have 3 separate metrics or combine them in some way.\n",
    "    - Metric 1: Number of trips between cities per day \n",
    "    - Metric 2: \n",
    "                - Number of trips from Gotham to Metropolis in morning hours\n",
    "                - Number of trips from Metropolis to Gotham in evening hours\n",
    "                - Number of trips between cities in remaining hours\n",
    "                \n",
    "2. I propose the following design for the experiment:\n",
    "\n",
    "    - Randomly select half of the driver partners and let them know that the toll charges will be reimbursed. Call this group A.\n",
    "    - For the remaining half don't do anything. They will keep paying the toll charges as usual. Call this group B.\n",
    "    - Collect the following data for the next 4 weeks for the groups:\n",
    "        - Driver partner id\n",
    "        - Trip start time\n",
    "        - Trip start city\n",
    "        - Trip end time\n",
    "        - Trip end city\n",
    "    - After 4 weeks, we shall analyze the data and calculate our metric (Metric 1).\n",
    "    \n",
    "3. We would conduct one tailed T test to see if the two groups of driver partners differ significantly. Let us say that mA is mean of number of trips made by drivers in group A and mB the mean for other group. We can do T test (Difference between Two Means (Independent Groups)) to find the differences if any. \n",
    "\n",
    "    Here the 2 populations are the number of trips made each day by drivers in each group. We can assume this to be a normal population. Also, since we selected drivers randomly from the pool and assigned a group, the two populations have the same variance. Again we assume that there is no relation between trips made one day and any other day, we can say our each value is sampled independently.\n",
    "\n",
    "    Formally assumptions would be:\n",
    "    1. The two populations have the same variance. This assumption is called the assumption of homogeneity of varance.\n",
    "    2. The populations are normally distributed.\n",
    "    3. Each value is sampled independently from each other value.\n",
    "\n",
    "    General formula for significance testing:\n",
    "\n",
    "    \\begin{equation}\n",
    "    t = \\frac{statistic - hypothesized value}{ estimated standard error of the statistic}\n",
    "    \\end{equation}\n",
    "\n",
    "    In our case statistic is difference of the means (mA-mB).\n",
    "\n",
    "    Hypothesized value is zero. \n",
    "\n",
    "    Hypothesis is that the two means are same.\n",
    "\n",
    "        H0: the two means are same i.e. mA = mB\n",
    "        H1: the mean mB (toll reimbursed) is greater than mA i.e. mA < mB\n",
    "    Estimated standard error calculation:\n",
    "\n",
    "    \\begin{equation}\n",
    "        \\sigma_{mA-mB} = \\sqrt{ \\frac{\\sigma^2}{n} + \\frac{\\sigma^2}{n}}\n",
    "    \\end{equation}\n",
    "\n",
    "    and the estimate of that  would be:\n",
    "    \\begin{equation}\n",
    "        s_{mA-mB} = \\sqrt{ \\frac{sA^2}{n} + \\frac{sB^2}{n}}\n",
    "    \\end{equation}\n",
    "\n",
    "    We can calculate the value of \"t\" by using one tailed T distribution. Depending on that value we can accept and reject the hypothesis. And accordingly recommend in favor or against of the reimbursement."
   ]
  },
  {
   "cell_type": "code",
   "execution_count": null,
   "metadata": {
    "collapsed": true
   },
   "outputs": [],
   "source": []
  },
  {
   "cell_type": "code",
   "execution_count": null,
   "metadata": {
    "collapsed": true
   },
   "outputs": [],
   "source": []
  }
 ],
 "metadata": {
  "kernelspec": {
   "display_name": "Python 3",
   "language": "python",
   "name": "python3"
  },
  "language_info": {
   "codemirror_mode": {
    "name": "ipython",
    "version": 3
   },
   "file_extension": ".py",
   "mimetype": "text/x-python",
   "name": "python",
   "nbconvert_exporter": "python",
   "pygments_lexer": "ipython3",
   "version": "3.6.3"
  },
  "latex_envs": {
   "LaTeX_envs_menu_present": true,
   "autoclose": false,
   "autocomplete": true,
   "bibliofile": "biblio.bib",
   "cite_by": "apalike",
   "current_citInitial": 1,
   "eqLabelWithNumbers": true,
   "eqNumInitial": 1,
   "hotkeys": {
    "equation": "Ctrl-E",
    "itemize": "Ctrl-I"
   },
   "labels_anchors": false,
   "latex_user_defs": false,
   "report_style_numbering": false,
   "user_envs_cfg": false
  }
 },
 "nbformat": 4,
 "nbformat_minor": 2
}
