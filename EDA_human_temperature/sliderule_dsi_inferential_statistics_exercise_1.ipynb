{
 "cells": [
  {
   "cell_type": "markdown",
   "metadata": {},
   "source": [
    "# What is the True Normal Human Body Temperature? \n",
    "\n",
    "#### Background\n",
    "\n",
    "The mean normal body temperature was held to be 37$^{\\circ}$C or 98.6$^{\\circ}$F for more than 120 years since it was first conceptualized and reported by Carl Wunderlich in a famous 1868 book. But, is this value statistically correct?"
   ]
  },
  {
   "cell_type": "markdown",
   "metadata": {},
   "source": [
    "<h3>Exercises</h3>\n",
    "\n",
    "<p>In this exercise, you will analyze a dataset of human body temperatures and employ the concepts of hypothesis testing, confidence intervals, and statistical significance.</p>\n",
    "\n",
    "<p>Answer the following questions <b>in this notebook below and submit to your Github account</b>.</p> \n",
    "\n",
    "<ol>\n",
    "<li>  Is the distribution of body temperatures normal? \n",
    "    <ul>\n",
    "    <li> Although this is not a requirement for the Central Limit Theorem to hold (read the introduction on Wikipedia's page about the CLT carefully: https://en.wikipedia.org/wiki/Central_limit_theorem), it gives us some peace of mind that the population may also be normally distributed if we assume that this sample is representative of the population.\n",
    "    <li> Think about the way you're going to check for the normality of the distribution. Graphical methods are usually used first, but there are also other ways: https://en.wikipedia.org/wiki/Normality_test\n",
    "    </ul>\n",
    "<li>  Is the sample size large? Are the observations independent?\n",
    "    <ul>\n",
    "    <li> Remember that this is a condition for the Central Limit Theorem, and hence the statistical tests we are using, to apply.\n",
    "    </ul>\n",
    "<li>  Is the true population mean really 98.6 degrees F?\n",
    "    <ul>\n",
    "    <li> First, try a bootstrap hypothesis test.\n",
    "    <li> Now, let's try frequentist statistical testing. Would you use a one-sample or two-sample test? Why?\n",
    "    <li> In this situation, is it appropriate to use the $t$ or $z$ statistic? \n",
    "    <li> Now try using the other test. How is the result be different? Why?\n",
    "    </ul>\n",
    "<li>  Draw a small sample of size 10 from the data and repeat both frequentist tests. \n",
    "    <ul>\n",
    "    <li> Which one is the correct one to use? \n",
    "    <li> What do you notice? What does this tell you about the difference in application of the $t$ and $z$ statistic?\n",
    "    </ul>\n",
    "<li>  At what temperature should we consider someone's temperature to be \"abnormal\"?\n",
    "    <ul>\n",
    "    <li> As in the previous example, try calculating everything using the boostrap approach, as well as the frequentist approach.\n",
    "    <li> Start by computing the margin of error and confidence interval. When calculating the confidence interval, keep in mind that you should use the appropriate formula for one draw, and not N draws.\n",
    "    </ul>\n",
    "<li>  Is there a significant difference between males and females in normal temperature?\n",
    "    <ul>\n",
    "    <li> What testing approach did you use and why?\n",
    "    <li> Write a story with your conclusion in the context of the original problem.\n",
    "    </ul>\n",
    "</ol>\n",
    "\n",
    "You can include written notes in notebook cells using Markdown: \n",
    "   - In the control panel at the top, choose Cell > Cell Type > Markdown\n",
    "   - Markdown syntax: http://nestacms.com/docs/creating-content/markdown-cheat-sheet\n",
    "\n",
    "#### Resources\n",
    "\n",
    "+ Information and data sources: http://www.amstat.org/publications/jse/datasets/normtemp.txt, http://www.amstat.org/publications/jse/jse_data_archive.htm\n",
    "+ Markdown syntax: http://nestacms.com/docs/creating-content/markdown-cheat-sheet\n",
    "\n",
    "****"
   ]
  },
  {
   "cell_type": "code",
   "execution_count": 1,
   "metadata": {
    "collapsed": true
   },
   "outputs": [],
   "source": [
    "import pandas as pd\n",
    "\n",
    "df = pd.read_csv('data/human_body_temperature.csv')"
   ]
  },
  {
   "cell_type": "code",
   "execution_count": 2,
   "metadata": {},
   "outputs": [
    {
     "data": {
      "text/html": [
       "<div>\n",
       "<style>\n",
       "    .dataframe thead tr:only-child th {\n",
       "        text-align: right;\n",
       "    }\n",
       "\n",
       "    .dataframe thead th {\n",
       "        text-align: left;\n",
       "    }\n",
       "\n",
       "    .dataframe tbody tr th {\n",
       "        vertical-align: top;\n",
       "    }\n",
       "</style>\n",
       "<table border=\"1\" class=\"dataframe\">\n",
       "  <thead>\n",
       "    <tr style=\"text-align: right;\">\n",
       "      <th></th>\n",
       "      <th>temperature</th>\n",
       "      <th>gender</th>\n",
       "      <th>heart_rate</th>\n",
       "    </tr>\n",
       "  </thead>\n",
       "  <tbody>\n",
       "    <tr>\n",
       "      <th>0</th>\n",
       "      <td>99.3</td>\n",
       "      <td>F</td>\n",
       "      <td>68.0</td>\n",
       "    </tr>\n",
       "    <tr>\n",
       "      <th>1</th>\n",
       "      <td>98.4</td>\n",
       "      <td>F</td>\n",
       "      <td>81.0</td>\n",
       "    </tr>\n",
       "    <tr>\n",
       "      <th>2</th>\n",
       "      <td>97.8</td>\n",
       "      <td>M</td>\n",
       "      <td>73.0</td>\n",
       "    </tr>\n",
       "    <tr>\n",
       "      <th>3</th>\n",
       "      <td>99.2</td>\n",
       "      <td>F</td>\n",
       "      <td>66.0</td>\n",
       "    </tr>\n",
       "    <tr>\n",
       "      <th>4</th>\n",
       "      <td>98.0</td>\n",
       "      <td>F</td>\n",
       "      <td>73.0</td>\n",
       "    </tr>\n",
       "  </tbody>\n",
       "</table>\n",
       "</div>"
      ],
      "text/plain": [
       "   temperature gender  heart_rate\n",
       "0         99.3      F        68.0\n",
       "1         98.4      F        81.0\n",
       "2         97.8      M        73.0\n",
       "3         99.2      F        66.0\n",
       "4         98.0      F        73.0"
      ]
     },
     "execution_count": 2,
     "metadata": {},
     "output_type": "execute_result"
    }
   ],
   "source": [
    "# Your work here.\n",
    "\n",
    "# Always good to do some exploration of the data\n",
    "df.head()"
   ]
  },
  {
   "cell_type": "code",
   "execution_count": 3,
   "metadata": {},
   "outputs": [
    {
     "name": "stdout",
     "output_type": "stream",
     "text": [
      "<class 'pandas.core.frame.DataFrame'>\n",
      "RangeIndex: 130 entries, 0 to 129\n",
      "Data columns (total 3 columns):\n",
      "temperature    130 non-null float64\n",
      "gender         130 non-null object\n",
      "heart_rate     130 non-null float64\n",
      "dtypes: float64(2), object(1)\n",
      "memory usage: 3.1+ KB\n"
     ]
    }
   ],
   "source": [
    "df.info()"
   ]
  },
  {
   "cell_type": "code",
   "execution_count": 4,
   "metadata": {},
   "outputs": [
    {
     "data": {
      "text/html": [
       "<div>\n",
       "<style>\n",
       "    .dataframe thead tr:only-child th {\n",
       "        text-align: right;\n",
       "    }\n",
       "\n",
       "    .dataframe thead th {\n",
       "        text-align: left;\n",
       "    }\n",
       "\n",
       "    .dataframe tbody tr th {\n",
       "        vertical-align: top;\n",
       "    }\n",
       "</style>\n",
       "<table border=\"1\" class=\"dataframe\">\n",
       "  <thead>\n",
       "    <tr style=\"text-align: right;\">\n",
       "      <th></th>\n",
       "      <th>temperature</th>\n",
       "      <th>heart_rate</th>\n",
       "    </tr>\n",
       "  </thead>\n",
       "  <tbody>\n",
       "    <tr>\n",
       "      <th>count</th>\n",
       "      <td>130.000000</td>\n",
       "      <td>130.000000</td>\n",
       "    </tr>\n",
       "    <tr>\n",
       "      <th>mean</th>\n",
       "      <td>98.249231</td>\n",
       "      <td>73.761538</td>\n",
       "    </tr>\n",
       "    <tr>\n",
       "      <th>std</th>\n",
       "      <td>0.733183</td>\n",
       "      <td>7.062077</td>\n",
       "    </tr>\n",
       "    <tr>\n",
       "      <th>min</th>\n",
       "      <td>96.300000</td>\n",
       "      <td>57.000000</td>\n",
       "    </tr>\n",
       "    <tr>\n",
       "      <th>25%</th>\n",
       "      <td>97.800000</td>\n",
       "      <td>69.000000</td>\n",
       "    </tr>\n",
       "    <tr>\n",
       "      <th>50%</th>\n",
       "      <td>98.300000</td>\n",
       "      <td>74.000000</td>\n",
       "    </tr>\n",
       "    <tr>\n",
       "      <th>75%</th>\n",
       "      <td>98.700000</td>\n",
       "      <td>79.000000</td>\n",
       "    </tr>\n",
       "    <tr>\n",
       "      <th>max</th>\n",
       "      <td>100.800000</td>\n",
       "      <td>89.000000</td>\n",
       "    </tr>\n",
       "  </tbody>\n",
       "</table>\n",
       "</div>"
      ],
      "text/plain": [
       "       temperature  heart_rate\n",
       "count   130.000000  130.000000\n",
       "mean     98.249231   73.761538\n",
       "std       0.733183    7.062077\n",
       "min      96.300000   57.000000\n",
       "25%      97.800000   69.000000\n",
       "50%      98.300000   74.000000\n",
       "75%      98.700000   79.000000\n",
       "max     100.800000   89.000000"
      ]
     },
     "execution_count": 4,
     "metadata": {},
     "output_type": "execute_result"
    }
   ],
   "source": [
    "df.describe()"
   ]
  },
  {
   "cell_type": "code",
   "execution_count": 5,
   "metadata": {},
   "outputs": [
    {
     "data": {
      "image/png": "[encoded data removed]",
      "text/plain": [
       "<matplotlib.figure.Figure at 0x1025b9160>"
      ]
     },
     "metadata": {},
     "output_type": "display_data"
    }
   ],
   "source": [
    "import matplotlib.pyplot as plt\n",
    "import numpy as np\n",
    "import seaborn as sns\n",
    "\n",
    "sns.set()\n",
    "\n",
    "# set number of bins for the histogram\n",
    "\n",
    "# general rule is square root of data points\n",
    "n_bins = int(np.sqrt(len(df['temperature'])))\n",
    "\n",
    "# bin edges can also be given\n",
    "#n_bins = [95.5,96,96.5,97,97.5,98,98.5,99,99.5,100,100.5,101,101.5]\n",
    "\n",
    "plt.hist(df['temperature'],bins=n_bins)\n",
    "plt.xlabel('Temperature')\n",
    "plt.ylabel('Count')\n",
    "plt.xticks(range(96,102))\n",
    "plt.title('Historgram for Human Body Temperature\\n')\n",
    "\n",
    "plt.show()"
   ]
  },
  {
   "cell_type": "markdown",
   "metadata": {},
   "source": [
    "From the above plot we see that most max and min of temperatures. And also that most of the data is concentrated in the 98 to 99 range."
   ]
  },
  {
   "cell_type": "code",
   "execution_count": 6,
   "metadata": {},
   "outputs": [
    {
     "data": {
      "image/png": "[encoded data removed]",
      "text/plain": [
       "<matplotlib.figure.Figure at 0x108880160>"
      ]
     },
     "metadata": {},
     "output_type": "display_data"
    }
   ],
   "source": [
    "# some drawbacks of Histograms is that we loose some information as we are forcing the data into bins\n",
    "# we can have binning bias with inappropriate bin sizes\n",
    "\n",
    "# to capture all data let us draw swarm plots\n",
    "\n",
    "sns.swarmplot(x='gender',y='temperature', data=df)\n",
    "plt.title('Swarm plot to see all temperatures for males and females visually\\n')\n",
    "\n",
    "plt.show()"
   ]
  },
  {
   "cell_type": "markdown",
   "metadata": {},
   "source": [
    "Here we see that there is more variation in Females as compared to Males. And again most data lies in 97 to 99 range."
   ]
  },
  {
   "cell_type": "code",
   "execution_count": 7,
   "metadata": {},
   "outputs": [
    {
     "data": {
      "text/html": [
       "<script>requirejs.config({paths: { 'plotly': ['https://cdn.plot.ly/plotly-latest.min']},});if(!window.Plotly) {{require(['plotly'],function(plotly) {window.Plotly=plotly;});}}</script>"
      ],
      "text/vnd.plotly.v1+html": [
       "<script>requirejs.config({paths: { 'plotly': ['https://cdn.plot.ly/plotly-latest.min']},});if(!window.Plotly) {{require(['plotly'],function(plotly) {window.Plotly=plotly;});}}</script>"
      ]
     },
     "metadata": {},
     "output_type": "display_data"
    },
    {
     "data": {
      "application/vnd.plotly.v1+json": {
       "data": [
        {
         "boxpoints": "all",
         "name": "Temperature",
         "type": "box",
         "x": [
          99.3,
          98.4,
          97.8,
          99.2,
          98,
          99.2,
          98,
          98.8,
          98.4,
          98.6,
          98.8,
          96.7,
          98.2,
          98.7,
          97.8,
          98.8,
          98.3,
          98.2,
          97.2,
          99.4,
          98.3,
          98.2,
          98.6,
          98.4,
          97.8,
          98,
          97.8,
          98.2,
          98.4,
          98.1,
          98.3,
          97.6,
          98.5,
          98.6,
          99.3,
          99.5,
          99.1,
          98.3,
          97.9,
          96.4,
          98.4,
          98.4,
          96.9,
          97.2,
          99,
          97.9,
          97.4,
          97.4,
          97.9,
          97.1,
          98.9,
          98.3,
          98.5,
          98.6,
          98.2,
          98.6,
          98.8,
          98.2,
          98.2,
          97.6,
          99.1,
          98.4,
          98.2,
          98.6,
          98.7,
          97.4,
          97.4,
          98.6,
          98.7,
          98.9,
          98.1,
          97.7,
          98,
          98.8,
          99,
          98.8,
          98,
          98.4,
          97.4,
          97.6,
          98.8,
          98,
          97.5,
          99.2,
          98.6,
          97.1,
          98.6,
          98,
          98.7,
          98.1,
          97.8,
          100,
          98.8,
          97.1,
          97.8,
          96.8,
          99.9,
          98.7,
          98.8,
          98,
          99,
          98.5,
          98,
          99.4,
          97.6,
          96.7,
          97,
          98.6,
          98.7,
          97.3,
          98.8,
          98,
          98.2,
          99.1,
          99,
          98,
          100.8,
          97.8,
          98.7,
          98.4,
          97.7,
          97.9,
          99,
          97.2,
          97.5,
          96.3,
          97.7,
          98.2,
          97.9,
          98.7
         ]
        }
       ],
       "layout": {}
      },
      "text/html": [
       "<div id=\"5385a3fd-629b-481b-a909-9cdc4cafb815\" style=\"height: 525px; width: 100%;\" class=\"plotly-graph-div\"></div><script type=\"text/javascript\">require([\"plotly\"], function(Plotly) { window.PLOTLYENV=window.PLOTLYENV || {};window.PLOTLYENV.BASE_URL=\"https://plot.ly\";Plotly.newPlot(\"5385a3fd-629b-481b-a909-9cdc4cafb815\", [{\"type\": \"box\", \"x\": [99.3, 98.4, 97.8, 99.2, 98.0, 99.2, 98.0, 98.8, 98.4, 98.6, 98.8, 96.7, 98.2, 98.7, 97.8, 98.8, 98.3, 98.2, 97.2, 99.4, 98.3, 98.2, 98.6, 98.4, 97.8, 98.0, 97.8, 98.2, 98.4, 98.1, 98.3, 97.6, 98.5, 98.6, 99.3, 99.5, 99.1, 98.3, 97.9, 96.4, 98.4, 98.4, 96.9, 97.2, 99.0, 97.9, 97.4, 97.4, 97.9, 97.1, 98.9, 98.3, 98.5, 98.6, 98.2, 98.6, 98.8, 98.2, 98.2, 97.6, 99.1, 98.4, 98.2, 98.6, 98.7, 97.4, 97.4, 98.6, 98.7, 98.9, 98.1, 97.7, 98.0, 98.8, 99.0, 98.8, 98.0, 98.4, 97.4, 97.6, 98.8, 98.0, 97.5, 99.2, 98.6, 97.1, 98.6, 98.0, 98.7, 98.1, 97.8, 100.0, 98.8, 97.1, 97.8, 96.8, 99.9, 98.7, 98.8, 98.0, 99.0, 98.5, 98.0, 99.4, 97.6, 96.7, 97.0, 98.6, 98.7, 97.3, 98.8, 98.0, 98.2, 99.1, 99.0, 98.0, 100.8, 97.8, 98.7, 98.4, 97.7, 97.9, 99.0, 97.2, 97.5, 96.3, 97.7, 98.2, 97.9, 98.7], \"boxpoints\": \"all\", \"name\": \"Temperature\"}], {}, {\"showLink\": true, \"linkText\": \"Export to plot.ly\"})});</script>"
      ],
      "text/vnd.plotly.v1+html": [
       "<div id=\"5385a3fd-629b-481b-a909-9cdc4cafb815\" style=\"height: 525px; width: 100%;\" class=\"plotly-graph-div\"></div><script type=\"text/javascript\">require([\"plotly\"], function(Plotly) { window.PLOTLYENV=window.PLOTLYENV || {};window.PLOTLYENV.BASE_URL=\"https://plot.ly\";Plotly.newPlot(\"5385a3fd-629b-481b-a909-9cdc4cafb815\", [{\"type\": \"box\", \"x\": [99.3, 98.4, 97.8, 99.2, 98.0, 99.2, 98.0, 98.8, 98.4, 98.6, 98.8, 96.7, 98.2, 98.7, 97.8, 98.8, 98.3, 98.2, 97.2, 99.4, 98.3, 98.2, 98.6, 98.4, 97.8, 98.0, 97.8, 98.2, 98.4, 98.1, 98.3, 97.6, 98.5, 98.6, 99.3, 99.5, 99.1, 98.3, 97.9, 96.4, 98.4, 98.4, 96.9, 97.2, 99.0, 97.9, 97.4, 97.4, 97.9, 97.1, 98.9, 98.3, 98.5, 98.6, 98.2, 98.6, 98.8, 98.2, 98.2, 97.6, 99.1, 98.4, 98.2, 98.6, 98.7, 97.4, 97.4, 98.6, 98.7, 98.9, 98.1, 97.7, 98.0, 98.8, 99.0, 98.8, 98.0, 98.4, 97.4, 97.6, 98.8, 98.0, 97.5, 99.2, 98.6, 97.1, 98.6, 98.0, 98.7, 98.1, 97.8, 100.0, 98.8, 97.1, 97.8, 96.8, 99.9, 98.7, 98.8, 98.0, 99.0, 98.5, 98.0, 99.4, 97.6, 96.7, 97.0, 98.6, 98.7, 97.3, 98.8, 98.0, 98.2, 99.1, 99.0, 98.0, 100.8, 97.8, 98.7, 98.4, 97.7, 97.9, 99.0, 97.2, 97.5, 96.3, 97.7, 98.2, 97.9, 98.7], \"boxpoints\": \"all\", \"name\": \"Temperature\"}], {}, {\"showLink\": true, \"linkText\": \"Export to plot.ly\"})});</script>"
      ]
     },
     "metadata": {},
     "output_type": "display_data"
    }
   ],
   "source": [
    "import plotly.offline as offline\n",
    "import plotly.graph_objs as go\n",
    "\n",
    "offline.init_notebook_mode(connected=True)\n",
    "\n",
    "box = go.Box(x=list(df.temperature),boxpoints='all',name='Temperature')\n",
    "data = [box]\n",
    "fig = go.Figure(data=data)\n",
    "offline.iplot(fig)\n"
   ]
  },
  {
   "cell_type": "code",
   "execution_count": 8,
   "metadata": {},
   "outputs": [
    {
     "data": {
      "image/png": "[encoded data removed]",
      "text/plain": [
       "<matplotlib.figure.Figure at 0x1088eb828>"
      ]
     },
     "metadata": {},
     "output_type": "display_data"
    }
   ],
   "source": [
    "import pylab \n",
    "import scipy.stats as stats\n",
    "\n",
    "stats.probplot(df.temperature, dist=\"norm\", plot=pylab)\n",
    "pylab.show()"
   ]
  },
  {
   "cell_type": "code",
   "execution_count": 9,
   "metadata": {},
   "outputs": [
    {
     "data": {
      "image/png": "[encoded data removed]",
      "text/plain": [
       "<matplotlib.figure.Figure at 0x103aa6940>"
      ]
     },
     "metadata": {},
     "output_type": "display_data"
    }
   ],
   "source": [
    "# Now let us draw ECDF chart for some more insights\n",
    "\n",
    "# number of data points\n",
    "n = len(df['temperature'])\n",
    "\n",
    "# ECD empirical cumulative distribution of temperature\n",
    "y = np.arange(1,n+1)/n\n",
    "x = np.sort(df['temperature'])\n",
    "\n",
    "plt.plot(x,y,marker='.',linestyle='none')\n",
    "plt.xlabel('Temperature')\n",
    "plt.ylabel('ECDF')\n",
    "\n",
    "plt.show()"
   ]
  },
  {
   "cell_type": "code",
   "execution_count": 10,
   "metadata": {
    "scrolled": true
   },
   "outputs": [
    {
     "data": {
      "image/png": "[encoded data removed]",
      "text/plain": [
       "<matplotlib.figure.Figure at 0x1086af160>"
      ]
     },
     "metadata": {},
     "output_type": "display_data"
    }
   ],
   "source": [
    "# Let us plot assume that the sample data is indeed from a normal distribution. We will use the sample mean and std\n",
    "# to estimate the normal population parameters\n",
    "\n",
    "mean = np.mean(df['temperature'])\n",
    "std = np.std(df['temperature'])\n",
    "\n",
    "samples = np.random.normal(mean,std,100000)\n",
    "\n",
    "plt.hist(samples,bins=100,normed=True,histtype='step',color='red')\n",
    "plt.hist(df['temperature'],bins=11,histtype='step',normed=True)\n",
    "plt.xlabel('Temperature')\n",
    "plt.ylabel('Probability Function')\n",
    "plt.title('Given data versus Sample from normal distribution')\n",
    "\n",
    "plt.show()"
   ]
  },
  {
   "cell_type": "markdown",
   "metadata": {},
   "source": [
    "The historgram for the given data looks to be close to normal distribution. But we should do more analysis before drawing any conclustion."
   ]
  },
  {
   "cell_type": "code",
   "execution_count": 11,
   "metadata": {
    "collapsed": true
   },
   "outputs": [],
   "source": [
    "# ECDF function to draw ecdf curve for any given data\n",
    "\n",
    "def ecdf(data):\n",
    "    # number of data points\n",
    "    n = len(data)\n",
    "\n",
    "    # ECD empirical cumulative distribution of temperature\n",
    "    y = np.arange(1,n+1)/n\n",
    "    x = np.sort(data)\n",
    "    return (x,y)"
   ]
  },
  {
   "cell_type": "code",
   "execution_count": 12,
   "metadata": {},
   "outputs": [
    {
     "data": {
      "image/png": "[encoded data removed]",
      "text/plain": [
       "<matplotlib.figure.Figure at 0x1a124ae160>"
      ]
     },
     "metadata": {},
     "output_type": "display_data"
    }
   ],
   "source": [
    "# draw ECDF for given data and sample from normal distribution\n",
    "\n",
    "x,y = ecdf(df['temperature'])\n",
    "plt.plot(x,y,marker='.',linestyle='none')\n",
    "\n",
    "a,b = ecdf(samples)\n",
    "plt.plot(a,b,marker='.',linestyle='none',color='red')\n",
    "\n",
    "plt.xlabel('Temperature')\n",
    "plt.ylabel('Cumulative Probability Function')\n",
    "plt.title('Given data versus Sample from normal distribution')\n",
    "\n",
    "plt.show()"
   ]
  },
  {
   "cell_type": "markdown",
   "metadata": {},
   "source": [
    "**Is the distribution of body temperatures normal?**  \n",
    "\n",
    "**Is the sample size large? Are the observations independent?**"
   ]
  },
  {
   "cell_type": "markdown",
   "metadata": {},
   "source": [
    "The cumulative density function for the given data is very close to normally distributed data. This tells strongly that the Human Body Temperature is nomrally distributed.\n",
    "\n",
    "The Central Limit Theorem states that the distribution of sample mean is approximately normal. The approximation can be poor if the sample size is small, but it improves with larger sample sizes.\n",
    "\n",
    "After all the analysis we can conclude that the mean Human body temperature is nearly normally distributed. Here is the evidence:\n",
    "1. The sample oberservations are independent. Since the population is all the humans. And our sample observations are far less that 10% of the population, we can say that they are independent.\n",
    "\n",
    "2. The sample size is large: n>=30 is a good rule of thumb. Here our sample size is 130.\n",
    "\n",
    "3. The sample is not strongly skewed. So we can make a guess that population is also not strongly skewed. However, we can't be 100% sure. But that's our assumption."
   ]
  },
  {
   "cell_type": "markdown",
   "metadata": {},
   "source": [
    "**Bootstrap Hypothesis Test**"
   ]
  },
  {
   "cell_type": "code",
   "execution_count": 13,
   "metadata": {},
   "outputs": [
    {
     "data": {
      "text/plain": [
       "98.298461538461538"
      ]
     },
     "execution_count": 13,
     "metadata": {},
     "output_type": "execute_result"
    }
   ],
   "source": [
    "# bootstrap hypothesis test\n",
    "# Since we dont have multiple samples and we want to draw conclusions about the population parameters, we can utilize\n",
    "# bootstrap sampling. Basic method involves taking random samples from the one given sample. And finding out the \n",
    "# confidence interval for the population parameter\n",
    "\n",
    "# select a random value from the given sample\n",
    "sample_size = len(df['temperature'])\n",
    "bs_val = np.random.choice(df['temperature'],replace=True,size=sample_size)\n",
    "np.mean(bs_val)"
   ]
  },
  {
   "cell_type": "code",
   "execution_count": 14,
   "metadata": {},
   "outputs": [
    {
     "data": {
      "text/plain": [
       "array([  98.3,   97.9,   97.8,   98.8,   98. ,   98. ,   98. ,   99.4,\n",
       "         97.8,   97.6,   98.2,   98.9,   98.4,   98.7,   98. ,   98. ,\n",
       "         97.4,   98.4,   98.6,   97.7,   99. ,   98.7,   98.7,   97.6,\n",
       "         98.6,   98.3,   96.7,   98.4,   97.4,   98.7,   98.1,   99.2,\n",
       "         98.7,   98.3,   98.4,   97.4,   98.9,   97.2,   98.8,   96.8,\n",
       "         98.4,   98.6,   99.4,   98.2,   99.2,   98.3,   99.4,   98.8,\n",
       "         98.4,   98.4,   98.4,   98.4,   98.6,   98. ,   98. ,   99.9,\n",
       "         98.7,   97.4,   98.8,   98.8,   98.2,   98.4,   98.3,   99. ,\n",
       "         98.2,   97.1,   99. ,   98.8,   98.8,   97.4,   99.2,   97.9,\n",
       "         98.2,   97.2,   96.3,   97. ,   98.6,   98.7,   98.1,   99.2,\n",
       "         97. ,   98.6,   99.1,   98.8,   97.7,   98.4,   99.5,   99. ,\n",
       "         98.9,   99.3,   96.7,   98.1,   98.8,   99.3,   98. ,   98.5,\n",
       "         98.8,   97.8,   98.6,   98. ,   98.3,   99. ,   98.2,   99. ,\n",
       "        100. ,   97.5,   99.2,   97.9,   98. ,   98.3,   97.9,   97.3,\n",
       "         98.4,   97.7,   98.1,   98.8,   97.4,   99.2,   97.5,   97.9,\n",
       "         97.2,   99.4,   97.8,   98.1,   98.7,   98.2,   97.1,   97.8,\n",
       "         97.7,   98.8])"
      ]
     },
     "execution_count": 14,
     "metadata": {},
     "output_type": "execute_result"
    }
   ],
   "source": [
    "bs_val"
   ]
  },
  {
   "cell_type": "code",
   "execution_count": 15,
   "metadata": {
    "collapsed": true
   },
   "outputs": [],
   "source": [
    "def bs_statistic(data, func, size):\n",
    "    bs_sample_stats = np.empty(size)\n",
    "    for i in range(size):\n",
    "        bs_val = np.random.choice(data,replace=True,size=sample_size)\n",
    "        bs_sample_stats[i] = func(bs_val)\n",
    "    return bs_sample_stats"
   ]
  },
  {
   "cell_type": "code",
   "execution_count": 16,
   "metadata": {},
   "outputs": [
    {
     "data": {
      "text/plain": [
       "array([ 98.12692308,  98.37692308])"
      ]
     },
     "execution_count": 16,
     "metadata": {},
     "output_type": "execute_result"
    }
   ],
   "source": [
    "bs_sample_stat = bs_statistic(df['temperature'],np.mean,10000)\n",
    "# 95% confidence limit\n",
    "np.percentile(bs_sample_stat,[2.5,97.5])"
   ]
  },
  {
   "cell_type": "code",
   "execution_count": 17,
   "metadata": {},
   "outputs": [
    {
     "data": {
      "text/plain": [
       "array([ 98.08845769,  98.41692308])"
      ]
     },
     "execution_count": 17,
     "metadata": {},
     "output_type": "execute_result"
    }
   ],
   "source": [
    "# 99% confidence limit\n",
    "np.percentile(bs_sample_stat,[0.5,99.5])"
   ]
  },
  {
   "cell_type": "code",
   "execution_count": 18,
   "metadata": {},
   "outputs": [
    {
     "name": "stdout",
     "output_type": "stream",
     "text": [
      "0    99.650769\n",
      "1    98.750769\n",
      "2    98.150769\n",
      "3    99.550769\n",
      "4    98.350769\n",
      "Name: temperature, dtype: float64\n"
     ]
    }
   ],
   "source": [
    "# The true population mean of 98.6 degrees F doesn't fit in the 99% confidence interval.\n",
    "# Let us do further hypothesis testing to find out\n",
    "\n",
    "# Our sample mean is 98.25. If the true population mean is 98.6 then what are the chances that we will get such\n",
    "# extreme value of 98.25?\n",
    "\n",
    "# Let us test the null hypothesis that true mean is 98.6 F.\n",
    "# Shift the sample values assuming that 98.6 F is true mean. And since the sample is close to normal we can assume\n",
    "# that the population std can be estimated by sample std.\n",
    "\n",
    "sample = df['temperature']\n",
    "sample_mean = np.mean(sample)\n",
    "shifted_sample = sample - sample_mean + 98.6\n",
    "print(shifted_sample[0:5])\n"
   ]
  },
  {
   "cell_type": "code",
   "execution_count": 19,
   "metadata": {
    "collapsed": true
   },
   "outputs": [],
   "source": [
    "bs_shifted_sample_stat = bs_statistic(shifted_sample,np.mean,10000)"
   ]
  },
  {
   "cell_type": "code",
   "execution_count": 20,
   "metadata": {},
   "outputs": [
    {
     "data": {
      "text/plain": [
       "0.0"
      ]
     },
     "execution_count": 20,
     "metadata": {},
     "output_type": "execute_result"
    }
   ],
   "source": [
    "# Calculate the p value\n",
    "p = np.sum(bs_shifted_sample_stat<=98.25)/len(bs_shifted_sample_stat)\n",
    "p"
   ]
  },
  {
   "cell_type": "markdown",
   "metadata": {},
   "source": [
    "The above p value of 0 strongly suggests that the population mean is not 98.6. Because it was true then the chance of getting the sample mean of 98.25 is 0.\n"
   ]
  },
  {
   "cell_type": "markdown",
   "metadata": {},
   "source": [
    "**Frequentist Tests**"
   ]
  },
  {
   "cell_type": "markdown",
   "metadata": {},
   "source": [
    "Frequentist statistical testing.\n",
    "Statistical hypothesis test involves making a null hypothesis about our data assuming that nothing interesting \n",
    "is going on. \n",
    "The purpose of the hypothesis test is to determine whether its true given the sample data. If there \n",
    "is little data against the null hypothesis we accept it. Else we reject it in favor of alternate hypothesis.\n",
    "\n",
    "Null hypotheis: The true population mean is 98.6$^{\\circ}$F\n",
    "\n",
    "            H0: μ−98.6=0\n",
    "            \n",
    "Alternative hypothesis: The true population mean is not 98.6$^{\\circ}$F\n",
    "\n",
    "            H1: μ−98.6<>0\n",
    "            \n",
    "Significance Level: 99.9% Confidence\n",
    "\n",
    "            α=0.01"
   ]
  },
  {
   "cell_type": "code",
   "execution_count": 21,
   "metadata": {
    "collapsed": true
   },
   "outputs": [],
   "source": [
    "# To test the above Null Hypothesis we can apply T or Z tests.\n",
    "# In this situaion a Z test is more appropriate because \n",
    "        # 1.the sample is bigger than 30\n",
    "        # 2.the data in sample are independent"
   ]
  },
  {
   "cell_type": "code",
   "execution_count": 22,
   "metadata": {
    "collapsed": true
   },
   "outputs": [],
   "source": [
    "from scipy import stats"
   ]
  },
  {
   "cell_type": "code",
   "execution_count": 23,
   "metadata": {},
   "outputs": [
    {
     "name": "stdout",
     "output_type": "stream",
     "text": [
      "z score of sample mean is : -5.47592520208\n",
      "p value:  4.35231516588e-08\n",
      "confidence interval:  (98.123682111456645, 98.37477942700491)\n"
     ]
    }
   ],
   "source": [
    "# Let us do the Z test first\n",
    "\n",
    "def do_z_test(sample):\n",
    "    # mean of sample\n",
    "    mean =  np.mean(sample)\n",
    "\n",
    "    # population standard deviation estimate\n",
    "    sigma = np.std(sample)/np.sqrt(len(sample))\n",
    "\n",
    "    # calculate the z score of the sample mean\n",
    "    z = (mean - 98.6)/sigma\n",
    "    print('z score of sample mean is :', z)\n",
    "\n",
    "    p = stats.norm.cdf(z)*2\n",
    "    print('p value: ', p)\n",
    "\n",
    "    # z_critical for chose alpha\n",
    "    z_critical = stats.norm.ppf(q = 0.9995)\n",
    "    #print('z_critical value: ', z_critical)\n",
    "\n",
    "    # margin of error for chose alpha\n",
    "    me = z_critical * sigma\n",
    "    #print('margin of error: ', me)\n",
    "\n",
    "    # confidence interval\n",
    "    #conf_interval = (mean-me, mean+me)\n",
    "    conf_interval = stats.norm.interval(alpha=0.95,loc=mean,scale=sigma)\n",
    "    print('confidence interval: ', conf_interval)\n",
    "    \n",
    "do_z_test(df.temperature)"
   ]
  },
  {
   "cell_type": "markdown",
   "metadata": {},
   "source": [
    "Above values suggests that the chance to get such an extreme value as our sample mean if the Null Hypothesis was true is very close to 0 (4.35 e-08). So we can reject the Null Hypothesis."
   ]
  },
  {
   "cell_type": "code",
   "execution_count": 24,
   "metadata": {},
   "outputs": [
    {
     "name": "stdout",
     "output_type": "stream",
     "text": [
      "t statistic of one sample T test:  -5.45482329236\n",
      "p value for one sample T test:  2.41063204156e-07\n",
      "confidence interval:  (98.033517143547087, 98.464944394914468)\n"
     ]
    }
   ],
   "source": [
    "# Let us now do T test\n",
    "# calculate the z score of the sample mean\n",
    "\n",
    "def do_t_test(sample):\n",
    "    # mean of sample\n",
    "    mean =  np.mean(sample)\n",
    "\n",
    "    # population standard deviation estimate\n",
    "    sigma = np.std(sample)/np.sqrt(len(sample))\n",
    "    \n",
    "    t,p = stats.ttest_1samp(sample,98.6)\n",
    "    print('t statistic of one sample T test: ', t)\n",
    "    print('p value for one sample T test: ', p)\n",
    "\n",
    "    # degrees of freedom\n",
    "    dof = len(sample) - 1\n",
    "    \n",
    "    # t_critical for chose alpha\n",
    "    t_critical = stats.t.ppf(q = 0.9995,df=dof)\n",
    "    #print('t_critical value: ', z_critical)\n",
    "\n",
    "    # margin of error for chose alpha\n",
    "    me = t_critical * sigma\n",
    "    #print('margin of error: ', me)\n",
    "\n",
    "    # confidence interval\n",
    "    # conf_interval = (mean-me, mean+me)\n",
    "    conf_interval = stats.t.interval(alpha=0.999, df=dof, loc= mean, scale= sigma)\n",
    "    print('confidence interval: ', conf_interval)\n",
    "    \n",
    "do_t_test(df.temperature)"
   ]
  },
  {
   "cell_type": "markdown",
   "metadata": {},
   "source": [
    "There is not much difference between the Z and T test results. Theoretically also, we know that when the sample size is greater than 30 than the T distribution becomes more like Normal distribution. The confidence interval is wider for Z test as it is more lenient and less confident of the results. When we have more a big sample size its better to use Z test confidence interval to give more accurate picture."
   ]
  },
  {
   "cell_type": "markdown",
   "metadata": {},
   "source": [
    "**Frequentist tests for sample size of 10**"
   ]
  },
  {
   "cell_type": "code",
   "execution_count": 25,
   "metadata": {},
   "outputs": [
    {
     "name": "stdout",
     "output_type": "stream",
     "text": [
      "small sample of size 10:  [ 98.   98.8  97.8  97.   97.7  98.3  98.   97.9  99.   98. ]\n"
     ]
    }
   ],
   "source": [
    "# Draw a smaller sample of size 10 from the original sample\n",
    "np.random.seed(seed=42)\n",
    "small_sample = np.random.choice(df.temperature, size=10)\n",
    "print('small sample of size 10: ', small_sample)"
   ]
  },
  {
   "cell_type": "code",
   "execution_count": 26,
   "metadata": {},
   "outputs": [
    {
     "name": "stdout",
     "output_type": "stream",
     "text": [
      "z score of sample mean is : -3.26078041701\n",
      "p value:  0.0011110604539\n",
      "confidence interval:  (97.719410370022359, 98.380589629977635)\n"
     ]
    }
   ],
   "source": [
    "# Do the Z test for smaller sample of size 10\n",
    "do_z_test(small_sample)"
   ]
  },
  {
   "cell_type": "code",
   "execution_count": 27,
   "metadata": {},
   "outputs": [
    {
     "name": "stdout",
     "output_type": "stream",
     "text": [
      "t statistic of one sample T test:  -3.09344792023\n",
      "p value for one sample T test:  0.0128577046048\n",
      "confidence interval:  (97.243597364438273, 98.856402635561736)\n"
     ]
    }
   ],
   "source": [
    "# Do the T test for smaller sample of size 10\n",
    "do_t_test(small_sample)"
   ]
  },
  {
   "cell_type": "markdown",
   "metadata": {},
   "source": [
    "There is some difference between the Z and T test results. Again, the confidence interval is wider for Z test as it is more lenient and less confident of the results. Since we have small sample size in this case, its better to use T test confidence interval with bigger range."
   ]
  },
  {
   "cell_type": "markdown",
   "metadata": {},
   "source": [
    "**What temperature can be considered \"abnormal\"**"
   ]
  },
  {
   "cell_type": "markdown",
   "metadata": {},
   "source": [
    "To judge between a normal and abnormal temperature, we need to find a range of normal temperatures. From our previous analysis we saw that our sample data is approximately normal. So we can find the 95% confidence interval for that nomral distribution and that would be our normal human body temperature. Anything outside that temperature would be abnormal."
   ]
  },
  {
   "cell_type": "code",
   "execution_count": 28,
   "metadata": {},
   "outputs": [
    {
     "name": "stdout",
     "output_type": "stream",
     "text": [
      "margin of error:  1.43147494248\n",
      "confidence interval from margin of error is (mean-moe,mean+moe):  (96.81775582674824, 99.680705711713316)\n",
      "\n",
      "any temperature outside the range of  (96.81775582674824, 99.680705711713316) is abnormal\n"
     ]
    }
   ],
   "source": [
    "# mean and std for our normal distribution based on given sample\n",
    "mean = np.mean(df.temperature)\n",
    "std = np.std(df.temperature)\n",
    "\n",
    "# margin of error\n",
    "z_critical = stats.norm.ppf(q = 0.975)\n",
    "moe = z_critical * std\n",
    "print('margin of error: ', moe)\n",
    "print('confidence interval from margin of error is (mean-moe,mean+moe): ', (mean-moe,mean+moe))\n",
    "\n",
    "# 95% confidence interval using stats lib\n",
    "ci = stats.norm.interval(alpha=0.95,loc=mean,scale=std)\n",
    "print('\\nany temperature outside the range of ',ci,'is abnormal')"
   ]
  },
  {
   "cell_type": "markdown",
   "metadata": {
    "collapsed": true
   },
   "source": [
    "**Difference between males and females in normal temperature**"
   ]
  },
  {
   "cell_type": "code",
   "execution_count": 29,
   "metadata": {
    "collapsed": true
   },
   "outputs": [],
   "source": [
    "# Let us see the cdfs of the female and male samples"
   ]
  },
  {
   "cell_type": "code",
   "execution_count": 30,
   "metadata": {},
   "outputs": [
    {
     "ename": "NameError",
     "evalue": "name 'male_sample' is not defined",
     "output_type": "error",
     "traceback": [
      "\u001b[0;31m---------------------------------------------------------------------------\u001b[0m",
      "\u001b[0;31mNameError\u001b[0m                                 Traceback (most recent call last)",
      "\u001b[0;32m<ipython-input-30-7dee7be3f76e>\u001b[0m in \u001b[0;36m<module>\u001b[0;34m()\u001b[0m\n\u001b[0;32m----> 1\u001b[0;31m \u001b[0mplt\u001b[0m\u001b[0;34m.\u001b[0m\u001b[0mhist\u001b[0m\u001b[0;34m(\u001b[0m\u001b[0mmale_sample\u001b[0m\u001b[0;34m,\u001b[0m\u001b[0mhisttype\u001b[0m\u001b[0;34m=\u001b[0m\u001b[0;34m'step'\u001b[0m\u001b[0;34m,\u001b[0m\u001b[0mcolor\u001b[0m\u001b[0;34m=\u001b[0m\u001b[0;34m'blue'\u001b[0m\u001b[0;34m)\u001b[0m\u001b[0;34m\u001b[0m\u001b[0m\n\u001b[0m\u001b[1;32m      2\u001b[0m \u001b[0mplt\u001b[0m\u001b[0;34m.\u001b[0m\u001b[0mhist\u001b[0m\u001b[0;34m(\u001b[0m\u001b[0mfemale_sample\u001b[0m\u001b[0;34m,\u001b[0m\u001b[0mhisttype\u001b[0m\u001b[0;34m=\u001b[0m\u001b[0;34m'step'\u001b[0m\u001b[0;34m,\u001b[0m\u001b[0mcolor\u001b[0m\u001b[0;34m=\u001b[0m\u001b[0;34m'red'\u001b[0m\u001b[0;34m)\u001b[0m\u001b[0;34m\u001b[0m\u001b[0m\n",
      "\u001b[0;31mNameError\u001b[0m: name 'male_sample' is not defined"
     ]
    }
   ],
   "source": [
    "plt.hist(male_sample,histtype='step',color='blue')\n",
    "plt.hist(female_sample,histtype='step',color='red')"
   ]
  },
  {
   "cell_type": "code",
   "execution_count": null,
   "metadata": {},
   "outputs": [],
   "source": [
    "plt.show()"
   ]
  },
  {
   "cell_type": "code",
   "execution_count": null,
   "metadata": {
    "scrolled": true
   },
   "outputs": [],
   "source": [
    "x_f,y_f = ecdf(female_sample)\n",
    "plt.plot(x_f,y_f,marker='.',linestyle='none',color='red')\n",
    "\n",
    "x_m,y_m = ecdf(male_sample)\n",
    "plt.plot(x_m,y_m,marker='.',linestyle='none',color='blue')\n",
    "\n",
    "plt.show()"
   ]
  },
  {
   "cell_type": "markdown",
   "metadata": {},
   "source": [
    "Our Null hypothesis to test out is that the male and female population temperatures are same. Against the alternate hypothesis that they are different."
   ]
  },
  {
   "cell_type": "markdown",
   "metadata": {},
   "source": [
    "**Frequentist Test**"
   ]
  },
  {
   "cell_type": "markdown",
   "metadata": {},
   "source": [
    "Calculate the T-test for the means of two independent samples of male and female temperatures.\n",
    "\n",
    "We can use this test, if we observe two independent samples from the same or different population. The test measures whether the average (expected) value differs significantly across samples. If we observe a large p-value, for example larger than 0.05 or 0.1, then we cannot reject the null hypothesis of identical average scores. If the p-value is smaller than the threshold, e.g. 1%, 5% or 10%, then we reject the null hypothesis of equal averages."
   ]
  },
  {
   "cell_type": "code",
   "execution_count": null,
   "metadata": {
    "collapsed": true
   },
   "outputs": [],
   "source": [
    "# difference between male and female temperatures\n",
    "male_sample = df.temperature[df.gender=='M']\n",
    "female_sample = df.temperature[df.gender=='F']"
   ]
  },
  {
   "cell_type": "code",
   "execution_count": null,
   "metadata": {},
   "outputs": [],
   "source": [
    "stats.ttest_ind(a=male_sample,b=female_sample)"
   ]
  },
  {
   "cell_type": "markdown",
   "metadata": {},
   "source": [
    "Here the pvalue is less than 0.05. So we can reject the null hypothesis that male and female temperatures are same."
   ]
  },
  {
   "cell_type": "markdown",
   "metadata": {},
   "source": [
    "**Bootstrap Test**"
   ]
  },
  {
   "cell_type": "code",
   "execution_count": null,
   "metadata": {
    "collapsed": true
   },
   "outputs": [],
   "source": [
    "def perm_statistic(data, func, size):\n",
    "    ps_sample_stats = np.empty(size)\n",
    "    length = int(len(data)/2)\n",
    "    \n",
    "    for i in range(size):\n",
    "        data = np.random.permutation(data)\n",
    "        sample1 = data[0:length]\n",
    "        sample2 = data[length:]\n",
    "        ps_sample_stats[i] = func(sample1) - func(sample2)\n",
    "    return ps_sample_stats"
   ]
  },
  {
   "cell_type": "code",
   "execution_count": null,
   "metadata": {},
   "outputs": [],
   "source": [
    "np.random.seed(42)\n",
    "ps_sample_stats = perm_statistic(df.temperature, np.mean, 10000)\n",
    "conf_int = np.percentile(ps_sample_stats,[2.5,97.5])\n",
    "print('95% confidence interval for mean of differences: ', conf_int )"
   ]
  },
  {
   "cell_type": "code",
   "execution_count": null,
   "metadata": {},
   "outputs": [],
   "source": [
    "mean_diff = np.mean(female_sample) - np.mean(male_sample)\n",
    "mean_diff"
   ]
  },
  {
   "cell_type": "code",
   "execution_count": null,
   "metadata": {},
   "outputs": [],
   "source": [
    "# calculate p value\n",
    "p = np.sum(ps_sample_stats >= mean_diff)/len(ps_sample_stats)\n",
    "p"
   ]
  },
  {
   "cell_type": "markdown",
   "metadata": {
    "collapsed": true
   },
   "source": [
    "Again, the pvalue is less than 0.01 and close to 0. So we can reject the null hypothesis that male and female temperatures are same."
   ]
  },
  {
   "cell_type": "markdown",
   "metadata": {},
   "source": [
    "With all the data analysis it is clear that women have slightly higher average temperature than men."
   ]
  },
  {
   "cell_type": "code",
   "execution_count": null,
   "metadata": {
    "collapsed": true
   },
   "outputs": [],
   "source": []
  }
 ],
 "metadata": {
  "kernelspec": {
   "display_name": "Python 3",
   "language": "python",
   "name": "python3"
  },
  "language_info": {
   "codemirror_mode": {
    "name": "ipython",
    "version": 3
   },
   "file_extension": ".py",
   "mimetype": "text/x-python",
   "name": "python",
   "nbconvert_exporter": "python",
   "pygments_lexer": "ipython3",
   "version": "3.6.3"
  }
 },
 "nbformat": 4,
 "nbformat_minor": 1
}
