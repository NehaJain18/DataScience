{
 "cells": [
  {
   "cell_type": "markdown",
   "metadata": {},
   "source": [
    "<div>\n",
    "<br><br><br><br><br><br><br><br><br><br>\n",
    "<br><br><br><br><br>\n",
    "</div>"
   ]
  },
  {
   "cell_type": "markdown",
   "metadata": {},
   "source": [
    "<div align=\"center\">\n",
    "<h1>Springboard DSC Capstone Project 2</h1>\n",
    "\n",
    "<h3>Google Analytics Customer Revenue Prediction</h3>\n",
    "<h3>Neha Jain Surana</h3>\n",
    "<h3>Nov 2018</h3>\n",
    "</div>"
   ]
  },
  {
   "cell_type": "markdown",
   "metadata": {},
   "source": [
    "<div>\n",
    "<br><br><br><br><br><br><br><br><br><br>\n",
    "<br><br><br><br><br><br><br><br><br><br>\n",
    "</div>"
   ]
  },
  {
   "cell_type": "markdown",
   "metadata": {},
   "source": [
    "[Introduction](#section1)\n",
    "\n",
    "[Client](#section2)\n",
    "\n",
    "[Data and its acquisition](#section3)\n",
    "\n",
    "[Data Wrangling](#section4)\n",
    "- [Parse Json columns](#section5)\n",
    "- [Delete non useful columns](#section6)\n",
    "- [Fill up missing values](#section7)\n",
    "- [Check validity of geo related data](#section8)\n",
    "\n",
    "[Data Exploration](#section5)\n",
    "- [Is there class imbalance?](#section6)\n",
    "- [Visualizing the data](#section7)\n",
    "- [Are some features related to each other?](#section8)\n",
    "- [Are the correlations statistically significant?](#section9)\n",
    "- [Important features to predict the target product category](#section10)\n",
    "- [Features dimension reduction](#section11)\n",
    "    - [PCA - Principal Component Analysis](#section12)\n",
    "    - [T-SNE (T-Distributed Stochastic Neighbouring Entities) visualiztion](#section13)\n",
    "    - [LDA - Linear Discriminant Analysis](#section14)\n",
    "    \n",
    "[Data Modeling](#section15)\n",
    "\n",
    "- [Theory and Approach followed](#section16)\n",
    "- [Overfitting and Underfitting](#section17)\n",
    "- [Model evaluation criteria](#section18)\n",
    "- [Data and code organization](#section19)\n",
    "\n",
    "- [First (Baseline) Model](#section20)\n",
    "    - [Baseline Results](#section21)\n",
    "    - [Held out test set](#section22)\n",
    "    - [Logistic Regression](#section23)\n",
    "    \n",
    "    \n",
    "- [Dealing with class imbalance](#section24)\n",
    "    - [Over sampling](#section25)\n",
    "    - [Under sampling](#section26)\n",
    "    - [Combination of oversampling and undersampling](#section27)\n",
    "    - [Balancing using weights](#section28)\n",
    "    \n",
    "    \n",
    "- [Other simple Models](#section29)\n",
    "    - [MultinomialNB](#section30)\n",
    "    - [Support Vector Machines](#section31)\n",
    "    - [KNN](#section32)\n",
    "    \n",
    "- [Ensembling and Stacking Models](#section33)\n",
    "    - [Bagging Models - Random Forest](#section34)        \n",
    "    - [Boosting Models - Gradient Boosting](#section35)\n",
    "    - [Boosting Models - XGB](#section36)\n",
    "- [Stacking Models](#section37)\n",
    "\n",
    "[Model Comparisons](#section38)\n",
    "\n",
    "[Recommendations for the client](#section39)\n",
    "\n",
    "[Conclusions and Future Analysis](#section40)\n"
   ]
  },
  {
   "cell_type": "markdown",
   "metadata": {},
   "source": [
    "<a id='section1'></a>\n",
    "# Introduction\n",
    "\n",
    "The primary purpose of any business is to make profits for its owners and stakeholders. Also, the 80/20 rule has proven true for many businesses–only a small percentage of customers produce most of the revenue. \n",
    "\n",
    "For an e-store like Google merchandise store, it is nothing different. As such, marketing teams are challenged to make appropriate investments in promotional strategies. But for that, they need as accurate a prediction as possible, of the revenue per customer.\n",
    "\n",
    "Although, the main prediction is not for future, i.e. we predict revenues for the visits already done. But there might be a second phase of the project where we predict for future dates.\n",
    "\n",
    "<a id='section2'></a>\n",
    "# Client\n",
    "\n",
    "Here the client is the company Google and its specific e-store called Google Merchandise Store (GStore). We hope to provide highly accurate revenue predictions per customer visiting the GStore. The outcome should be more actionable operational changes and a better use of marketing budgets. Also, it would be serve as an evidence for those companies who choose to use data analysis on top of GA data, because the current data comes from the same.\n",
    "\n",
    "<a id='section3'></a>\n",
    "# Data and its acquisition\n",
    "\n",
    "The data is provided by the client in the form of csv file. There is some additional test data that can be used to evaluate and report the algorithm success. The main data file has around 900 thousand rows corresponding to each cusomter visit to the GStore. There are multiple columns which contain JSON blobs of varying depth. In one of those JSON columns, totals, the sub-column transactionRevenue contains the revenue information we are trying to predict.\n",
    "\n",
    "Loading the data will not be very simple because the json blobs need to be parsed. I am using the read_csv function provided by the python-pandas library to load the data into datafrme. Json converters are used to parse the Json fields. The result is a table like structure that can be used for processing.\n",
    "\n",
    "Some of the Data Fields:\n",
    "- <b>fullVisitorId</b> - A unique identifier for each user of the Google Merchandise Store.\n",
    "- <b>channelGrouping</b> - The channel via which the user came to the Store.\n",
    "- <b>date</b> - The date on which the user visited the Store.\n",
    "- <b>device</b> - The specifications for the device used to access the Store.\n",
    "- <b>geoNetwork</b> - This section contains information about the geography of the user.\n",
    "- <b>sessionId</b> - A unique identifier for this visit to the store.\n",
    "- <b>socialEngagementType</b> - Engagement type, either \"Socially Engaged\" or \"Not Socially Engaged\".\n",
    "- <b>totals</b> - This section contains aggregate values across the session.\n",
    "- <b>trafficSource</b> - This section contains information about the Traffic Source from which the session originated.\n",
    "- <b>visitId</b> - An identifier for this session. This is part of the value usually stored as the _utmb_ cookie. This is only unique to the user. For a completely unique ID, you should use a combination of fullVisitorId and visitId.\n",
    "- <b>visitNumber</b> - The session number for this user. If this is the first session, then this is set to 1.\n",
    "- <b>visitStartTime</b> - The timestamp (expressed as POSIX time).\n",
    "- <b>hits</b> - This row and nested fields are populated for any and all types of hits. Provides a record of all page visits.\n",
    "- <b>customDimensions</b> - This section contains any user-level or session-level custom dimensions that are set for a session. This is a repeated field and has an entry for each dimension that is set.\n",
    "- <b>totals</b> - This set of columns mostly includes high-level aggregate data.\n"
   ]
  },
  {
   "cell_type": "markdown",
   "metadata": {},
   "source": [
    "<a id='section4'></a>\n",
    "# Data Wrangling\n",
    "Metadata about number of unique and null values for each column, helps to decide what clean up and preprocessing of the data is needed. \n",
    "\n",
    "<a id='section5'></a>\n",
    "### Parse Json columns\n",
    "Columns ('device', 'geoNetwork', 'totals', 'trafficSource') were found to be json blobs. Parsed these columns and added them back to the train/test data.\n",
    "Train data has 55 columns and 903653 rows. The data types are: bool(1), int64(4), object(50)\n",
    "\n",
    "\n",
    "<a id='section6'></a>\n",
    "### Delete non useful columns\n",
    "Columns with 1 unique value and zero null value are not useful in any way and we delete them.\n",
    "\n",
    "<img src=\"../images/non-useful-cols.png\" width=\"400\" align=\"left\">"
   ]
  },
  {
   "cell_type": "markdown",
   "metadata": {},
   "source": [
    "<a id='section7'></a>\n",
    "### Fill up missing values\n",
    "The columns having only one unique value other than nulls, can be treated as boolean. The null can be treated as True or False depending on the other value present. But from the perspective of fitting the model it doesn't matter.\n",
    "\n",
    "    Column                                   : Old values            : New values\n",
    "    totals.bounces                           : ['1' nan]             : [1 0]\n",
    "    totals.newVisits                         : ['1' nan]             : [1 0]\n",
    "    trafficSource.adwordsClickInfo.isVideoAd : [nan False]           : [1 0]\n",
    "    trafficSource.campaignCode               : [nan '11251kjhkvahf'] : [1 0]\n",
    "    trafficSource.isTrueDirect               : [nan True]            : [0 1]\n",
    "\n",
    "The columns having multiple values and nulls, have to filled up for missing values.\n",
    "\n",
    "    Column                                       : Unique values  : Null values \n",
    "    \n",
    "    totals.pageviews                             : 213            : 100         \n",
    "    (Very few null values. null values might indicate no page view. so fill up missing by '0's.)\n",
    "    \n",
    "    totals.transactionRevenue                    : 5332                  : 892138\n",
    "    (Huge number of null values. Null revenue means '0', so replace by it.)\n",
    "    \n",
    "    trafficSource.adwordsClickInfo.page          : 8                     : 882193\n",
    "    (Huge number of null values. So might not be important variable. It's an int, so convert it to int data type. Filling up null with '0's.)\n",
    "    \n",
    "    trafficSource.adContent                      : 44                    : 892707\n",
    "    trafficSource.adwordsClickInfo.adNetworkType : 2                     : 882193\n",
    "    trafficSource.adwordsClickInfo.slot          : 2                     : 882193\n",
    "    trafficSource.keyword                        : 3659                  : 502929\n",
    "    trafficSource.referralPath                   : 1475                  : 572712\n",
    "    (Huge number of null values. So might not be important variable. It's a string value. Filling up nulls by 'Unknown')\n",
    "    \n",
    "    trafficSource.adwordsClickInfo.gclId         : 17774                 : 882092\n",
    "    (It's alpha numeric strings. Filling up nulls by 'Unknown')        \n",
    "\n",
    "\n",
    "<a id='section8'></a>\n",
    "### Check validity of geo related data and clean up if needed\n",
    "- Find out unique geo combinations. \n",
    "- There are values like '(not set)' and 'not available in demo dataset'. We can't do much about them.\n",
    "- Divided the 6 geo columns into 2 parts. The unique combinations of country, sub-continent, continent seems to be fine. There are 222 such rows. Eyeballing them also looks good.\n",
    "- The other unique combinations for city, metro, region seems to have some invalid data. Same city is associated with different regions. This can happen when same city name occurs in two places. So we further valide such combinations.\n",
    "- We found that many of such combinations don't have valid match with country. We delete 3765 such rows. For e.g. \n",
    "\n",
    "<img src=\"../images/invalid-geo-combs.png\" width=\"800\" align=\"left\">\n"
   ]
  },
  {
   "cell_type": "markdown",
   "metadata": {},
   "source": [
    "<a id='section9'></a>\n",
    "# Data Exploration\n",
    "\n",
    "Let us explore all the fields and their relation to the target variable.\n",
    "\n",
    "<a id='section10'></a>\n",
    "### Analyze the target variable\n",
    "\n",
    "The given transaction revenues data is actually the original revenue multiplied by a million. So actual revenues are millionth of the given numbers. The reason behind is to keep the precision of the numbes upto certain length, so that the values are not rounded while being transformed in multiple systems.\n",
    "\n",
    "The percent of revenue generating sessions is only 1.27%. And that means most of the visits don't generate any revenue.\n",
    "\n",
    "<img src=\"../images/non-zero-rev-visits.png\" width=\"800\" align=\"left\">\n",
    "\n",
    "<img src=\"../images/non-zero-rev-visits-cumul.png\" width=\"800\" align=\"left\">\n"
   ]
  },
  {
   "cell_type": "markdown",
   "metadata": {
    "collapsed": true
   },
   "source": [
    "Few things noticed by comparing revenue generating visits vs no-revenue visits. So these all could serve as good features as they have differences in values for revenue vs no-revenue visits.\n",
    "- Bounces are all zeros for revenue generating visits\n",
    "- Campaign code are all ones\n",
    "- Maximum visitNumber is 315 vs 395\n",
    "- Minimum pageview is 2 vs 0\n",
    "- Maximum pageviews is 469 vs 429\n",
    "- Maximum adwordclickinfo page is 1 vs 14\n",
    "\n"
   ]
  },
  {
   "cell_type": "markdown",
   "metadata": {},
   "source": [
    "<a id='section11'></a>\n",
    "### Analyze the visitorIds\n",
    "\n",
    "There are 714167 unique visitor ids for the total of 903653 visits. This tells that there will be huge number of visitors who visit the store only once.\n",
    "\n",
    "Percentage of unique users for:\n",
    "- revenue visits 88.25992150021806\n",
    "- non revenue visits 80.88129190712083\n",
    "- all visits 80.25376491296694\n",
    "    \n",
    "Percent for unique visitors is slightly more for revenue visits as compared to non revenue visits which is little weird because we would expect more visits by some visitor when they buy something.\n",
    "\n",
    "<img src=\"../images/visits-rev.png\" width=\"800\" align=\"left\">\n",
    "\n",
    "<img src=\"../images/visits-tot-rev.png\" width=\"800\" align=\"left\">\n",
    "\n",
    "<img src=\"../images/visits-perct-rev.png\" width=\"800\" align=\"left\">"
   ]
  },
  {
   "cell_type": "markdown",
   "metadata": {},
   "source": [
    "Above all analysis means that when the number of visits by a visitor increases it necessarily doesn't mean that more revenue will be generated\n",
    "\n",
    "<img src=\"../images/session-rev.png\" width=\"800\" align=\"left\">"
   ]
  },
  {
   "cell_type": "markdown",
   "metadata": {},
   "source": [
    "Understanding about visitorIds and revenues\n",
    "- Revenues are evenly spread for all the visits\n",
    "- Proportion of revenue visits decreases as the number of visits by the visitor increases. That is, if a visitor visits the site multiple times, it doesn't mean he/she is buying more and more.\n",
    "- Total revenue increases slights if the number of visits increase\n",
    "- Some visitors have generated revenue multiple times in multiple visits. Maximum is 30 revenue transactions by a visitor."
   ]
  },
  {
   "cell_type": "markdown",
   "metadata": {},
   "source": [
    "<a id='section12'></a>\n",
    "### Analyze the date and visitStartTime\n",
    "\n",
    "We parse the Date and VisitStartTime into following components and visualize them with respect to the revenue. Also, show below are some interesting charts.\n",
    "- Year\n",
    "- Month\n",
    "- Day (of the month)\n",
    "- Day (of the year, Jan 1 is day 1)\n",
    "- Weekday\n",
    "- Hour\n",
    "- Local hour (local hour based on timezone)\n",
    "\n",
    "<img src=\"../images/month-rev.png\" width=\"800\" align=\"left\">\n",
    "<img src=\"../images/day-month-rev.png\" width=\"800\" align=\"left\">\n",
    "<img src=\"../images/weekday-rev.png\" width=\"800\" align=\"left\">\n",
    "<img src=\"../images/hour-rev.png\" width=\"800\" align=\"left\">\n",
    "<img src=\"../images/local-hour-rev.png\" width=\"800\" align=\"left\">\n",
    "<img src=\"../images/visit-start-rev.png\" width=\"800\" align=\"left\">\n",
    "<img src=\"../images/day-session.png\" width=\"800\" align=\"left\">\n",
    "<img src=\"../images/day-all.png\" width=\"800\" align=\"left\">\n"
   ]
  },
  {
   "cell_type": "markdown",
   "metadata": {},
   "source": [
    "Understanding about date and visitStartTime\n",
    "- The visit counts increase in the festival months. But the mean revenue fluctuates in those months.\n",
    "- Both the visit counts and mean revenues drop on weekends. May be people are busy doing other stuff then buying things online.\n",
    "- Assuming large portion of visitors are from North America, the 24 hour pattern shows mean revenue increase in day time, maximizes around 8pm and then drops.\n",
    "- We dont see any pattern for day of the month mean revenue. And the visit counts are pretty uniform. It means all days of the month are same as far as visiting the GStore is considered.\n",
    "- We see weekly patterns for visits and therefore mean and total revenues. And although the visits surge around 50-120 days the mean revenues surge around 120-150 days."
   ]
  },
  {
   "cell_type": "markdown",
   "metadata": {},
   "source": [
    "<a id='section13'></a>\n",
    "### Analyze visitNumber - visit number of a visitor\n",
    "\n",
    "Understanding about visitNumber\n",
    "- Most of the visitors visit less than 5 times. For e.g. number of visit first or second time is around 1 million and it drops very fast. Very few visitors visit for more than 50th time or more.\n",
    "\n",
    "- Same is the case for visits that produce revenue.\n",
    "\n",
    "- It is little strange that there are very few revenue visits such that it is 150-250th visit for that visitor.\n",
    "\n",
    "- Mean revenues are uniformly distributed from 0.1 to 10 for visit numbers 1 to 150. And it is significantly higher for greater visit numbers. It indicates that oftern more number of visits are needed before high valued purchase.\n",
    "\n",
    "<img src=\"../images/visit-no-rev.png\" width=\"800\" align=\"left\">"
   ]
  },
  {
   "cell_type": "markdown",
   "metadata": {},
   "source": [
    "<a id='section14'></a>\n",
    "### Analyze channelGrouping\n",
    "\n",
    "The counts and mean revenues for different channels are almost inversely proportional. That is, the mean revenue is high if a channel grouping is less frequent. For e.g. 'Display' channel.\n",
    "\n",
    "<img src=\"../images/channel.png\" width=\"800\" align=\"left\">"
   ]
  },
  {
   "cell_type": "markdown",
   "metadata": {},
   "source": [
    "<a id='section15'></a>\n",
    "### Analyze device fields\n",
    "\n",
    "<img src=\"../images/browser.png\" width=\"1000\" align=\"left\">\n",
    "\n",
    "<img src=\"../images/device-category.png\" width=\"800\" align=\"left\">\n",
    "\n",
    "<img src=\"../images/is-mobile.png\" width=\"800\" align=\"left\">\n",
    "\n",
    "<img src=\"../images/os.png\" width=\"800\" align=\"left\">"
   ]
  },
  {
   "cell_type": "markdown",
   "metadata": {},
   "source": [
    "<a id='section16'></a>\n",
    "### Analyze Geo fields\n",
    "\n",
    "<img src=\"../images/continent.png\" width=\"800\" align=\"left\">\n",
    "<img src=\"../images/subcontinent.png\" width=\"1000\" align=\"left\">\n",
    "<img src=\"../images/country-visit.png\" width=\"800\" align=\"left\">\n",
    "<img src=\"../images/country-rev.png\" width=\"800\" align=\"left\">\n",
    "<img src=\"../images/city-all.png\" width=\"1000\" align=\"left\">\n"
   ]
  },
  {
   "cell_type": "markdown",
   "metadata": {},
   "source": [
    "<a id='section13'></a>\n",
    "### Analyze new visits\n",
    "\n",
    "More than 70% visits are new visits or first time visits. But as expected the mean revenue from old visitors is high as compared to new visitors.\n",
    "\n",
    "<img src=\"../images/new-visits.png\" width=\"800\" align=\"left\">"
   ]
  },
  {
   "cell_type": "markdown",
   "metadata": {},
   "source": [
    "<a id='section13'></a>\n",
    "### Analyze hits\n",
    "\n",
    "Scatter plot indicates that hits below 100 get huge number of transactions as compared to other hit values. Page views has similar distribution. And it shows that hits and page views are linearly related.\n",
    "\n",
    "<img src=\"../images/hits.png\" width=\"800\" align=\"left\">\n",
    "<img src=\"../images/hits-scatter.png\" width=\"800\" align=\"left\">"
   ]
  },
  {
   "cell_type": "code",
   "execution_count": null,
   "metadata": {
    "collapsed": true
   },
   "outputs": [],
   "source": []
  }
 ],
 "metadata": {
  "kernelspec": {
   "display_name": "Python 3",
   "language": "python",
   "name": "python3"
  },
  "language_info": {
   "codemirror_mode": {
    "name": "ipython",
    "version": 3
   },
   "file_extension": ".py",
   "mimetype": "text/x-python",
   "name": "python",
   "nbconvert_exporter": "python",
   "pygments_lexer": "ipython3",
   "version": "3.6.3"
  },
  "latex_envs": {
   "LaTeX_envs_menu_present": true,
   "autoclose": false,
   "autocomplete": true,
   "bibliofile": "biblio.bib",
   "cite_by": "apalike",
   "current_citInitial": 1,
   "eqLabelWithNumbers": true,
   "eqNumInitial": 1,
   "hotkeys": {
    "equation": "Ctrl-E",
    "itemize": "Ctrl-I"
   },
   "labels_anchors": false,
   "latex_user_defs": false,
   "report_style_numbering": false,
   "user_envs_cfg": false
  }
 },
 "nbformat": 4,
 "nbformat_minor": 2
}
