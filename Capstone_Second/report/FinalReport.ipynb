{
 "cells": [
  {
   "cell_type": "markdown",
   "metadata": {},
   "source": [
    "<div>\n",
    "<br><br><br><br><br><br><br><br><br><br>\n",
    "<br><br><br><br><br>\n",
    "</div>"
   ]
  },
  {
   "cell_type": "markdown",
   "metadata": {},
   "source": [
    "<div align=\"center\">\n",
    "<h1>Springboard DSC Capstone Project 2</h1>\n",
    "\n",
    "<h3>Google Analytics Customer Revenue Prediction</h3>\n",
    "<h3>Neha Jain Surana</h3>\n",
    "<h3>Nov 2018</h3>\n",
    "</div>"
   ]
  },
  {
   "cell_type": "markdown",
   "metadata": {},
   "source": [
    "<div>\n",
    "<br><br><br><br><br><br><br><br><br><br>\n",
    "<br><br><br><br><br><br><br><br><br><br>\n",
    "</div>"
   ]
  },
  {
   "cell_type": "markdown",
   "metadata": {},
   "source": [
    "[Introduction](#section1)\n",
    "\n",
    "[Client](#section2)\n",
    "\n",
    "[Data and its acquisition](#section3)\n",
    "\n",
    "[Data Wrangling](#section4)\n",
    "- [Parse Json columns](#section5)\n",
    "- [Delete non useful columns](#section6)\n",
    "- [Fill up missing values](#section7)\n",
    "- [Check validity of geo related data](#section8)\n",
    "\n",
    "[Data Exploration](#section5)\n",
    "- [Is there class imbalance?](#section6)\n",
    "- [Visualizing the data](#section7)\n",
    "- [Are some features related to each other?](#section8)\n",
    "- [Are the correlations statistically significant?](#section9)\n",
    "- [Important features to predict the target product category](#section10)\n",
    "- [Features dimension reduction](#section11)\n",
    "    - [PCA - Principal Component Analysis](#section12)\n",
    "    - [T-SNE (T-Distributed Stochastic Neighbouring Entities) visualiztion](#section13)\n",
    "    - [LDA - Linear Discriminant Analysis](#section14)\n",
    "    \n",
    "[Data Modeling](#section15)\n",
    "\n",
    "- [Theory and Approach followed](#section16)\n",
    "- [Overfitting and Underfitting](#section17)\n",
    "- [Model evaluation criteria](#section18)\n",
    "- [Data and code organization](#section19)\n",
    "\n",
    "- [First (Baseline) Model](#section20)\n",
    "    - [Baseline Results](#section21)\n",
    "    - [Held out test set](#section22)\n",
    "    - [Logistic Regression](#section23)\n",
    "    \n",
    "    \n",
    "- [Dealing with class imbalance](#section24)\n",
    "    - [Over sampling](#section25)\n",
    "    - [Under sampling](#section26)\n",
    "    - [Combination of oversampling and undersampling](#section27)\n",
    "    - [Balancing using weights](#section28)\n",
    "    \n",
    "    \n",
    "- [Other simple Models](#section29)\n",
    "    - [MultinomialNB](#section30)\n",
    "    - [Support Vector Machines](#section31)\n",
    "    - [KNN](#section32)\n",
    "    \n",
    "- [Ensembling and Stacking Models](#section33)\n",
    "    - [Bagging Models - Random Forest](#section34)        \n",
    "    - [Boosting Models - Gradient Boosting](#section35)\n",
    "    - [Boosting Models - XGB](#section36)\n",
    "- [Stacking Models](#section37)\n",
    "\n",
    "[Model Comparisons](#section38)\n",
    "\n",
    "[Recommendations for the client](#section39)\n",
    "\n",
    "[Conclusions and Future Analysis](#section40)\n"
   ]
  },
  {
   "cell_type": "markdown",
   "metadata": {},
   "source": [
    "<a id='section1'></a>\n",
    "# Introduction\n",
    "\n",
    "The primary purpose of any business is to make profits for its owners and stakeholders. Also, the 80/20 rule has proven true for many businesses–only a small percentage of customers produce most of the revenue. \n",
    "\n",
    "For an e-store like Google merchandise store, it is nothing different. As such, marketing teams are challenged to make appropriate investments in promotional strategies. But for that, they need as accurate a prediction as possible, of the revenue per customer.\n",
    "\n",
    "Although, the main prediction is not for future, i.e. we predict revenues for the visits already done. But there might be a second phase of the project where we predict for future dates.\n",
    "\n",
    "<a id='section2'></a>\n",
    "# Client\n",
    "\n",
    "Here the client is the company Google and its specific e-store called Google Merchandise Store (GStore). We hope to provide highly accurate revenue predictions per customer visiting the GStore. The outcome should be more actionable operational changes and a better use of marketing budgets. Also, it would be serve as an evidence for those companies who choose to use data analysis on top of GA data, because the current data comes from the same.\n",
    "\n",
    "<a id='section3'></a>\n",
    "# Data and its acquisition\n",
    "\n",
    "The data is provided by the client in the form of csv file. There is some additional test data that can be used to evaluate and report the algorithm success. The main data file has around 900 thousand rows corresponding to each cusomter visit to the GStore. There are multiple columns which contain JSON blobs of varying depth. In one of those JSON columns, totals, the sub-column transactionRevenue contains the revenue information we are trying to predict.\n",
    "\n",
    "Loading the data will not be very simple because the json blobs need to be parsed. I am using the read_csv function provided by the python-pandas library to load the data into datafrme. Json converters are used to parse the Json fields. The result is a table like structure that can be used for processing.\n",
    "\n",
    "Some of the Data Fields:\n",
    "- fullVisitorId - A unique identifier for each user of the Google Merchandise Store.\n",
    "- channelGrouping - The channel via which the user came to the Store.\n",
    "- date - The date on which the user visited the Store.\n",
    "- device - The specifications for the device used to access the Store.\n",
    "- geoNetwork - This section contains information about the geography of the user.\n",
    "- sessionId - A unique identifier for this visit to the store.\n",
    "- socialEngagementType - Engagement type, either \"Socially Engaged\" or \"Not Socially Engaged\".\n",
    "- totals - This section contains aggregate values across the session.\n",
    "- trafficSource - This section contains information about the Traffic Source from which the session originated.\n",
    "- visitId - An identifier for this session. This is part of the value usually stored as the _utmb_ cookie. This is only unique to the user. For a completely unique ID, you should use a combination of fullVisitorId and visitId.\n",
    "- visitNumber - The session number for this user. If this is the first session, then this is set to 1.\n",
    "- visitStartTime - The timestamp (expressed as POSIX time).\n",
    "- hits - This row and nested fields are populated for any and all types of hits. Provides a record of all page visits.\n",
    "- customDimensions - This section contains any user-level or session-level custom dimensions that are set for a session. This is a repeated field and has an entry for each dimension that is set.\n",
    "- totals - This set of columns mostly includes high-level aggregate data.\n"
   ]
  },
  {
   "cell_type": "markdown",
   "metadata": {},
   "source": [
    "<a id='section4'></a>\n",
    "# Data Wrangling\n",
    "Metadata about number of unique and null values for each column, helps to decide what clean up and preprocessing of the data is needed. \n",
    "\n",
    "<a id='section5'></a>\n",
    "### Parse Json columns\n",
    "Columns ('device', 'geoNetwork', 'totals', 'trafficSource') were found to be json blobs. Parsed these columns and added them back to the train/test data.\n",
    "Train data has 55 columns and 903653 rows. The data types are: bool(1), int64(4), object(50)\n",
    "\n",
    "\n",
    "<a id='section6'></a>\n",
    "### Delete non useful columns\n",
    "Columns with 1 unique value and zero null value are not useful in any way and we delete them.\n",
    "\n",
    "<img src=\"../images/non-useful-cols.png\" width=\"400\" align=\"left\">"
   ]
  },
  {
   "cell_type": "markdown",
   "metadata": {},
   "source": [
    "<a id='section7'></a>\n",
    "### Fill up missing values\n",
    "temp\n",
    "\n",
    "\n",
    "<a id='section8'></a>\n",
    "### Check validity of geo related data and clean up if needed\n",
    "temp"
   ]
  },
  {
   "cell_type": "markdown",
   "metadata": {},
   "source": [
    "<a id='section6'></a>\n",
    "# Data Exploration"
   ]
  },
  {
   "cell_type": "code",
   "execution_count": null,
   "metadata": {
    "collapsed": true
   },
   "outputs": [],
   "source": []
  }
 ],
 "metadata": {
  "kernelspec": {
   "display_name": "Python 3",
   "language": "python",
   "name": "python3"
  },
  "language_info": {
   "codemirror_mode": {
    "name": "ipython",
    "version": 3
   },
   "file_extension": ".py",
   "mimetype": "text/x-python",
   "name": "python",
   "nbconvert_exporter": "python",
   "pygments_lexer": "ipython3",
   "version": "3.6.3"
  },
  "latex_envs": {
   "LaTeX_envs_menu_present": true,
   "autoclose": false,
   "autocomplete": true,
   "bibliofile": "biblio.bib",
   "cite_by": "apalike",
   "current_citInitial": 1,
   "eqLabelWithNumbers": true,
   "eqNumInitial": 1,
   "hotkeys": {
    "equation": "Ctrl-E",
    "itemize": "Ctrl-I"
   },
   "labels_anchors": false,
   "latex_user_defs": false,
   "report_style_numbering": false,
   "user_envs_cfg": false
  }
 },
 "nbformat": 4,
 "nbformat_minor": 2
}
